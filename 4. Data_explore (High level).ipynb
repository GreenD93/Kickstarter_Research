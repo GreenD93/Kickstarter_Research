{
 "cells": [
  {
   "cell_type": "code",
   "execution_count": 30,
   "metadata": {},
   "outputs": [],
   "source": [
    "from plotnine import *\n",
    "import matplotlib.pyplot as plt\n",
    "import pandas as pd\n",
    "from matplotlib.pyplot import pie, axis, show\n",
    "import seaborn as sns\n",
    "from pandas.api.types import CategoricalDtype\n",
    "from Utilities import T_test\n",
    "plt.rcParams['figure.figsize'] = [20, 8]"
   ]
  },
  {
   "cell_type": "markdown",
   "metadata": {},
   "source": [
    "## Kickstarter Data explore\n",
    "- Project duration은 최소 1일부터 ~ 60일 \n",
    "- Pledge는 project가 live할 때, 언제든지 취소가 가능함 (따라서, 최종적으로 실패했더라도 중간에 project goal을 넘을 수 있음)\n",
    "- Outlier값이 상당히 많은편, Outlier를 제거하고 box plot을 그리면 뚜렷한 차이가 보임"
   ]
  },
  {
   "cell_type": "code",
   "execution_count": 31,
   "metadata": {},
   "outputs": [],
   "source": [
    "df = pd.read_csv('./0803Data/analysis_data.csv',encoding='utf-16')"
   ]
  },
  {
   "cell_type": "code",
   "execution_count": 32,
   "metadata": {},
   "outputs": [
    {
     "data": {
      "text/html": [
       "<div>\n",
       "<style scoped>\n",
       "    .dataframe tbody tr th:only-of-type {\n",
       "        vertical-align: middle;\n",
       "    }\n",
       "\n",
       "    .dataframe tbody tr th {\n",
       "        vertical-align: top;\n",
       "    }\n",
       "\n",
       "    .dataframe thead th {\n",
       "        text-align: right;\n",
       "    }\n",
       "</style>\n",
       "<table border=\"1\" class=\"dataframe\">\n",
       "  <thead>\n",
       "    <tr style=\"text-align: right;\">\n",
       "      <th></th>\n",
       "      <th>project_id</th>\n",
       "      <th>project_launched_at</th>\n",
       "      <th>project_deadline</th>\n",
       "      <th>project_goal</th>\n",
       "      <th>project_category</th>\n",
       "      <th>date</th>\n",
       "      <th>days_to_go</th>\n",
       "      <th>pledged</th>\n",
       "      <th>options_number</th>\n",
       "      <th>title_count</th>\n",
       "      <th>...</th>\n",
       "      <th>diff</th>\n",
       "      <th>success</th>\n",
       "      <th>backer1</th>\n",
       "      <th>backer2</th>\n",
       "      <th>backer3</th>\n",
       "      <th>ratio1</th>\n",
       "      <th>ratio2</th>\n",
       "      <th>ratio3</th>\n",
       "      <th>top_category</th>\n",
       "      <th>super_category</th>\n",
       "    </tr>\n",
       "  </thead>\n",
       "  <tbody>\n",
       "    <tr>\n",
       "      <th>0</th>\n",
       "      <td>1000414645</td>\n",
       "      <td>1560292936</td>\n",
       "      <td>1562884936</td>\n",
       "      <td>10000.0</td>\n",
       "      <td>Science Fiction</td>\n",
       "      <td>1.562814e+09</td>\n",
       "      <td>19.0</td>\n",
       "      <td>20139.0</td>\n",
       "      <td>12.0</td>\n",
       "      <td>35.0</td>\n",
       "      <td>...</td>\n",
       "      <td>2.0</td>\n",
       "      <td>1</td>\n",
       "      <td>13.0</td>\n",
       "      <td>17.0</td>\n",
       "      <td>25.0</td>\n",
       "      <td>37.730000</td>\n",
       "      <td>39.180000</td>\n",
       "      <td>44.94</td>\n",
       "      <td>Film &amp; Video</td>\n",
       "      <td>Film</td>\n",
       "    </tr>\n",
       "    <tr>\n",
       "      <th>1</th>\n",
       "      <td>1002877193</td>\n",
       "      <td>1559689942</td>\n",
       "      <td>1562281942</td>\n",
       "      <td>3000.0</td>\n",
       "      <td>Video Games</td>\n",
       "      <td>1.562213e+09</td>\n",
       "      <td>19.0</td>\n",
       "      <td>3217.0</td>\n",
       "      <td>9.0</td>\n",
       "      <td>13.0</td>\n",
       "      <td>...</td>\n",
       "      <td>2.0</td>\n",
       "      <td>1</td>\n",
       "      <td>127.0</td>\n",
       "      <td>149.0</td>\n",
       "      <td>153.0</td>\n",
       "      <td>48.733333</td>\n",
       "      <td>56.233333</td>\n",
       "      <td>58.40</td>\n",
       "      <td>Games</td>\n",
       "      <td>Games</td>\n",
       "    </tr>\n",
       "    <tr>\n",
       "      <th>2</th>\n",
       "      <td>1002950518</td>\n",
       "      <td>1559343638</td>\n",
       "      <td>1561935638</td>\n",
       "      <td>500.0</td>\n",
       "      <td>Comics</td>\n",
       "      <td>1.561874e+09</td>\n",
       "      <td>17.0</td>\n",
       "      <td>1306.0</td>\n",
       "      <td>11.0</td>\n",
       "      <td>47.0</td>\n",
       "      <td>...</td>\n",
       "      <td>2.0</td>\n",
       "      <td>1</td>\n",
       "      <td>15.0</td>\n",
       "      <td>19.0</td>\n",
       "      <td>22.0</td>\n",
       "      <td>77.600000</td>\n",
       "      <td>89.800000</td>\n",
       "      <td>105.80</td>\n",
       "      <td>Comics</td>\n",
       "      <td>Comics &amp; Illustartion</td>\n",
       "    </tr>\n",
       "    <tr>\n",
       "      <th>3</th>\n",
       "      <td>1003129771</td>\n",
       "      <td>1560307671</td>\n",
       "      <td>1564627671</td>\n",
       "      <td>5000.0</td>\n",
       "      <td>Shorts</td>\n",
       "      <td>1.564618e+09</td>\n",
       "      <td>2.0</td>\n",
       "      <td>14.0</td>\n",
       "      <td>2.0</td>\n",
       "      <td>43.0</td>\n",
       "      <td>...</td>\n",
       "      <td>1.0</td>\n",
       "      <td>0</td>\n",
       "      <td>1.0</td>\n",
       "      <td>1.0</td>\n",
       "      <td>1.0</td>\n",
       "      <td>0.000000</td>\n",
       "      <td>0.000000</td>\n",
       "      <td>0.00</td>\n",
       "      <td>Film &amp; Video</td>\n",
       "      <td>Film</td>\n",
       "    </tr>\n",
       "    <tr>\n",
       "      <th>4</th>\n",
       "      <td>1004145683</td>\n",
       "      <td>1561755322</td>\n",
       "      <td>1564347322</td>\n",
       "      <td>250.0</td>\n",
       "      <td>Tabletop Games</td>\n",
       "      <td>1.564285e+09</td>\n",
       "      <td>17.0</td>\n",
       "      <td>867.0</td>\n",
       "      <td>7.0</td>\n",
       "      <td>20.0</td>\n",
       "      <td>...</td>\n",
       "      <td>-1.0</td>\n",
       "      <td>1</td>\n",
       "      <td>5.0</td>\n",
       "      <td>7.0</td>\n",
       "      <td>8.0</td>\n",
       "      <td>3.600000</td>\n",
       "      <td>54.000000</td>\n",
       "      <td>71.20</td>\n",
       "      <td>Games</td>\n",
       "      <td>Games</td>\n",
       "    </tr>\n",
       "  </tbody>\n",
       "</table>\n",
       "<p>5 rows × 35 columns</p>\n",
       "</div>"
      ],
      "text/plain": [
       "   project_id  project_launched_at  project_deadline  project_goal  \\\n",
       "0  1000414645           1560292936        1562884936       10000.0   \n",
       "1  1002877193           1559689942        1562281942        3000.0   \n",
       "2  1002950518           1559343638        1561935638         500.0   \n",
       "3  1003129771           1560307671        1564627671        5000.0   \n",
       "4  1004145683           1561755322        1564347322         250.0   \n",
       "\n",
       "  project_category          date  days_to_go  pledged  options_number  \\\n",
       "0  Science Fiction  1.562814e+09        19.0  20139.0            12.0   \n",
       "1      Video Games  1.562213e+09        19.0   3217.0             9.0   \n",
       "2           Comics  1.561874e+09        17.0   1306.0            11.0   \n",
       "3           Shorts  1.564618e+09         2.0     14.0             2.0   \n",
       "4   Tabletop Games  1.564285e+09        17.0    867.0             7.0   \n",
       "\n",
       "   title_count          ...            diff  success  backer1  backer2  \\\n",
       "0         35.0          ...             2.0        1     13.0     17.0   \n",
       "1         13.0          ...             2.0        1    127.0    149.0   \n",
       "2         47.0          ...             2.0        1     15.0     19.0   \n",
       "3         43.0          ...             1.0        0      1.0      1.0   \n",
       "4         20.0          ...            -1.0        1      5.0      7.0   \n",
       "\n",
       "   backer3     ratio1     ratio2  ratio3  top_category         super_category  \n",
       "0     25.0  37.730000  39.180000   44.94  Film & Video                   Film  \n",
       "1    153.0  48.733333  56.233333   58.40         Games                  Games  \n",
       "2     22.0  77.600000  89.800000  105.80        Comics  Comics & Illustartion  \n",
       "3      1.0   0.000000   0.000000    0.00  Film & Video                   Film  \n",
       "4      8.0   3.600000  54.000000   71.20         Games                  Games  \n",
       "\n",
       "[5 rows x 35 columns]"
      ]
     },
     "execution_count": 32,
     "metadata": {},
     "output_type": "execute_result"
    }
   ],
   "source": [
    "df.head()"
   ]
  },
  {
   "cell_type": "markdown",
   "metadata": {},
   "source": [
    "### 성공/실패 분류 "
   ]
  },
  {
   "cell_type": "code",
   "execution_count": 33,
   "metadata": {},
   "outputs": [],
   "source": [
    "Success_df = df[df['success'] == 1]\n",
    "Fail_df = df[df['success'] == 0]"
   ]
  },
  {
   "cell_type": "code",
   "execution_count": 34,
   "metadata": {},
   "outputs": [
    {
     "name": "stdout",
     "output_type": "stream",
     "text": [
      "Success project size : 1266\n",
      "Fail project size : 1230\n"
     ]
    }
   ],
   "source": [
    "print('Success project size : {0}'.format(Success_df.shape[0]))\n",
    "print('Fail project size : {0}'.format(Fail_df.shape[0]))"
   ]
  },
  {
   "cell_type": "markdown",
   "metadata": {},
   "source": [
    "### Data explore\n",
    "- 전체로 보는 것은 편차가 너무 큼"
   ]
  },
  {
   "cell_type": "code",
   "execution_count": 35,
   "metadata": {},
   "outputs": [
    {
     "data": {
      "image/png": "[encoded data removed]",
      "text/plain": [
       "<Figure size 432x216 with 1 Axes>"
      ]
     },
     "metadata": {},
     "output_type": "display_data"
    },
    {
     "name": "stdout",
     "output_type": "stream",
     "text": [
      "           group  value\n",
      "fail        fail   1230\n",
      "Success  Success   1266\n",
      "Sum : 2496\n"
     ]
    }
   ],
   "source": [
    "group = ['fail','Success']\n",
    "value = df.groupby(['success'])['success'].count().values\n",
    "pie_df = pd.DataFrame({'group':group,'value':value}, index=['fail','Success'])\n",
    "total_value = pie_df['value'].sum()\n",
    "fig = pie_df.plot(kind='pie',y='value',subplots=True, figsize=(6, 3),colors = ['tomato','yellowgreen'],\\\n",
    "                title= '2,496 projects with video', autopct='%.2f%%', startangle=90,shadow=False,\\\n",
    "                fontsize=10)[0]\n",
    "fig_pie = fig.get_figure()\n",
    "plt.axis('equal')\n",
    "plt.show()\n",
    "\n",
    "fig_pie.savefig('Fig1.pdf')\n",
    "print(pie_df)\n",
    "print('Sum : {0}'.format(pie_df['value'].sum()))"
   ]
  },
  {
   "cell_type": "markdown",
   "metadata": {},
   "source": [
    "### Histogram"
   ]
  },
  {
   "cell_type": "code",
   "execution_count": 36,
   "metadata": {},
   "outputs": [],
   "source": [
    "from scipy import stats\n",
    "import numpy as np\n",
    "# 최적의 bin개수 구하기\n",
    "# stats.iqr(df['Project_goal'], rng=(25, 75), scale=\"raw\", nan_policy=\"omit\")"
   ]
  },
  {
   "cell_type": "code",
   "execution_count": 37,
   "metadata": {},
   "outputs": [],
   "source": [
    "def freedman_diaconis(data, returnas=\"width\"):\n",
    "    \"\"\"\n",
    "    Use Freedman Diaconis rule to compute optimal histogram bin width. \n",
    "    ``returnas`` can be one of \"width\" or \"bins\", indicating whether\n",
    "    the bin width or number of bins should be returned respectively. \n",
    "\n",
    "\n",
    "    Parameters\n",
    "    ----------\n",
    "    data: np.ndarray\n",
    "        One-dimensional array.\n",
    "\n",
    "    returnas: {\"width\", \"bins\"}\n",
    "        If \"width\", return the estimated width for each histogram bin. \n",
    "        If \"bins\", return the number of bins suggested by rule.\n",
    "    \"\"\"\n",
    "    data = np.asarray(data, dtype=np.float_)\n",
    "    IQR  = stats.iqr(data, rng=(25, 75), scale=\"raw\", nan_policy=\"omit\")\n",
    "    N    = data.size\n",
    "    bw   = (2 * IQR) / np.power(N, 1/3)\n",
    "\n",
    "    if returnas==\"width\":\n",
    "        result = bw\n",
    "    else:\n",
    "        datmin, datmax = data.min(), data.max()\n",
    "        datrng = datmax - datmin\n",
    "        result = int((datrng / bw) + 1)\n",
    "    return(result)"
   ]
  },
  {
   "cell_type": "code",
   "execution_count": 38,
   "metadata": {},
   "outputs": [
    {
     "data": {
      "text/plain": [
       "17441"
      ]
     },
     "execution_count": 38,
     "metadata": {},
     "output_type": "execute_result"
    }
   ],
   "source": [
    "# Calculate bins\n",
    "freedman_diaconis(data=df['project_goal'], returnas=\"bins\")"
   ]
  },
  {
   "cell_type": "markdown",
   "metadata": {},
   "source": [
    "### 전체 Data의 Project별 Category 숫자"
   ]
  },
  {
   "cell_type": "code",
   "execution_count": 39,
   "metadata": {},
   "outputs": [
    {
     "name": "stderr",
     "output_type": "stream",
     "text": [
      "/Users/yonggeol/miniconda3/envs/py/lib/python3.6/site-packages/plotnine/ggplot.py:706: UserWarning: Saving 14 x 6 in image.\n",
      "  from_inches(height, units), units))\n",
      "/Users/yonggeol/miniconda3/envs/py/lib/python3.6/site-packages/plotnine/ggplot.py:707: UserWarning: Filename: Project categories histogram.pdf\n",
      "  warn('Filename: {}'.format(filename))\n"
     ]
    },
    {
     "data": {
      "text/plain": [
       "<Figure size 72x576 with 0 Axes>"
      ]
     },
     "metadata": {},
     "output_type": "display_data"
    },
    {
     "data": {
      "image/png": "[encoded data removed]",
      "text/plain": [
       "<Figure size 1400x600 with 1 Axes>"
      ]
     },
     "metadata": {},
     "output_type": "display_data"
    },
    {
     "data": {
      "text/plain": [
       "<ggplot: (-9223372036560796391)>"
      ]
     },
     "execution_count": 39,
     "metadata": {},
     "output_type": "execute_result"
    }
   ],
   "source": [
    "# Determine order and create a categorical type\n",
    "cateogory_list = df['super_category'].value_counts().index.tolist()\n",
    "cateogory_cat = CategoricalDtype(categories=cateogory_list, ordered=True)\n",
    "df['cateogory_cat'] = df['super_category'].astype(str).astype(cateogory_cat)\n",
    "\n",
    "plt.rcParams['figure.figsize'] = [1, 8]\n",
    "fig = plt.figure()\n",
    "\n",
    "# graph 객체 생성\n",
    "cate_hist = ggplot(df, aes('cateogory_cat',fill='cateogory_cat')) \\\n",
    "    + geom_bar(colour=\"black\") \\\n",
    "    + ggtitle('Project Category Histogram') \\\n",
    "    + theme(figure_size=(14, 6))\n",
    "cate_hist.save('Project categories histogram.pdf')\n",
    "cate_hist"
   ]
  },
  {
   "cell_type": "code",
   "execution_count": 40,
   "metadata": {},
   "outputs": [
    {
     "name": "stdout",
     "output_type": "stream",
     "text": [
      "2496\n"
     ]
    },
    {
     "data": {
      "text/html": [
       "<div>\n",
       "<style scoped>\n",
       "    .dataframe tbody tr th:only-of-type {\n",
       "        vertical-align: middle;\n",
       "    }\n",
       "\n",
       "    .dataframe tbody tr th {\n",
       "        vertical-align: top;\n",
       "    }\n",
       "\n",
       "    .dataframe thead th {\n",
       "        text-align: right;\n",
       "    }\n",
       "</style>\n",
       "<table border=\"1\" class=\"dataframe\">\n",
       "  <thead>\n",
       "    <tr style=\"text-align: right;\">\n",
       "      <th></th>\n",
       "      <th>cateogory_cat</th>\n",
       "    </tr>\n",
       "    <tr>\n",
       "      <th>cateogory_cat</th>\n",
       "      <th></th>\n",
       "    </tr>\n",
       "  </thead>\n",
       "  <tbody>\n",
       "    <tr>\n",
       "      <th>Design &amp; Tech</th>\n",
       "      <td>539</td>\n",
       "    </tr>\n",
       "    <tr>\n",
       "      <th>Games</th>\n",
       "      <td>470</td>\n",
       "    </tr>\n",
       "    <tr>\n",
       "      <th>Film</th>\n",
       "      <td>297</td>\n",
       "    </tr>\n",
       "    <tr>\n",
       "      <th>Food &amp; Craft</th>\n",
       "      <td>255</td>\n",
       "    </tr>\n",
       "    <tr>\n",
       "      <th>Publishing</th>\n",
       "      <td>247</td>\n",
       "    </tr>\n",
       "    <tr>\n",
       "      <th>Arts</th>\n",
       "      <td>241</td>\n",
       "    </tr>\n",
       "    <tr>\n",
       "      <th>Comics &amp; Illustartion</th>\n",
       "      <td>231</td>\n",
       "    </tr>\n",
       "    <tr>\n",
       "      <th>Music</th>\n",
       "      <td>216</td>\n",
       "    </tr>\n",
       "  </tbody>\n",
       "</table>\n",
       "</div>"
      ],
      "text/plain": [
       "                       cateogory_cat\n",
       "cateogory_cat                       \n",
       "Design & Tech                    539\n",
       "Games                            470\n",
       "Film                             297\n",
       "Food & Craft                     255\n",
       "Publishing                       247\n",
       "Arts                             241\n",
       "Comics & Illustartion            231\n",
       "Music                            216"
      ]
     },
     "execution_count": 40,
     "metadata": {},
     "output_type": "execute_result"
    }
   ],
   "source": [
    "# Total\n",
    "print(pd.DataFrame(df.groupby(['cateogory_cat'])['cateogory_cat'].count())['cateogory_cat'].sum())\n",
    "pd.DataFrame(df.groupby(['cateogory_cat'])['cateogory_cat'].count())"
   ]
  },
  {
   "cell_type": "markdown",
   "metadata": {},
   "source": [
    "### 성공/실패 Project별 Category 숫자"
   ]
  },
  {
   "cell_type": "code",
   "execution_count": 41,
   "metadata": {},
   "outputs": [
    {
     "data": {
      "text/html": [
       "<div>\n",
       "<style scoped>\n",
       "    .dataframe tbody tr th:only-of-type {\n",
       "        vertical-align: middle;\n",
       "    }\n",
       "\n",
       "    .dataframe tbody tr th {\n",
       "        vertical-align: top;\n",
       "    }\n",
       "\n",
       "    .dataframe thead th {\n",
       "        text-align: right;\n",
       "    }\n",
       "</style>\n",
       "<table border=\"1\" class=\"dataframe\">\n",
       "  <thead>\n",
       "    <tr style=\"text-align: right;\">\n",
       "      <th></th>\n",
       "      <th>project_id</th>\n",
       "      <th>project_launched_at</th>\n",
       "      <th>project_deadline</th>\n",
       "      <th>project_goal</th>\n",
       "      <th>project_category</th>\n",
       "      <th>date</th>\n",
       "      <th>days_to_go</th>\n",
       "      <th>pledged</th>\n",
       "      <th>options_number</th>\n",
       "      <th>title_count</th>\n",
       "      <th>...</th>\n",
       "      <th>success</th>\n",
       "      <th>backer1</th>\n",
       "      <th>backer2</th>\n",
       "      <th>backer3</th>\n",
       "      <th>ratio1</th>\n",
       "      <th>ratio2</th>\n",
       "      <th>ratio3</th>\n",
       "      <th>top_category</th>\n",
       "      <th>super_category</th>\n",
       "      <th>cateogory_cat</th>\n",
       "    </tr>\n",
       "  </thead>\n",
       "  <tbody>\n",
       "    <tr>\n",
       "      <th>0</th>\n",
       "      <td>1000414645</td>\n",
       "      <td>1560292936</td>\n",
       "      <td>1562884936</td>\n",
       "      <td>10000.0</td>\n",
       "      <td>Science Fiction</td>\n",
       "      <td>1.562814e+09</td>\n",
       "      <td>19.0</td>\n",
       "      <td>20139.0</td>\n",
       "      <td>12.0</td>\n",
       "      <td>35.0</td>\n",
       "      <td>...</td>\n",
       "      <td>1</td>\n",
       "      <td>13.0</td>\n",
       "      <td>17.0</td>\n",
       "      <td>25.0</td>\n",
       "      <td>37.730000</td>\n",
       "      <td>39.180000</td>\n",
       "      <td>44.94</td>\n",
       "      <td>Film &amp; Video</td>\n",
       "      <td>Film</td>\n",
       "      <td>Film</td>\n",
       "    </tr>\n",
       "    <tr>\n",
       "      <th>1</th>\n",
       "      <td>1002877193</td>\n",
       "      <td>1559689942</td>\n",
       "      <td>1562281942</td>\n",
       "      <td>3000.0</td>\n",
       "      <td>Video Games</td>\n",
       "      <td>1.562213e+09</td>\n",
       "      <td>19.0</td>\n",
       "      <td>3217.0</td>\n",
       "      <td>9.0</td>\n",
       "      <td>13.0</td>\n",
       "      <td>...</td>\n",
       "      <td>1</td>\n",
       "      <td>127.0</td>\n",
       "      <td>149.0</td>\n",
       "      <td>153.0</td>\n",
       "      <td>48.733333</td>\n",
       "      <td>56.233333</td>\n",
       "      <td>58.40</td>\n",
       "      <td>Games</td>\n",
       "      <td>Games</td>\n",
       "      <td>Games</td>\n",
       "    </tr>\n",
       "    <tr>\n",
       "      <th>2</th>\n",
       "      <td>1002950518</td>\n",
       "      <td>1559343638</td>\n",
       "      <td>1561935638</td>\n",
       "      <td>500.0</td>\n",
       "      <td>Comics</td>\n",
       "      <td>1.561874e+09</td>\n",
       "      <td>17.0</td>\n",
       "      <td>1306.0</td>\n",
       "      <td>11.0</td>\n",
       "      <td>47.0</td>\n",
       "      <td>...</td>\n",
       "      <td>1</td>\n",
       "      <td>15.0</td>\n",
       "      <td>19.0</td>\n",
       "      <td>22.0</td>\n",
       "      <td>77.600000</td>\n",
       "      <td>89.800000</td>\n",
       "      <td>105.80</td>\n",
       "      <td>Comics</td>\n",
       "      <td>Comics &amp; Illustartion</td>\n",
       "      <td>Comics &amp; Illustartion</td>\n",
       "    </tr>\n",
       "    <tr>\n",
       "      <th>3</th>\n",
       "      <td>1003129771</td>\n",
       "      <td>1560307671</td>\n",
       "      <td>1564627671</td>\n",
       "      <td>5000.0</td>\n",
       "      <td>Shorts</td>\n",
       "      <td>1.564618e+09</td>\n",
       "      <td>2.0</td>\n",
       "      <td>14.0</td>\n",
       "      <td>2.0</td>\n",
       "      <td>43.0</td>\n",
       "      <td>...</td>\n",
       "      <td>0</td>\n",
       "      <td>1.0</td>\n",
       "      <td>1.0</td>\n",
       "      <td>1.0</td>\n",
       "      <td>0.000000</td>\n",
       "      <td>0.000000</td>\n",
       "      <td>0.00</td>\n",
       "      <td>Film &amp; Video</td>\n",
       "      <td>Film</td>\n",
       "      <td>Film</td>\n",
       "    </tr>\n",
       "    <tr>\n",
       "      <th>4</th>\n",
       "      <td>1004145683</td>\n",
       "      <td>1561755322</td>\n",
       "      <td>1564347322</td>\n",
       "      <td>250.0</td>\n",
       "      <td>Tabletop Games</td>\n",
       "      <td>1.564285e+09</td>\n",
       "      <td>17.0</td>\n",
       "      <td>867.0</td>\n",
       "      <td>7.0</td>\n",
       "      <td>20.0</td>\n",
       "      <td>...</td>\n",
       "      <td>1</td>\n",
       "      <td>5.0</td>\n",
       "      <td>7.0</td>\n",
       "      <td>8.0</td>\n",
       "      <td>3.600000</td>\n",
       "      <td>54.000000</td>\n",
       "      <td>71.20</td>\n",
       "      <td>Games</td>\n",
       "      <td>Games</td>\n",
       "      <td>Games</td>\n",
       "    </tr>\n",
       "  </tbody>\n",
       "</table>\n",
       "<p>5 rows × 36 columns</p>\n",
       "</div>"
      ],
      "text/plain": [
       "   project_id  project_launched_at  project_deadline  project_goal  \\\n",
       "0  1000414645           1560292936        1562884936       10000.0   \n",
       "1  1002877193           1559689942        1562281942        3000.0   \n",
       "2  1002950518           1559343638        1561935638         500.0   \n",
       "3  1003129771           1560307671        1564627671        5000.0   \n",
       "4  1004145683           1561755322        1564347322         250.0   \n",
       "\n",
       "  project_category          date  days_to_go  pledged  options_number  \\\n",
       "0  Science Fiction  1.562814e+09        19.0  20139.0            12.0   \n",
       "1      Video Games  1.562213e+09        19.0   3217.0             9.0   \n",
       "2           Comics  1.561874e+09        17.0   1306.0            11.0   \n",
       "3           Shorts  1.564618e+09         2.0     14.0             2.0   \n",
       "4   Tabletop Games  1.564285e+09        17.0    867.0             7.0   \n",
       "\n",
       "   title_count          ...            success  backer1  backer2  backer3  \\\n",
       "0         35.0          ...                  1     13.0     17.0     25.0   \n",
       "1         13.0          ...                  1    127.0    149.0    153.0   \n",
       "2         47.0          ...                  1     15.0     19.0     22.0   \n",
       "3         43.0          ...                  0      1.0      1.0      1.0   \n",
       "4         20.0          ...                  1      5.0      7.0      8.0   \n",
       "\n",
       "      ratio1     ratio2  ratio3  top_category         super_category  \\\n",
       "0  37.730000  39.180000   44.94  Film & Video                   Film   \n",
       "1  48.733333  56.233333   58.40         Games                  Games   \n",
       "2  77.600000  89.800000  105.80        Comics  Comics & Illustartion   \n",
       "3   0.000000   0.000000    0.00  Film & Video                   Film   \n",
       "4   3.600000  54.000000   71.20         Games                  Games   \n",
       "\n",
       "           cateogory_cat  \n",
       "0                   Film  \n",
       "1                  Games  \n",
       "2  Comics & Illustartion  \n",
       "3                   Film  \n",
       "4                  Games  \n",
       "\n",
       "[5 rows x 36 columns]"
      ]
     },
     "execution_count": 41,
     "metadata": {},
     "output_type": "execute_result"
    }
   ],
   "source": [
    "df.head()"
   ]
  },
  {
   "cell_type": "code",
   "execution_count": 42,
   "metadata": {},
   "outputs": [],
   "source": [
    "df['success'] = df['success'].apply(lambda x : 'Success' if x == 1 else 'Fail')"
   ]
  },
  {
   "cell_type": "code",
   "execution_count": 16,
   "metadata": {},
   "outputs": [],
   "source": [
    "# success_dict = {1:'Success',0:\"Fail\"}\n",
    "# df['Success'] = df['Success'].map(success_dict)"
   ]
  },
  {
   "cell_type": "code",
   "execution_count": 43,
   "metadata": {},
   "outputs": [
    {
     "name": "stderr",
     "output_type": "stream",
     "text": [
      "/Users/yonggeol/miniconda3/envs/py/lib/python3.6/site-packages/plotnine/ggplot.py:706: UserWarning: Saving 14 x 6 in image.\n",
      "  from_inches(height, units), units))\n",
      "/Users/yonggeol/miniconda3/envs/py/lib/python3.6/site-packages/plotnine/ggplot.py:707: UserWarning: Filename: Project categories histogram by success.pdf\n",
      "  warn('Filename: {}'.format(filename))\n"
     ]
    },
    {
     "data": {
      "text/plain": [
       "<Figure size 72x576 with 0 Axes>"
      ]
     },
     "metadata": {},
     "output_type": "display_data"
    },
    {
     "data": {
      "image/png": "[encoded data removed]",
      "text/plain": [
       "<Figure size 1400x600 with 2 Axes>"
      ]
     },
     "metadata": {},
     "output_type": "display_data"
    },
    {
     "data": {
      "text/plain": [
       "<ggplot: (-9223372036560796174)>"
      ]
     },
     "execution_count": 43,
     "metadata": {},
     "output_type": "execute_result"
    }
   ],
   "source": [
    "plt.rcParams['figure.figsize'] = [1, 8]\n",
    "fig = plt.figure()\n",
    "\n",
    "\n",
    "# graph 객체 생성\n",
    "com_plot = ggplot(df, aes('cateogory_cat',fill='cateogory_cat')) \\\n",
    "    + geom_bar(colour=\"black\") \\\n",
    "    + ggtitle('Project Category Histogram') \\\n",
    "    + theme(figure_size=(14, 6))\\\n",
    "    + facet_wrap('~success')\n",
    "com_plot.save('Project categories histogram by success.pdf')\n",
    "com_plot"
   ]
  },
  {
   "cell_type": "code",
   "execution_count": 44,
   "metadata": {},
   "outputs": [],
   "source": [
    "Success_df = df[df['success'] == 'Success']\n",
    "Fail_df = df[df['success'] == 'Fail']"
   ]
  },
  {
   "cell_type": "code",
   "execution_count": 46,
   "metadata": {},
   "outputs": [
    {
     "name": "stdout",
     "output_type": "stream",
     "text": [
      "success\n",
      "1266\n"
     ]
    },
    {
     "data": {
      "text/html": [
       "<div>\n",
       "<style scoped>\n",
       "    .dataframe tbody tr th:only-of-type {\n",
       "        vertical-align: middle;\n",
       "    }\n",
       "\n",
       "    .dataframe tbody tr th {\n",
       "        vertical-align: top;\n",
       "    }\n",
       "\n",
       "    .dataframe thead th {\n",
       "        text-align: right;\n",
       "    }\n",
       "</style>\n",
       "<table border=\"1\" class=\"dataframe\">\n",
       "  <thead>\n",
       "    <tr style=\"text-align: right;\">\n",
       "      <th></th>\n",
       "      <th>cateogory_cat</th>\n",
       "    </tr>\n",
       "    <tr>\n",
       "      <th>cateogory_cat</th>\n",
       "      <th></th>\n",
       "    </tr>\n",
       "  </thead>\n",
       "  <tbody>\n",
       "    <tr>\n",
       "      <th>Design &amp; Tech</th>\n",
       "      <td>253</td>\n",
       "    </tr>\n",
       "    <tr>\n",
       "      <th>Games</th>\n",
       "      <td>278</td>\n",
       "    </tr>\n",
       "    <tr>\n",
       "      <th>Film</th>\n",
       "      <td>124</td>\n",
       "    </tr>\n",
       "    <tr>\n",
       "      <th>Food &amp; Craft</th>\n",
       "      <td>74</td>\n",
       "    </tr>\n",
       "    <tr>\n",
       "      <th>Publishing</th>\n",
       "      <td>103</td>\n",
       "    </tr>\n",
       "    <tr>\n",
       "      <th>Arts</th>\n",
       "      <td>136</td>\n",
       "    </tr>\n",
       "    <tr>\n",
       "      <th>Comics &amp; Illustartion</th>\n",
       "      <td>165</td>\n",
       "    </tr>\n",
       "    <tr>\n",
       "      <th>Music</th>\n",
       "      <td>133</td>\n",
       "    </tr>\n",
       "  </tbody>\n",
       "</table>\n",
       "</div>"
      ],
      "text/plain": [
       "                       cateogory_cat\n",
       "cateogory_cat                       \n",
       "Design & Tech                    253\n",
       "Games                            278\n",
       "Film                             124\n",
       "Food & Craft                      74\n",
       "Publishing                       103\n",
       "Arts                             136\n",
       "Comics & Illustartion            165\n",
       "Music                            133"
      ]
     },
     "execution_count": 46,
     "metadata": {},
     "output_type": "execute_result"
    }
   ],
   "source": [
    "# success\n",
    "print('success')\n",
    "Success_df.groupby(['cateogory_cat'])['cateogory_cat'].count()\n",
    "print(pd.DataFrame(Success_df.groupby(['cateogory_cat'])['cateogory_cat'].count())['cateogory_cat'].sum())\n",
    "pd.DataFrame(Success_df.groupby(['cateogory_cat'])['cateogory_cat'].count())\n",
    "#print(pd.DataFrame(Success_df.groupby(['cateogory_cat'])['cateogory_cat'].count()).sum())"
   ]
  },
  {
   "cell_type": "code",
   "execution_count": 47,
   "metadata": {},
   "outputs": [
    {
     "name": "stdout",
     "output_type": "stream",
     "text": [
      "fail\n",
      "1230\n"
     ]
    },
    {
     "data": {
      "text/html": [
       "<div>\n",
       "<style scoped>\n",
       "    .dataframe tbody tr th:only-of-type {\n",
       "        vertical-align: middle;\n",
       "    }\n",
       "\n",
       "    .dataframe tbody tr th {\n",
       "        vertical-align: top;\n",
       "    }\n",
       "\n",
       "    .dataframe thead th {\n",
       "        text-align: right;\n",
       "    }\n",
       "</style>\n",
       "<table border=\"1\" class=\"dataframe\">\n",
       "  <thead>\n",
       "    <tr style=\"text-align: right;\">\n",
       "      <th></th>\n",
       "      <th>cateogory_cat</th>\n",
       "    </tr>\n",
       "    <tr>\n",
       "      <th>cateogory_cat</th>\n",
       "      <th></th>\n",
       "    </tr>\n",
       "  </thead>\n",
       "  <tbody>\n",
       "    <tr>\n",
       "      <th>Design &amp; Tech</th>\n",
       "      <td>286</td>\n",
       "    </tr>\n",
       "    <tr>\n",
       "      <th>Games</th>\n",
       "      <td>192</td>\n",
       "    </tr>\n",
       "    <tr>\n",
       "      <th>Film</th>\n",
       "      <td>173</td>\n",
       "    </tr>\n",
       "    <tr>\n",
       "      <th>Food &amp; Craft</th>\n",
       "      <td>181</td>\n",
       "    </tr>\n",
       "    <tr>\n",
       "      <th>Publishing</th>\n",
       "      <td>144</td>\n",
       "    </tr>\n",
       "    <tr>\n",
       "      <th>Arts</th>\n",
       "      <td>105</td>\n",
       "    </tr>\n",
       "    <tr>\n",
       "      <th>Comics &amp; Illustartion</th>\n",
       "      <td>66</td>\n",
       "    </tr>\n",
       "    <tr>\n",
       "      <th>Music</th>\n",
       "      <td>83</td>\n",
       "    </tr>\n",
       "  </tbody>\n",
       "</table>\n",
       "</div>"
      ],
      "text/plain": [
       "                       cateogory_cat\n",
       "cateogory_cat                       \n",
       "Design & Tech                    286\n",
       "Games                            192\n",
       "Film                             173\n",
       "Food & Craft                     181\n",
       "Publishing                       144\n",
       "Arts                             105\n",
       "Comics & Illustartion             66\n",
       "Music                             83"
      ]
     },
     "execution_count": 47,
     "metadata": {},
     "output_type": "execute_result"
    }
   ],
   "source": [
    "# fails\n",
    "print('fail')\n",
    "Fail_df.groupby(['cateogory_cat'])['cateogory_cat'].count()\n",
    "print(pd.DataFrame(Fail_df.groupby(['cateogory_cat'])['cateogory_cat'].count())['cateogory_cat'].sum())\n",
    "pd.DataFrame(Fail_df.groupby(['cateogory_cat'])['cateogory_cat'].count())\n",
    "#print(pd.DataFrame(Fail_df.groupby(['cateogory_cat'])['cateogory_cat'].count()).sum())"
   ]
  },
  {
   "cell_type": "markdown",
   "metadata": {},
   "source": [
    "### Extracting random porject Id "
   ]
  },
  {
   "cell_type": "code",
   "execution_count": 50,
   "metadata": {},
   "outputs": [
    {
     "data": {
      "text/plain": [
       "array([1069682231,  978592772,  193482239, 2128725189, 1866769021,\n",
       "       1227911218,  269345764,  951323047, 1062955927, 1986656020,\n",
       "       1245605236, 2112987587,  123861878,  951323047, 1011832030,\n",
       "       1323976299,  853120791,  891309865,  989572890,  372360890,\n",
       "       1231903555, 1330877109, 1829666631,  121530126, 1935790542,\n",
       "        213977892, 1190534671, 1092438409, 1413607785, 1768903226,\n",
       "        757750956,  908393577, 1845631671, 1574720462, 1025123568,\n",
       "       1930072557, 1006560474,  182769150, 1924963681,  880251106,\n",
       "        103559442,  681760995, 1711971434,  819291103, 1709177560,\n",
       "        713357973,  494659268, 1615436350, 1445696196,  718304025])"
      ]
     },
     "execution_count": 50,
     "metadata": {},
     "output_type": "execute_result"
    }
   ],
   "source": [
    "# In the case of success\n",
    "Success_Id = Success_df['project_id'].values\n",
    "np.random.choice(Success_Id,50)"
   ]
  },
  {
   "cell_type": "code",
   "execution_count": 51,
   "metadata": {},
   "outputs": [
    {
     "data": {
      "text/plain": [
       "array([ 150569889,  540885289, 1246489716,   30289166, 1606829626,\n",
       "       1175513963, 1175513963, 1240389314, 1293345592,  117728616,\n",
       "       1075229114,  244307325, 1019588208, 2101988927, 1156646700,\n",
       "         66331884,  195890976, 1003129771,  277296509, 1025433522,\n",
       "       1024192948,  720842902, 2039211778,  390416577,  201034103,\n",
       "        218010287, 1879259663, 1986377457, 1057256049, 1323925202,\n",
       "       2113711135,  955055415,  830052542,  969252435, 1411564463,\n",
       "       1213823515, 1246489716, 1891361828, 1957381362, 1855601620,\n",
       "        784341570, 1156886321, 1356321507, 1078600758,  468891600,\n",
       "       1091809927, 1108409777, 1653289235, 1835329093, 1082286606])"
      ]
     },
     "execution_count": 51,
     "metadata": {},
     "output_type": "execute_result"
    }
   ],
   "source": [
    "# In the case of fail\n",
    "Fail_df\n",
    "Fail_Id = Fail_df['project_id'].values\n",
    "np.random.choice(Fail_Id,50)"
   ]
  }
 ],
 "metadata": {
  "kernelspec": {
   "display_name": "Python 3",
   "language": "python",
   "name": "python3"
  },
  "language_info": {
   "codemirror_mode": {
    "name": "ipython",
    "version": 3
   },
   "file_extension": ".py",
   "mimetype": "text/x-python",
   "name": "python",
   "nbconvert_exporter": "python",
   "pygments_lexer": "ipython3",
   "version": "3.6.7"
  }
 },
 "nbformat": 4,
 "nbformat_minor": 2
}
