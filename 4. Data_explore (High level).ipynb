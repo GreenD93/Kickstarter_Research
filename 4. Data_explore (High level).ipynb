{
 "cells": [
  {
   "cell_type": "code",
   "execution_count": 1,
   "metadata": {},
   "outputs": [],
   "source": [
    "from plotnine import *\n",
    "import matplotlib.pyplot as plt\n",
    "import pandas as pd\n",
    "from matplotlib.pyplot import pie, axis, show\n",
    "import seaborn as sns\n",
    "from pandas.api.types import CategoricalDtype\n",
    "from Utilities import T_test\n",
    "plt.rcParams['figure.figsize'] = [20, 8]"
   ]
  },
  {
   "cell_type": "markdown",
   "metadata": {},
   "source": [
    "## Kickstarter Data explore\n",
    "- Project duration은 최소 1일부터 ~ 60일 \n",
    "- Pledge는 project가 live할 때, 언제든지 취소가 가능함 (따라서, 최종적으로 실패했더라도 중간에 project goal을 넘을 수 있음)\n",
    "- Outlier값이 상당히 많은편, Outlier를 제거하고 box plot을 그리면 뚜렷한 차이가 보임"
   ]
  },
  {
   "cell_type": "code",
   "execution_count": 2,
   "metadata": {},
   "outputs": [],
   "source": [
    "df = pd.read_csv('./Data/analysis_data.csv',encoding='utf-16')"
   ]
  },
  {
   "cell_type": "code",
   "execution_count": 3,
   "metadata": {},
   "outputs": [
    {
     "data": {
      "text/html": [
       "<div>\n",
       "<style scoped>\n",
       "    .dataframe tbody tr th:only-of-type {\n",
       "        vertical-align: middle;\n",
       "    }\n",
       "\n",
       "    .dataframe tbody tr th {\n",
       "        vertical-align: top;\n",
       "    }\n",
       "\n",
       "    .dataframe thead th {\n",
       "        text-align: right;\n",
       "    }\n",
       "</style>\n",
       "<table border=\"1\" class=\"dataframe\">\n",
       "  <thead>\n",
       "    <tr style=\"text-align: right;\">\n",
       "      <th></th>\n",
       "      <th>Project_Id</th>\n",
       "      <th>Project_launched_at</th>\n",
       "      <th>Project_deadline</th>\n",
       "      <th>Project_goal</th>\n",
       "      <th>Project_category</th>\n",
       "      <th>Date</th>\n",
       "      <th>Days_to_go</th>\n",
       "      <th>Pledged</th>\n",
       "      <th>Options_number</th>\n",
       "      <th>Title_count</th>\n",
       "      <th>...</th>\n",
       "      <th>diff</th>\n",
       "      <th>Success</th>\n",
       "      <th>backer1</th>\n",
       "      <th>backer2</th>\n",
       "      <th>backer3</th>\n",
       "      <th>ratio1</th>\n",
       "      <th>ratio2</th>\n",
       "      <th>ratio3</th>\n",
       "      <th>Top_category</th>\n",
       "      <th>super_category</th>\n",
       "    </tr>\n",
       "  </thead>\n",
       "  <tbody>\n",
       "    <tr>\n",
       "      <th>0</th>\n",
       "      <td>1000414645</td>\n",
       "      <td>1560292936</td>\n",
       "      <td>1562884936</td>\n",
       "      <td>10000.0</td>\n",
       "      <td>Science Fiction</td>\n",
       "      <td>1.562814e+09</td>\n",
       "      <td>19</td>\n",
       "      <td>20139.0</td>\n",
       "      <td>12.0</td>\n",
       "      <td>35.0</td>\n",
       "      <td>...</td>\n",
       "      <td>2.0</td>\n",
       "      <td>1</td>\n",
       "      <td>13.0</td>\n",
       "      <td>17.0</td>\n",
       "      <td>25.0</td>\n",
       "      <td>37.730000</td>\n",
       "      <td>39.180000</td>\n",
       "      <td>44.940000</td>\n",
       "      <td>Film &amp; Video</td>\n",
       "      <td>Film</td>\n",
       "    </tr>\n",
       "    <tr>\n",
       "      <th>1</th>\n",
       "      <td>1002877193</td>\n",
       "      <td>1559689942</td>\n",
       "      <td>1562281942</td>\n",
       "      <td>3000.0</td>\n",
       "      <td>Video Games</td>\n",
       "      <td>1.562213e+09</td>\n",
       "      <td>19</td>\n",
       "      <td>3217.0</td>\n",
       "      <td>9.0</td>\n",
       "      <td>13.0</td>\n",
       "      <td>...</td>\n",
       "      <td>2.0</td>\n",
       "      <td>1</td>\n",
       "      <td>127.0</td>\n",
       "      <td>149.0</td>\n",
       "      <td>153.0</td>\n",
       "      <td>48.733333</td>\n",
       "      <td>56.233333</td>\n",
       "      <td>58.400000</td>\n",
       "      <td>Games</td>\n",
       "      <td>Games</td>\n",
       "    </tr>\n",
       "    <tr>\n",
       "      <th>2</th>\n",
       "      <td>1002950518</td>\n",
       "      <td>1559343638</td>\n",
       "      <td>1561935638</td>\n",
       "      <td>500.0</td>\n",
       "      <td>Comics</td>\n",
       "      <td>1.561874e+09</td>\n",
       "      <td>17</td>\n",
       "      <td>1306.0</td>\n",
       "      <td>11.0</td>\n",
       "      <td>47.0</td>\n",
       "      <td>...</td>\n",
       "      <td>2.0</td>\n",
       "      <td>1</td>\n",
       "      <td>15.0</td>\n",
       "      <td>19.0</td>\n",
       "      <td>22.0</td>\n",
       "      <td>77.600000</td>\n",
       "      <td>89.800000</td>\n",
       "      <td>105.800000</td>\n",
       "      <td>Comics</td>\n",
       "      <td>Comics &amp; Illustartion</td>\n",
       "    </tr>\n",
       "    <tr>\n",
       "      <th>3</th>\n",
       "      <td>1006560474</td>\n",
       "      <td>1559058077</td>\n",
       "      <td>1561650077</td>\n",
       "      <td>100.0</td>\n",
       "      <td>Product Design</td>\n",
       "      <td>1.561596e+09</td>\n",
       "      <td>15</td>\n",
       "      <td>461.0</td>\n",
       "      <td>3.0</td>\n",
       "      <td>48.0</td>\n",
       "      <td>...</td>\n",
       "      <td>1.0</td>\n",
       "      <td>1</td>\n",
       "      <td>12.0</td>\n",
       "      <td>17.0</td>\n",
       "      <td>18.0</td>\n",
       "      <td>124.000000</td>\n",
       "      <td>173.000000</td>\n",
       "      <td>185.000000</td>\n",
       "      <td>Design</td>\n",
       "      <td>Design &amp; Tech</td>\n",
       "    </tr>\n",
       "    <tr>\n",
       "      <th>4</th>\n",
       "      <td>1006860742</td>\n",
       "      <td>1558561181</td>\n",
       "      <td>1561500000</td>\n",
       "      <td>12000.0</td>\n",
       "      <td>Small Batch</td>\n",
       "      <td>1.561423e+09</td>\n",
       "      <td>21</td>\n",
       "      <td>202.0</td>\n",
       "      <td>16.0</td>\n",
       "      <td>54.0</td>\n",
       "      <td>...</td>\n",
       "      <td>1.0</td>\n",
       "      <td>0</td>\n",
       "      <td>2.0</td>\n",
       "      <td>2.0</td>\n",
       "      <td>2.0</td>\n",
       "      <td>0.841667</td>\n",
       "      <td>0.841667</td>\n",
       "      <td>0.841667</td>\n",
       "      <td>Food</td>\n",
       "      <td>Food &amp; Craft</td>\n",
       "    </tr>\n",
       "  </tbody>\n",
       "</table>\n",
       "<p>5 rows × 35 columns</p>\n",
       "</div>"
      ],
      "text/plain": [
       "   Project_Id  Project_launched_at  Project_deadline  Project_goal  \\\n",
       "0  1000414645           1560292936        1562884936       10000.0   \n",
       "1  1002877193           1559689942        1562281942        3000.0   \n",
       "2  1002950518           1559343638        1561935638         500.0   \n",
       "3  1006560474           1559058077        1561650077         100.0   \n",
       "4  1006860742           1558561181        1561500000       12000.0   \n",
       "\n",
       "  Project_category          Date  Days_to_go  Pledged  Options_number  \\\n",
       "0  Science Fiction  1.562814e+09          19  20139.0            12.0   \n",
       "1      Video Games  1.562213e+09          19   3217.0             9.0   \n",
       "2           Comics  1.561874e+09          17   1306.0            11.0   \n",
       "3   Product Design  1.561596e+09          15    461.0             3.0   \n",
       "4      Small Batch  1.561423e+09          21    202.0            16.0   \n",
       "\n",
       "   Title_count          ...            diff  Success  backer1  backer2  \\\n",
       "0         35.0          ...             2.0        1     13.0     17.0   \n",
       "1         13.0          ...             2.0        1    127.0    149.0   \n",
       "2         47.0          ...             2.0        1     15.0     19.0   \n",
       "3         48.0          ...             1.0        1     12.0     17.0   \n",
       "4         54.0          ...             1.0        0      2.0      2.0   \n",
       "\n",
       "   backer3      ratio1      ratio2      ratio3  Top_category  \\\n",
       "0     25.0   37.730000   39.180000   44.940000  Film & Video   \n",
       "1    153.0   48.733333   56.233333   58.400000         Games   \n",
       "2     22.0   77.600000   89.800000  105.800000        Comics   \n",
       "3     18.0  124.000000  173.000000  185.000000        Design   \n",
       "4      2.0    0.841667    0.841667    0.841667          Food   \n",
       "\n",
       "          super_category  \n",
       "0                   Film  \n",
       "1                  Games  \n",
       "2  Comics & Illustartion  \n",
       "3          Design & Tech  \n",
       "4           Food & Craft  \n",
       "\n",
       "[5 rows x 35 columns]"
      ]
     },
     "execution_count": 3,
     "metadata": {},
     "output_type": "execute_result"
    }
   ],
   "source": [
    "df.head()"
   ]
  },
  {
   "cell_type": "markdown",
   "metadata": {},
   "source": [
    "### 성공/실패 분류 "
   ]
  },
  {
   "cell_type": "code",
   "execution_count": 4,
   "metadata": {},
   "outputs": [],
   "source": [
    "Success_df = df[df['Success'] == 1]\n",
    "Fail_df = df[df['Success'] == 0]"
   ]
  },
  {
   "cell_type": "code",
   "execution_count": 5,
   "metadata": {},
   "outputs": [
    {
     "name": "stdout",
     "output_type": "stream",
     "text": [
      "Success project size : 681\n",
      "Fail project size : 634\n"
     ]
    }
   ],
   "source": [
    "print('Success project size : {0}'.format(Success_df.shape[0]))\n",
    "print('Fail project size : {0}'.format(Fail_df.shape[0]))"
   ]
  },
  {
   "cell_type": "markdown",
   "metadata": {},
   "source": [
    "### Data explore\n",
    "- 전체로 보는 것은 편차가 너무 큼"
   ]
  },
  {
   "cell_type": "code",
   "execution_count": 6,
   "metadata": {},
   "outputs": [
    {
     "data": {
      "image/png": "[encoded data removed]",
      "text/plain": [
       "<Figure size 432x216 with 1 Axes>"
      ]
     },
     "metadata": {},
     "output_type": "display_data"
    },
    {
     "name": "stdout",
     "output_type": "stream",
     "text": [
      "           group  value\n",
      "fail        fail    634\n",
      "Success  Success    681\n",
      "Sum : 1315\n"
     ]
    }
   ],
   "source": [
    "group = ['fail','Success']\n",
    "value = df.groupby(['Success'])['Success'].count().values\n",
    "pie_df = pd.DataFrame({'group':group,'value':value}, index=['fail','Success'])\n",
    "total_value = pie_df['value'].sum()\n",
    "fig = pie_df.plot(kind='pie',y='value',subplots=True, figsize=(6, 3),colors = ['tomato','yellowgreen'],\\\n",
    "                title= '1,315 projects with video', autopct='%.2f%%', startangle=90,shadow=False,\\\n",
    "                fontsize=10)[0]\n",
    "fig_pie = fig.get_figure()\n",
    "plt.axis('equal')\n",
    "plt.show()\n",
    "\n",
    "fig_pie.savefig('Fig1.pdf')\n",
    "print(pie_df)\n",
    "print('Sum : {0}'.format(pie_df['value'].sum()))"
   ]
  },
  {
   "cell_type": "markdown",
   "metadata": {},
   "source": [
    "### Histogram"
   ]
  },
  {
   "cell_type": "code",
   "execution_count": 7,
   "metadata": {},
   "outputs": [],
   "source": [
    "from scipy import stats\n",
    "import numpy as np\n",
    "# 최적의 bin개수 구하기\n",
    "# stats.iqr(df['Project_goal'], rng=(25, 75), scale=\"raw\", nan_policy=\"omit\")"
   ]
  },
  {
   "cell_type": "code",
   "execution_count": 8,
   "metadata": {},
   "outputs": [],
   "source": [
    "def freedman_diaconis(data, returnas=\"width\"):\n",
    "    \"\"\"\n",
    "    Use Freedman Diaconis rule to compute optimal histogram bin width. \n",
    "    ``returnas`` can be one of \"width\" or \"bins\", indicating whether\n",
    "    the bin width or number of bins should be returned respectively. \n",
    "\n",
    "\n",
    "    Parameters\n",
    "    ----------\n",
    "    data: np.ndarray\n",
    "        One-dimensional array.\n",
    "\n",
    "    returnas: {\"width\", \"bins\"}\n",
    "        If \"width\", return the estimated width for each histogram bin. \n",
    "        If \"bins\", return the number of bins suggested by rule.\n",
    "    \"\"\"\n",
    "    data = np.asarray(data, dtype=np.float_)\n",
    "    IQR  = stats.iqr(data, rng=(25, 75), scale=\"raw\", nan_policy=\"omit\")\n",
    "    N    = data.size\n",
    "    bw   = (2 * IQR) / np.power(N, 1/3)\n",
    "\n",
    "    if returnas==\"width\":\n",
    "        result = bw\n",
    "    else:\n",
    "        datmin, datmax = data.min(), data.max()\n",
    "        datrng = datmax - datmin\n",
    "        result = int((datrng / bw) + 1)\n",
    "    return(result)"
   ]
  },
  {
   "cell_type": "code",
   "execution_count": 9,
   "metadata": {},
   "outputs": [
    {
     "data": {
      "text/plain": [
       "14086"
      ]
     },
     "execution_count": 9,
     "metadata": {},
     "output_type": "execute_result"
    }
   ],
   "source": [
    "# Calculate bins\n",
    "freedman_diaconis(data=df['Project_goal'], returnas=\"bins\")"
   ]
  },
  {
   "cell_type": "markdown",
   "metadata": {},
   "source": [
    "### 전체 Data의 Project별 Category 숫자"
   ]
  },
  {
   "cell_type": "code",
   "execution_count": 10,
   "metadata": {},
   "outputs": [
    {
     "name": "stderr",
     "output_type": "stream",
     "text": [
      "/Users/yonggeol/miniconda3/envs/py/lib/python3.6/site-packages/plotnine/ggplot.py:706: UserWarning: Saving 14 x 6 in image.\n",
      "  from_inches(height, units), units))\n",
      "/Users/yonggeol/miniconda3/envs/py/lib/python3.6/site-packages/plotnine/ggplot.py:707: UserWarning: Filename: Project categories histogram.pdf\n",
      "  warn('Filename: {}'.format(filename))\n"
     ]
    },
    {
     "data": {
      "text/plain": [
       "<Figure size 72x576 with 0 Axes>"
      ]
     },
     "metadata": {},
     "output_type": "display_data"
    },
    {
     "data": {
      "image/png": "[encoded data removed]",
      "text/plain": [
       "<Figure size 1400x600 with 1 Axes>"
      ]
     },
     "metadata": {},
     "output_type": "display_data"
    },
    {
     "data": {
      "text/plain": [
       "<ggplot: (7542334419)>"
      ]
     },
     "execution_count": 10,
     "metadata": {},
     "output_type": "execute_result"
    }
   ],
   "source": [
    "# Determine order and create a categorical type\n",
    "cateogory_list = df['super_category'].value_counts().index.tolist()\n",
    "cateogory_cat = CategoricalDtype(categories=cateogory_list, ordered=True)\n",
    "df['cateogory_cat'] = df['super_category'].astype(str).astype(cateogory_cat)\n",
    "\n",
    "plt.rcParams['figure.figsize'] = [1, 8]\n",
    "fig = plt.figure()\n",
    "\n",
    "# graph 객체 생성\n",
    "cate_hist = ggplot(df, aes('cateogory_cat',fill='cateogory_cat')) \\\n",
    "    + geom_bar(colour=\"black\") \\\n",
    "    + ggtitle('Project Category Histogram') \\\n",
    "    + theme(figure_size=(14, 6))\n",
    "cate_hist.save('Project categories histogram.pdf')\n",
    "cate_hist"
   ]
  },
  {
   "cell_type": "code",
   "execution_count": 11,
   "metadata": {},
   "outputs": [
    {
     "name": "stdout",
     "output_type": "stream",
     "text": [
      "1315\n"
     ]
    },
    {
     "data": {
      "text/html": [
       "<div>\n",
       "<style scoped>\n",
       "    .dataframe tbody tr th:only-of-type {\n",
       "        vertical-align: middle;\n",
       "    }\n",
       "\n",
       "    .dataframe tbody tr th {\n",
       "        vertical-align: top;\n",
       "    }\n",
       "\n",
       "    .dataframe thead th {\n",
       "        text-align: right;\n",
       "    }\n",
       "</style>\n",
       "<table border=\"1\" class=\"dataframe\">\n",
       "  <thead>\n",
       "    <tr style=\"text-align: right;\">\n",
       "      <th></th>\n",
       "      <th>cateogory_cat</th>\n",
       "    </tr>\n",
       "    <tr>\n",
       "      <th>cateogory_cat</th>\n",
       "      <th></th>\n",
       "    </tr>\n",
       "  </thead>\n",
       "  <tbody>\n",
       "    <tr>\n",
       "      <th>Design &amp; Tech</th>\n",
       "      <td>276</td>\n",
       "    </tr>\n",
       "    <tr>\n",
       "      <th>Games</th>\n",
       "      <td>257</td>\n",
       "    </tr>\n",
       "    <tr>\n",
       "      <th>Film</th>\n",
       "      <td>157</td>\n",
       "    </tr>\n",
       "    <tr>\n",
       "      <th>Comics &amp; Illustartion</th>\n",
       "      <td>135</td>\n",
       "    </tr>\n",
       "    <tr>\n",
       "      <th>Arts</th>\n",
       "      <td>133</td>\n",
       "    </tr>\n",
       "    <tr>\n",
       "      <th>Publishing</th>\n",
       "      <td>129</td>\n",
       "    </tr>\n",
       "    <tr>\n",
       "      <th>Food &amp; Craft</th>\n",
       "      <td>123</td>\n",
       "    </tr>\n",
       "    <tr>\n",
       "      <th>Music</th>\n",
       "      <td>105</td>\n",
       "    </tr>\n",
       "  </tbody>\n",
       "</table>\n",
       "</div>"
      ],
      "text/plain": [
       "                       cateogory_cat\n",
       "cateogory_cat                       \n",
       "Design & Tech                    276\n",
       "Games                            257\n",
       "Film                             157\n",
       "Comics & Illustartion            135\n",
       "Arts                             133\n",
       "Publishing                       129\n",
       "Food & Craft                     123\n",
       "Music                            105"
      ]
     },
     "execution_count": 11,
     "metadata": {},
     "output_type": "execute_result"
    }
   ],
   "source": [
    "# Total\n",
    "print(pd.DataFrame(df.groupby(['cateogory_cat'])['cateogory_cat'].count())['cateogory_cat'].sum())\n",
    "pd.DataFrame(df.groupby(['cateogory_cat'])['cateogory_cat'].count())"
   ]
  },
  {
   "cell_type": "markdown",
   "metadata": {},
   "source": [
    "### 성공/실패 Project별 Category 숫자"
   ]
  },
  {
   "cell_type": "code",
   "execution_count": 12,
   "metadata": {},
   "outputs": [
    {
     "data": {
      "text/html": [
       "<div>\n",
       "<style scoped>\n",
       "    .dataframe tbody tr th:only-of-type {\n",
       "        vertical-align: middle;\n",
       "    }\n",
       "\n",
       "    .dataframe tbody tr th {\n",
       "        vertical-align: top;\n",
       "    }\n",
       "\n",
       "    .dataframe thead th {\n",
       "        text-align: right;\n",
       "    }\n",
       "</style>\n",
       "<table border=\"1\" class=\"dataframe\">\n",
       "  <thead>\n",
       "    <tr style=\"text-align: right;\">\n",
       "      <th></th>\n",
       "      <th>Project_Id</th>\n",
       "      <th>Project_launched_at</th>\n",
       "      <th>Project_deadline</th>\n",
       "      <th>Project_goal</th>\n",
       "      <th>Project_category</th>\n",
       "      <th>Date</th>\n",
       "      <th>Days_to_go</th>\n",
       "      <th>Pledged</th>\n",
       "      <th>Options_number</th>\n",
       "      <th>Title_count</th>\n",
       "      <th>...</th>\n",
       "      <th>Success</th>\n",
       "      <th>backer1</th>\n",
       "      <th>backer2</th>\n",
       "      <th>backer3</th>\n",
       "      <th>ratio1</th>\n",
       "      <th>ratio2</th>\n",
       "      <th>ratio3</th>\n",
       "      <th>Top_category</th>\n",
       "      <th>super_category</th>\n",
       "      <th>cateogory_cat</th>\n",
       "    </tr>\n",
       "  </thead>\n",
       "  <tbody>\n",
       "    <tr>\n",
       "      <th>0</th>\n",
       "      <td>1000414645</td>\n",
       "      <td>1560292936</td>\n",
       "      <td>1562884936</td>\n",
       "      <td>10000.0</td>\n",
       "      <td>Science Fiction</td>\n",
       "      <td>1.562814e+09</td>\n",
       "      <td>19</td>\n",
       "      <td>20139.0</td>\n",
       "      <td>12.0</td>\n",
       "      <td>35.0</td>\n",
       "      <td>...</td>\n",
       "      <td>1</td>\n",
       "      <td>13.0</td>\n",
       "      <td>17.0</td>\n",
       "      <td>25.0</td>\n",
       "      <td>37.730000</td>\n",
       "      <td>39.180000</td>\n",
       "      <td>44.940000</td>\n",
       "      <td>Film &amp; Video</td>\n",
       "      <td>Film</td>\n",
       "      <td>Film</td>\n",
       "    </tr>\n",
       "    <tr>\n",
       "      <th>1</th>\n",
       "      <td>1002877193</td>\n",
       "      <td>1559689942</td>\n",
       "      <td>1562281942</td>\n",
       "      <td>3000.0</td>\n",
       "      <td>Video Games</td>\n",
       "      <td>1.562213e+09</td>\n",
       "      <td>19</td>\n",
       "      <td>3217.0</td>\n",
       "      <td>9.0</td>\n",
       "      <td>13.0</td>\n",
       "      <td>...</td>\n",
       "      <td>1</td>\n",
       "      <td>127.0</td>\n",
       "      <td>149.0</td>\n",
       "      <td>153.0</td>\n",
       "      <td>48.733333</td>\n",
       "      <td>56.233333</td>\n",
       "      <td>58.400000</td>\n",
       "      <td>Games</td>\n",
       "      <td>Games</td>\n",
       "      <td>Games</td>\n",
       "    </tr>\n",
       "    <tr>\n",
       "      <th>2</th>\n",
       "      <td>1002950518</td>\n",
       "      <td>1559343638</td>\n",
       "      <td>1561935638</td>\n",
       "      <td>500.0</td>\n",
       "      <td>Comics</td>\n",
       "      <td>1.561874e+09</td>\n",
       "      <td>17</td>\n",
       "      <td>1306.0</td>\n",
       "      <td>11.0</td>\n",
       "      <td>47.0</td>\n",
       "      <td>...</td>\n",
       "      <td>1</td>\n",
       "      <td>15.0</td>\n",
       "      <td>19.0</td>\n",
       "      <td>22.0</td>\n",
       "      <td>77.600000</td>\n",
       "      <td>89.800000</td>\n",
       "      <td>105.800000</td>\n",
       "      <td>Comics</td>\n",
       "      <td>Comics &amp; Illustartion</td>\n",
       "      <td>Comics &amp; Illustartion</td>\n",
       "    </tr>\n",
       "    <tr>\n",
       "      <th>3</th>\n",
       "      <td>1006560474</td>\n",
       "      <td>1559058077</td>\n",
       "      <td>1561650077</td>\n",
       "      <td>100.0</td>\n",
       "      <td>Product Design</td>\n",
       "      <td>1.561596e+09</td>\n",
       "      <td>15</td>\n",
       "      <td>461.0</td>\n",
       "      <td>3.0</td>\n",
       "      <td>48.0</td>\n",
       "      <td>...</td>\n",
       "      <td>1</td>\n",
       "      <td>12.0</td>\n",
       "      <td>17.0</td>\n",
       "      <td>18.0</td>\n",
       "      <td>124.000000</td>\n",
       "      <td>173.000000</td>\n",
       "      <td>185.000000</td>\n",
       "      <td>Design</td>\n",
       "      <td>Design &amp; Tech</td>\n",
       "      <td>Design &amp; Tech</td>\n",
       "    </tr>\n",
       "    <tr>\n",
       "      <th>4</th>\n",
       "      <td>1006860742</td>\n",
       "      <td>1558561181</td>\n",
       "      <td>1561500000</td>\n",
       "      <td>12000.0</td>\n",
       "      <td>Small Batch</td>\n",
       "      <td>1.561423e+09</td>\n",
       "      <td>21</td>\n",
       "      <td>202.0</td>\n",
       "      <td>16.0</td>\n",
       "      <td>54.0</td>\n",
       "      <td>...</td>\n",
       "      <td>0</td>\n",
       "      <td>2.0</td>\n",
       "      <td>2.0</td>\n",
       "      <td>2.0</td>\n",
       "      <td>0.841667</td>\n",
       "      <td>0.841667</td>\n",
       "      <td>0.841667</td>\n",
       "      <td>Food</td>\n",
       "      <td>Food &amp; Craft</td>\n",
       "      <td>Food &amp; Craft</td>\n",
       "    </tr>\n",
       "  </tbody>\n",
       "</table>\n",
       "<p>5 rows × 36 columns</p>\n",
       "</div>"
      ],
      "text/plain": [
       "   Project_Id  Project_launched_at  Project_deadline  Project_goal  \\\n",
       "0  1000414645           1560292936        1562884936       10000.0   \n",
       "1  1002877193           1559689942        1562281942        3000.0   \n",
       "2  1002950518           1559343638        1561935638         500.0   \n",
       "3  1006560474           1559058077        1561650077         100.0   \n",
       "4  1006860742           1558561181        1561500000       12000.0   \n",
       "\n",
       "  Project_category          Date  Days_to_go  Pledged  Options_number  \\\n",
       "0  Science Fiction  1.562814e+09          19  20139.0            12.0   \n",
       "1      Video Games  1.562213e+09          19   3217.0             9.0   \n",
       "2           Comics  1.561874e+09          17   1306.0            11.0   \n",
       "3   Product Design  1.561596e+09          15    461.0             3.0   \n",
       "4      Small Batch  1.561423e+09          21    202.0            16.0   \n",
       "\n",
       "   Title_count          ...            Success  backer1  backer2  backer3  \\\n",
       "0         35.0          ...                  1     13.0     17.0     25.0   \n",
       "1         13.0          ...                  1    127.0    149.0    153.0   \n",
       "2         47.0          ...                  1     15.0     19.0     22.0   \n",
       "3         48.0          ...                  1     12.0     17.0     18.0   \n",
       "4         54.0          ...                  0      2.0      2.0      2.0   \n",
       "\n",
       "       ratio1      ratio2      ratio3  Top_category         super_category  \\\n",
       "0   37.730000   39.180000   44.940000  Film & Video                   Film   \n",
       "1   48.733333   56.233333   58.400000         Games                  Games   \n",
       "2   77.600000   89.800000  105.800000        Comics  Comics & Illustartion   \n",
       "3  124.000000  173.000000  185.000000        Design          Design & Tech   \n",
       "4    0.841667    0.841667    0.841667          Food           Food & Craft   \n",
       "\n",
       "           cateogory_cat  \n",
       "0                   Film  \n",
       "1                  Games  \n",
       "2  Comics & Illustartion  \n",
       "3          Design & Tech  \n",
       "4           Food & Craft  \n",
       "\n",
       "[5 rows x 36 columns]"
      ]
     },
     "execution_count": 12,
     "metadata": {},
     "output_type": "execute_result"
    }
   ],
   "source": [
    "df.head()"
   ]
  },
  {
   "cell_type": "code",
   "execution_count": 13,
   "metadata": {},
   "outputs": [],
   "source": [
    "df['Success'] = df['Success'].apply(lambda x : 'Success' if x == 1 else 'Fail')"
   ]
  },
  {
   "cell_type": "code",
   "execution_count": 14,
   "metadata": {},
   "outputs": [],
   "source": [
    "# success_dict = {1:'Success',0:\"Fail\"}\n",
    "# df['Success'] = df['Success'].map(success_dict)"
   ]
  },
  {
   "cell_type": "code",
   "execution_count": 15,
   "metadata": {},
   "outputs": [
    {
     "name": "stderr",
     "output_type": "stream",
     "text": [
      "/Users/yonggeol/miniconda3/envs/py/lib/python3.6/site-packages/plotnine/ggplot.py:706: UserWarning: Saving 14 x 6 in image.\n",
      "  from_inches(height, units), units))\n",
      "/Users/yonggeol/miniconda3/envs/py/lib/python3.6/site-packages/plotnine/ggplot.py:707: UserWarning: Filename: Project categories histogram by success.pdf\n",
      "  warn('Filename: {}'.format(filename))\n"
     ]
    },
    {
     "data": {
      "text/plain": [
       "<Figure size 72x576 with 0 Axes>"
      ]
     },
     "metadata": {},
     "output_type": "display_data"
    },
    {
     "data": {
      "image/png": "[encoded data removed]",
      "text/plain": [
       "<Figure size 1400x600 with 2 Axes>"
      ]
     },
     "metadata": {},
     "output_type": "display_data"
    },
    {
     "data": {
      "text/plain": [
       "<ggplot: (-9223372029313350368)>"
      ]
     },
     "execution_count": 15,
     "metadata": {},
     "output_type": "execute_result"
    }
   ],
   "source": [
    "plt.rcParams['figure.figsize'] = [1, 8]\n",
    "fig = plt.figure()\n",
    "\n",
    "\n",
    "# graph 객체 생성\n",
    "com_plot = ggplot(df, aes('cateogory_cat',fill='cateogory_cat')) \\\n",
    "    + geom_bar(colour=\"black\") \\\n",
    "    + ggtitle('Project Category Histogram') \\\n",
    "    + theme(figure_size=(14, 6))\\\n",
    "    + facet_wrap('~Success')\n",
    "com_plot.save('Project categories histogram by success.pdf')\n",
    "com_plot"
   ]
  },
  {
   "cell_type": "code",
   "execution_count": 16,
   "metadata": {},
   "outputs": [],
   "source": [
    "Success_df = df[df['Success'] == 'Success']\n",
    "Fail_df = df[df['Success'] == 'Fail']"
   ]
  },
  {
   "cell_type": "code",
   "execution_count": 17,
   "metadata": {},
   "outputs": [
    {
     "name": "stdout",
     "output_type": "stream",
     "text": [
      "Success\n",
      "681\n"
     ]
    },
    {
     "data": {
      "text/html": [
       "<div>\n",
       "<style scoped>\n",
       "    .dataframe tbody tr th:only-of-type {\n",
       "        vertical-align: middle;\n",
       "    }\n",
       "\n",
       "    .dataframe tbody tr th {\n",
       "        vertical-align: top;\n",
       "    }\n",
       "\n",
       "    .dataframe thead th {\n",
       "        text-align: right;\n",
       "    }\n",
       "</style>\n",
       "<table border=\"1\" class=\"dataframe\">\n",
       "  <thead>\n",
       "    <tr style=\"text-align: right;\">\n",
       "      <th></th>\n",
       "      <th>cateogory_cat</th>\n",
       "    </tr>\n",
       "    <tr>\n",
       "      <th>cateogory_cat</th>\n",
       "      <th></th>\n",
       "    </tr>\n",
       "  </thead>\n",
       "  <tbody>\n",
       "    <tr>\n",
       "      <th>Design &amp; Tech</th>\n",
       "      <td>136</td>\n",
       "    </tr>\n",
       "    <tr>\n",
       "      <th>Games</th>\n",
       "      <td>150</td>\n",
       "    </tr>\n",
       "    <tr>\n",
       "      <th>Film</th>\n",
       "      <td>64</td>\n",
       "    </tr>\n",
       "    <tr>\n",
       "      <th>Comics &amp; Illustartion</th>\n",
       "      <td>95</td>\n",
       "    </tr>\n",
       "    <tr>\n",
       "      <th>Arts</th>\n",
       "      <td>78</td>\n",
       "    </tr>\n",
       "    <tr>\n",
       "      <th>Publishing</th>\n",
       "      <td>59</td>\n",
       "    </tr>\n",
       "    <tr>\n",
       "      <th>Food &amp; Craft</th>\n",
       "      <td>29</td>\n",
       "    </tr>\n",
       "    <tr>\n",
       "      <th>Music</th>\n",
       "      <td>70</td>\n",
       "    </tr>\n",
       "  </tbody>\n",
       "</table>\n",
       "</div>"
      ],
      "text/plain": [
       "                       cateogory_cat\n",
       "cateogory_cat                       \n",
       "Design & Tech                    136\n",
       "Games                            150\n",
       "Film                              64\n",
       "Comics & Illustartion             95\n",
       "Arts                              78\n",
       "Publishing                        59\n",
       "Food & Craft                      29\n",
       "Music                             70"
      ]
     },
     "execution_count": 17,
     "metadata": {},
     "output_type": "execute_result"
    }
   ],
   "source": [
    "# success\n",
    "print('Success')\n",
    "Success_df.groupby(['cateogory_cat'])['cateogory_cat'].count()\n",
    "print(pd.DataFrame(Success_df.groupby(['cateogory_cat'])['cateogory_cat'].count())['cateogory_cat'].sum())\n",
    "pd.DataFrame(Success_df.groupby(['cateogory_cat'])['cateogory_cat'].count())\n",
    "#print(pd.DataFrame(Success_df.groupby(['cateogory_cat'])['cateogory_cat'].count()).sum())"
   ]
  },
  {
   "cell_type": "code",
   "execution_count": 18,
   "metadata": {},
   "outputs": [
    {
     "name": "stdout",
     "output_type": "stream",
     "text": [
      "Fail\n",
      "634\n"
     ]
    },
    {
     "data": {
      "text/html": [
       "<div>\n",
       "<style scoped>\n",
       "    .dataframe tbody tr th:only-of-type {\n",
       "        vertical-align: middle;\n",
       "    }\n",
       "\n",
       "    .dataframe tbody tr th {\n",
       "        vertical-align: top;\n",
       "    }\n",
       "\n",
       "    .dataframe thead th {\n",
       "        text-align: right;\n",
       "    }\n",
       "</style>\n",
       "<table border=\"1\" class=\"dataframe\">\n",
       "  <thead>\n",
       "    <tr style=\"text-align: right;\">\n",
       "      <th></th>\n",
       "      <th>cateogory_cat</th>\n",
       "    </tr>\n",
       "    <tr>\n",
       "      <th>cateogory_cat</th>\n",
       "      <th></th>\n",
       "    </tr>\n",
       "  </thead>\n",
       "  <tbody>\n",
       "    <tr>\n",
       "      <th>Design &amp; Tech</th>\n",
       "      <td>140</td>\n",
       "    </tr>\n",
       "    <tr>\n",
       "      <th>Games</th>\n",
       "      <td>107</td>\n",
       "    </tr>\n",
       "    <tr>\n",
       "      <th>Film</th>\n",
       "      <td>93</td>\n",
       "    </tr>\n",
       "    <tr>\n",
       "      <th>Comics &amp; Illustartion</th>\n",
       "      <td>40</td>\n",
       "    </tr>\n",
       "    <tr>\n",
       "      <th>Arts</th>\n",
       "      <td>55</td>\n",
       "    </tr>\n",
       "    <tr>\n",
       "      <th>Publishing</th>\n",
       "      <td>70</td>\n",
       "    </tr>\n",
       "    <tr>\n",
       "      <th>Food &amp; Craft</th>\n",
       "      <td>94</td>\n",
       "    </tr>\n",
       "    <tr>\n",
       "      <th>Music</th>\n",
       "      <td>35</td>\n",
       "    </tr>\n",
       "  </tbody>\n",
       "</table>\n",
       "</div>"
      ],
      "text/plain": [
       "                       cateogory_cat\n",
       "cateogory_cat                       \n",
       "Design & Tech                    140\n",
       "Games                            107\n",
       "Film                              93\n",
       "Comics & Illustartion             40\n",
       "Arts                              55\n",
       "Publishing                        70\n",
       "Food & Craft                      94\n",
       "Music                             35"
      ]
     },
     "execution_count": 18,
     "metadata": {},
     "output_type": "execute_result"
    }
   ],
   "source": [
    "# fails\n",
    "print('Fail')\n",
    "Fail_df.groupby(['cateogory_cat'])['cateogory_cat'].count()\n",
    "print(pd.DataFrame(Fail_df.groupby(['cateogory_cat'])['cateogory_cat'].count())['cateogory_cat'].sum())\n",
    "pd.DataFrame(Fail_df.groupby(['cateogory_cat'])['cateogory_cat'].count())\n",
    "#print(pd.DataFrame(Fail_df.groupby(['cateogory_cat'])['cateogory_cat'].count()).sum())"
   ]
  },
  {
   "cell_type": "markdown",
   "metadata": {},
   "source": [
    "### Extracting random porject Id "
   ]
  },
  {
   "cell_type": "code",
   "execution_count": 19,
   "metadata": {},
   "outputs": [
    {
     "data": {
      "text/plain": [
       "array([1062666973, 1747087057, 1551439851,  134215141, 1957584202,\n",
       "        352288129,  641546462, 1506717255,  942262725, 1335789778,\n",
       "        218484190, 1326445159,  938223958, 1528084222,   38584919,\n",
       "       1087835970, 1638676452,  878502987, 1521441423,  347153442,\n",
       "       1105480924,  871180973, 2011670126, 2042639845,  433045705,\n",
       "       1917642363, 1032176728, 1879943827,  479552633,  162898685,\n",
       "       1503392877,  475119411,  977126736, 1829666631,  137375968,\n",
       "        142646826,  420400353, 1891531118, 2046741150,  280763616,\n",
       "       1562509015,  450312014,  747598393, 2110835140, 1879943827,\n",
       "        622251471, 2065327548,  812976823,  328104312, 1218053132])"
      ]
     },
     "execution_count": 19,
     "metadata": {},
     "output_type": "execute_result"
    }
   ],
   "source": [
    "# In the case of success\n",
    "Success_Id = Success_df['Project_Id'].values\n",
    "np.random.choice(Success_Id,50)"
   ]
  },
  {
   "cell_type": "code",
   "execution_count": 20,
   "metadata": {},
   "outputs": [
    {
     "data": {
      "text/plain": [
       "array([1853394005, 1842398615,  277296509,  547935737, 1100660627,\n",
       "        523184209, 1464159104,  494229645,  124667212, 1491816325,\n",
       "       1664957804, 1168737471, 1742840166,   52559663, 1616657643,\n",
       "        784341570, 1672638227, 1009609091, 1884063012,   63879116,\n",
       "       1025433522, 1558729364,  466185774,  844784884, 1738089975,\n",
       "       1731216745,  315565390,  390142964,  182787498,  743086356,\n",
       "       1213380635, 2090711716,  844784884,  809795105, 1019588208,\n",
       "        301974156,  797167870, 1600096138, 1638604412, 2146512320,\n",
       "       1324575603,   53568325, 1012629901,  720842902, 2082628388,\n",
       "       2096639983, 1091809927,  797822011,  154573366, 1239082612])"
      ]
     },
     "execution_count": 20,
     "metadata": {},
     "output_type": "execute_result"
    }
   ],
   "source": [
    "# In the case of fail\n",
    "Fail_df\n",
    "Fail_Id = Fail_df['Project_Id'].values\n",
    "np.random.choice(Fail_Id,50)"
   ]
  }
 ],
 "metadata": {
  "kernelspec": {
   "display_name": "Python 3",
   "language": "python",
   "name": "python3"
  },
  "language_info": {
   "codemirror_mode": {
    "name": "ipython",
    "version": 3
   },
   "file_extension": ".py",
   "mimetype": "text/x-python",
   "name": "python",
   "nbconvert_exporter": "python",
   "pygments_lexer": "ipython3",
   "version": "3.6.7"
  }
 },
 "nbformat": 4,
 "nbformat_minor": 2
}
