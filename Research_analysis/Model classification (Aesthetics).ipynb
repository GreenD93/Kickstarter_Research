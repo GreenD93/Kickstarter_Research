{
 "cells": [
  {
   "cell_type": "code",
   "execution_count": 1,
   "metadata": {},
   "outputs": [],
   "source": [
    "import pandas as pd"
   ]
  },
  {
   "cell_type": "code",
   "execution_count": 2,
   "metadata": {},
   "outputs": [],
   "source": [
    "anl_df = pd.read_csv('analysis_data.csv',encoding='utf-16')\n",
    "du_df = pd.read_csv('duration_survey_df.csv',encoding='utf-16')\n",
    "df = pd.read_csv('aes_df_pro.csv')"
   ]
  },
  {
   "cell_type": "code",
   "execution_count": 3,
   "metadata": {},
   "outputs": [],
   "source": [
    "## Data 전처리\n",
    "du_df = du_df[['project_id','duration']]\n",
    "du_df.columns = ['project_id','video_duration']"
   ]
  },
  {
   "cell_type": "code",
   "execution_count": 4,
   "metadata": {},
   "outputs": [],
   "source": [
    "rel_df = pd.merge(anl_df,du_df,on='project_id')"
   ]
  },
  {
   "cell_type": "code",
   "execution_count": 5,
   "metadata": {},
   "outputs": [],
   "source": [
    "Analysis_df = rel_df[['project_id','duration','project_goal','video_duration','update_count','project_blurb','faq_count',\\\n",
    "    'created_count','backed_count','ratio1','ratio2','ratio3','backer1','backer2','backer3','success']]"
   ]
  },
  {
   "cell_type": "code",
   "execution_count": 6,
   "metadata": {},
   "outputs": [
    {
     "name": "stderr",
     "output_type": "stream",
     "text": [
      "/Users/yonggeol/miniconda3/envs/py/lib/python3.6/site-packages/ipykernel_launcher.py:2: SettingWithCopyWarning: \n",
      "A value is trying to be set on a copy of a slice from a DataFrame.\n",
      "Try using .loc[row_indexer,col_indexer] = value instead\n",
      "\n",
      "See the caveats in the documentation: http://pandas.pydata.org/pandas-docs/stable/indexing.html#indexing-view-versus-copy\n",
      "  \n",
      "/Users/yonggeol/miniconda3/envs/py/lib/python3.6/site-packages/ipykernel_launcher.py:4: SettingWithCopyWarning: \n",
      "A value is trying to be set on a copy of a slice from a DataFrame.\n",
      "Try using .loc[row_indexer,col_indexer] = value instead\n",
      "\n",
      "See the caveats in the documentation: http://pandas.pydata.org/pandas-docs/stable/indexing.html#indexing-view-versus-copy\n",
      "  after removing the cwd from sys.path.\n",
      "/Users/yonggeol/miniconda3/envs/py/lib/python3.6/site-packages/ipykernel_launcher.py:5: SettingWithCopyWarning: \n",
      "A value is trying to be set on a copy of a slice from a DataFrame.\n",
      "Try using .loc[row_indexer,col_indexer] = value instead\n",
      "\n",
      "See the caveats in the documentation: http://pandas.pydata.org/pandas-docs/stable/indexing.html#indexing-view-versus-copy\n",
      "  \"\"\"\n"
     ]
    }
   ],
   "source": [
    "# Project_blurb\n",
    "Analysis_df['project_blurb'] = Analysis_df['project_blurb'].apply(lambda x : len(x))\n",
    "# Backed_count\n",
    "Analysis_df['backed_count'] = Analysis_df['backed_count'].apply(lambda x : 0 if x =='None' else x)\n",
    "Analysis_df['backed_count'] = Analysis_df['backed_count'].apply(lambda x : float(x))"
   ]
  },
  {
   "cell_type": "code",
   "execution_count": 7,
   "metadata": {},
   "outputs": [],
   "source": [
    "analysis_col = ['project_id','BalacingElements', 'ColorHarmony', 'Content', \n",
    "    'DoF', 'Light', 'Object', 'Repetition', 'RuleOfThirds', 'Symmetry', 'VividColor','Score']"
   ]
  },
  {
   "cell_type": "code",
   "execution_count": 8,
   "metadata": {},
   "outputs": [],
   "source": [
    "aes_df = df[analysis_col]"
   ]
  },
  {
   "cell_type": "code",
   "execution_count": 9,
   "metadata": {},
   "outputs": [
    {
     "data": {
      "text/html": [
       "<div>\n",
       "<style scoped>\n",
       "    .dataframe tbody tr th:only-of-type {\n",
       "        vertical-align: middle;\n",
       "    }\n",
       "\n",
       "    .dataframe tbody tr th {\n",
       "        vertical-align: top;\n",
       "    }\n",
       "\n",
       "    .dataframe thead th {\n",
       "        text-align: right;\n",
       "    }\n",
       "</style>\n",
       "<table border=\"1\" class=\"dataframe\">\n",
       "  <thead>\n",
       "    <tr style=\"text-align: right;\">\n",
       "      <th></th>\n",
       "      <th>project_id</th>\n",
       "      <th>BalacingElements</th>\n",
       "      <th>ColorHarmony</th>\n",
       "      <th>Content</th>\n",
       "      <th>DoF</th>\n",
       "      <th>Light</th>\n",
       "      <th>Object</th>\n",
       "      <th>Repetition</th>\n",
       "      <th>RuleOfThirds</th>\n",
       "      <th>Symmetry</th>\n",
       "      <th>VividColor</th>\n",
       "      <th>Score</th>\n",
       "    </tr>\n",
       "  </thead>\n",
       "  <tbody>\n",
       "    <tr>\n",
       "      <th>0</th>\n",
       "      <td>669731968</td>\n",
       "      <td>-0.039400</td>\n",
       "      <td>0.078795</td>\n",
       "      <td>-0.168624</td>\n",
       "      <td>-0.008868</td>\n",
       "      <td>-0.117475</td>\n",
       "      <td>0.143944</td>\n",
       "      <td>0.054664</td>\n",
       "      <td>-0.075746</td>\n",
       "      <td>0.027599</td>\n",
       "      <td>-0.217975</td>\n",
       "      <td>0.520444</td>\n",
       "    </tr>\n",
       "    <tr>\n",
       "      <th>1</th>\n",
       "      <td>475119411</td>\n",
       "      <td>0.084730</td>\n",
       "      <td>0.347241</td>\n",
       "      <td>0.272903</td>\n",
       "      <td>-0.012265</td>\n",
       "      <td>0.028955</td>\n",
       "      <td>-0.051417</td>\n",
       "      <td>0.042720</td>\n",
       "      <td>0.027142</td>\n",
       "      <td>0.021942</td>\n",
       "      <td>-0.074102</td>\n",
       "      <td>0.613511</td>\n",
       "    </tr>\n",
       "    <tr>\n",
       "      <th>2</th>\n",
       "      <td>149769944</td>\n",
       "      <td>-0.004369</td>\n",
       "      <td>0.147379</td>\n",
       "      <td>0.135524</td>\n",
       "      <td>0.009826</td>\n",
       "      <td>-0.088443</td>\n",
       "      <td>0.524562</td>\n",
       "      <td>0.071862</td>\n",
       "      <td>-0.059515</td>\n",
       "      <td>0.047052</td>\n",
       "      <td>-0.189603</td>\n",
       "      <td>0.569721</td>\n",
       "    </tr>\n",
       "    <tr>\n",
       "      <th>3</th>\n",
       "      <td>1883635834</td>\n",
       "      <td>-0.023761</td>\n",
       "      <td>0.082842</td>\n",
       "      <td>-0.196100</td>\n",
       "      <td>0.019896</td>\n",
       "      <td>-0.160599</td>\n",
       "      <td>0.041255</td>\n",
       "      <td>0.011802</td>\n",
       "      <td>-0.056203</td>\n",
       "      <td>0.006691</td>\n",
       "      <td>-0.192710</td>\n",
       "      <td>0.521484</td>\n",
       "    </tr>\n",
       "    <tr>\n",
       "      <th>4</th>\n",
       "      <td>419752392</td>\n",
       "      <td>-0.008043</td>\n",
       "      <td>0.166219</td>\n",
       "      <td>-0.016462</td>\n",
       "      <td>0.082089</td>\n",
       "      <td>-0.021277</td>\n",
       "      <td>0.137687</td>\n",
       "      <td>0.034483</td>\n",
       "      <td>-0.026740</td>\n",
       "      <td>0.012757</td>\n",
       "      <td>-0.085617</td>\n",
       "      <td>0.556743</td>\n",
       "    </tr>\n",
       "  </tbody>\n",
       "</table>\n",
       "</div>"
      ],
      "text/plain": [
       "   project_id  BalacingElements  ColorHarmony   Content       DoF     Light  \\\n",
       "0   669731968         -0.039400      0.078795 -0.168624 -0.008868 -0.117475   \n",
       "1   475119411          0.084730      0.347241  0.272903 -0.012265  0.028955   \n",
       "2   149769944         -0.004369      0.147379  0.135524  0.009826 -0.088443   \n",
       "3  1883635834         -0.023761      0.082842 -0.196100  0.019896 -0.160599   \n",
       "4   419752392         -0.008043      0.166219 -0.016462  0.082089 -0.021277   \n",
       "\n",
       "     Object  Repetition  RuleOfThirds  Symmetry  VividColor     Score  \n",
       "0  0.143944    0.054664     -0.075746  0.027599   -0.217975  0.520444  \n",
       "1 -0.051417    0.042720      0.027142  0.021942   -0.074102  0.613511  \n",
       "2  0.524562    0.071862     -0.059515  0.047052   -0.189603  0.569721  \n",
       "3  0.041255    0.011802     -0.056203  0.006691   -0.192710  0.521484  \n",
       "4  0.137687    0.034483     -0.026740  0.012757   -0.085617  0.556743  "
      ]
     },
     "execution_count": 9,
     "metadata": {},
     "output_type": "execute_result"
    }
   ],
   "source": [
    "aes_df.head()"
   ]
  },
  {
   "cell_type": "code",
   "execution_count": 10,
   "metadata": {},
   "outputs": [],
   "source": [
    "success_check_df = anl_df[['project_id','success']]"
   ]
  },
  {
   "cell_type": "code",
   "execution_count": 11,
   "metadata": {},
   "outputs": [],
   "source": [
    "aesf_df = pd.merge(aes_df,success_check_df,on='project_id')"
   ]
  },
  {
   "cell_type": "code",
   "execution_count": 12,
   "metadata": {},
   "outputs": [
    {
     "data": {
      "text/plain": [
       "(965, 13)"
      ]
     },
     "execution_count": 12,
     "metadata": {},
     "output_type": "execute_result"
    }
   ],
   "source": [
    "aesf_df.shape"
   ]
  },
  {
   "cell_type": "code",
   "execution_count": 13,
   "metadata": {},
   "outputs": [],
   "source": [
    "aesf_df.to_csv('summaried_project.csv',index=False)"
   ]
  },
  {
   "cell_type": "markdown",
   "metadata": {},
   "source": [
    "## Data set split"
   ]
  },
  {
   "cell_type": "code",
   "execution_count": null,
   "metadata": {},
   "outputs": [],
   "source": [
    "from sklearn.utils import shuffle\n",
    "total_df = pd.merge(aes_df,Analysis_df,on='project_id')\n",
    "total_df = shuffle(total_df)"
   ]
  },
  {
   "cell_type": "code",
   "execution_count": null,
   "metadata": {},
   "outputs": [],
   "source": [
    "from sklearn.preprocessing import StandardScaler\n",
    "ind = total_df.drop(['project_id','success'],axis=1)\n",
    "scaler = StandardScaler()\n",
    "scaler.fit(ind)\n",
    "\n",
    "X_scaled = scaler.transform(ind)\n",
    "target = total_df['success']"
   ]
  },
  {
   "cell_type": "code",
   "execution_count": null,
   "metadata": {},
   "outputs": [],
   "source": [
    "from sklearn.model_selection import train_test_split\n",
    "\n",
    "X_train, X_test, y_train, y_test = train_test_split(X_scaled, target, test_size =0.3, random_state=0)\n",
    "aes_X_train, aes_X_test = X_train[:,:10], X_test[:,:10]\n",
    "basic_X_train, basic_X_test = X_train[:,10:], X_test[:,10:]"
   ]
  },
  {
   "cell_type": "markdown",
   "metadata": {},
   "source": [
    "## Aesthetics feature Model"
   ]
  },
  {
   "cell_type": "code",
   "execution_count": null,
   "metadata": {},
   "outputs": [],
   "source": [
    "from xgboost import XGBClassifier\n",
    "from sklearn.metrics import roc_auc_score\n",
    "from sklearn.model_selection import GridSearchCV\n",
    "\n",
    "# 하이퍼 파라미터 테스트의 수행 속도를 향상시키기 위해 n_estimators를 100으로 감소\n",
    "xgb_clf = XGBClassifier(n_estimators=500, random_state=156)\n",
    "\n",
    "params = {\n",
    "          'max_depth':[5,7,9],\n",
    "          'min_child_weight':[1,3,5],\n",
    "          'colsample_bytree':[0.5,0.75]\n",
    "}\n",
    "\n",
    "# 하이퍼 파라미터 테스트의 수행속도를 향상시키기 위해 cv를 지정하지 않음\n",
    "gridcv = GridSearchCV(xgb_clf, param_grid=params)\n",
    "gridcv.fit(aes_X_train, y_train, early_stopping_rounds=30, eval_metric='auc',\\\n",
    "          eval_set = [(aes_X_train,y_train),(aes_X_test,y_test)])\n",
    "\n",
    "print('GridSearchCV 최적 파라미터 : ', gridcv.best_params_)\n",
    "\n",
    "xgb_roc_score = roc_auc_score(y_test,gridcv.predict_proba(aes_X_test)[:,1], average='macro')\n",
    "print('ROC AUC: {0:.4f}'.format(xgb_roc_score))"
   ]
  },
  {
   "cell_type": "markdown",
   "metadata": {},
   "source": [
    "## Aesthetics feature와 선행 연구 feature Merge"
   ]
  },
  {
   "cell_type": "code",
   "execution_count": null,
   "metadata": {},
   "outputs": [],
   "source": [
    "from xgboost import XGBClassifier\n",
    "from sklearn.metrics import roc_auc_score\n",
    "from sklearn.model_selection import GridSearchCV\n",
    "\n",
    "# 하이퍼 파라미터 테스트의 수행 속도를 향상시키기 위해 n_estimators를 100으로 감소\n",
    "xgb_clf = XGBClassifier(n_estimators=100, random_state=156)\n",
    "\n",
    "params = {\n",
    "          'max_depth':[5,7,9],\n",
    "          'min_child_weight':[1,3,5],\n",
    "          'colsample_bytree':[0.5,0.75]\n",
    "}\n",
    "\n",
    "# 하이퍼 파라미터 테스트의 수행속도를 향상시키기 위해 cv를 지정하지 않음\n",
    "gridcv = GridSearchCV(xgb_clf, param_grid=params)\n",
    "gridcv.fit(X_train, y_train, early_stopping_rounds=30, eval_metric='auc',\\\n",
    "          eval_set = [(X_train,y_train),(X_test,y_test)])\n",
    "\n",
    "print('GridSearchCV 최적 파라미터 : ', gridcv.best_params_)\n",
    "\n",
    "xgb_roc_score = roc_auc_score(y_test,gridcv.predict_proba(X_test)[:,1], average='macro')\n",
    "print('ROC AUC: {0:.4f}'.format(xgb_roc_score))"
   ]
  },
  {
   "cell_type": "markdown",
   "metadata": {},
   "source": [
    "## 선행연구 Model"
   ]
  },
  {
   "cell_type": "code",
   "execution_count": null,
   "metadata": {},
   "outputs": [],
   "source": [
    "from xgboost import XGBClassifier\n",
    "from sklearn.metrics import roc_auc_score\n",
    "from sklearn.model_selection import GridSearchCV\n",
    "\n",
    "# 하이퍼 파라미터 테스트의 수행 속도를 향상시키기 위해 n_estimators를 100으로 감소\n",
    "xgb_clf = XGBClassifier(n_estimators=100, random_state=156)\n",
    "\n",
    "params = {\n",
    "          'max_depth':[5,7,9],\n",
    "          'min_child_weight':[1,3,5],\n",
    "          'colsample_bytree':[0.5,0.75]\n",
    "}\n",
    "\n",
    "# 하이퍼 파라미터 테스트의 수행속도를 향상시키기 위해 cv를 지정하지 않음\n",
    "gridcv = GridSearchCV(xgb_clf, param_grid=params)\n",
    "gridcv.fit(basic_X_train, y_train, early_stopping_rounds=30, eval_metric='auc',\\\n",
    "          eval_set = [(basic_X_train,y_train),(basic_X_test,y_test)])\n",
    "\n",
    "print('GridSearchCV 최적 파라미터 : ', gridcv.best_params_)\n",
    "\n",
    "xgb_roc_score = roc_auc_score(y_test,gridcv.predict_proba(basic_X_test)[:,1], average='macro')\n",
    "print('ROC AUC: {0:.4f}'.format(xgb_roc_score))"
   ]
  },
  {
   "cell_type": "markdown",
   "metadata": {},
   "source": [
    "## Aesthetics + 선행연구 feature importance"
   ]
  },
  {
   "cell_type": "code",
   "execution_count": null,
   "metadata": {
    "scrolled": true
   },
   "outputs": [],
   "source": [
    "# n_estimators는 1000으로 증가시키고, learning_rate=0.02로 감소, reg_alpha=0.03으로 추가함.\n",
    "xgb_clf = XGBClassifier(n_estimators=1000, random_state=156, learning_rate=0.02, max_depth=5,\\\n",
    "                       min_child_weight = 5, colsample_byree=0.5, reg_alpha=0.03)\n",
    "\n",
    "# 성능 평가 지표를 auc로, 조기 중단 파라미터 값은 200으로 설정하고 학습 수행\n",
    "\n",
    "# 하이퍼 파라미터 테스트의 수행속도를 향상시키기 위해 cv를 지정하지 않음\n",
    "xgb_clf.fit(X_train, y_train, early_stopping_rounds=200, eval_metric='auc',\\\n",
    "          eval_set=[(X_train, y_train),(X_test,y_test)])\n",
    "\n",
    "xgb_roc_score = roc_auc_score(y_test, xgb_clf.predict_proba(X_test)[:,1],average='macro')\n",
    "print('ROC AUC:{0:.4f}'.format(xgb_roc_score))"
   ]
  },
  {
   "cell_type": "code",
   "execution_count": null,
   "metadata": {},
   "outputs": [],
   "source": [
    "col_names = ind.columns.tolist()\n",
    "for i,col_name in enumerate(col_names):\n",
    "    print('f{0} : {1}'.format(i,col_name))"
   ]
  },
  {
   "cell_type": "code",
   "execution_count": null,
   "metadata": {},
   "outputs": [],
   "source": [
    "from xgboost import plot_importance\n",
    "import matplotlib.pyplot as plt\n",
    "%matplotlib inline\n",
    "\n",
    "fig, ax = plt.subplots(1,1,figsize=(10,8))\n",
    "plot_importance(xgb_clf, ax=ax, max_num_features=20,height=0.4)"
   ]
  },
  {
   "cell_type": "markdown",
   "metadata": {},
   "source": [
    "## 선행연구 비교"
   ]
  },
  {
   "cell_type": "code",
   "execution_count": null,
   "metadata": {},
   "outputs": [],
   "source": [
    "# n_estimators는 1000으로 증가시키고, learning_rate=0.02로 감소, reg_alpha=0.03으로 추가함.\n",
    "xgb_clf = XGBClassifier(n_estimators=1000, random_state=156, learning_rate=0.02, max_depth=5,\\\n",
    "                       min_child_weight = 5, colsample_byree=0.5, reg_alpha=0.03)\n",
    "\n",
    "# 성능 평가 지표를 auc로, 조기 중단 파라미터 값은 200으로 설정하고 학습 수행\n",
    "\n",
    "# 하이퍼 파라미터 테스트의 수행속도를 향상시키기 위해 cv를 지정하지 않음\n",
    "xgb_clf.fit(basic_X_train, y_train, early_stopping_rounds=200, eval_metric='auc',\\\n",
    "          eval_set=[(basic_X_train, y_train),(basic_X_test,y_test)])\n",
    "\n",
    "xgb_roc_score = roc_auc_score(y_test, xgb_clf.predict_proba(basic_X_test)[:,1],average='macro')\n",
    "print('ROC AUC:{0:.4f}'.format(xgb_roc_score))"
   ]
  },
  {
   "cell_type": "markdown",
   "metadata": {},
   "source": [
    "## Classical feature importance"
   ]
  },
  {
   "cell_type": "code",
   "execution_count": null,
   "metadata": {},
   "outputs": [],
   "source": [
    "import Feature_importance"
   ]
  },
  {
   "cell_type": "code",
   "execution_count": null,
   "metadata": {},
   "outputs": [],
   "source": [
    "classical_df = total_df.drop('project_id',axis=1)"
   ]
  },
  {
   "cell_type": "code",
   "execution_count": null,
   "metadata": {},
   "outputs": [],
   "source": [
    "imporntace_model = Feature_importance.feature_importance(classical_df,'success',scaler='std')"
   ]
  },
  {
   "cell_type": "markdown",
   "metadata": {},
   "source": [
    "## Chisqure"
   ]
  },
  {
   "cell_type": "code",
   "execution_count": null,
   "metadata": {},
   "outputs": [],
   "source": [
    "imporntace_model.chisquare()"
   ]
  },
  {
   "cell_type": "markdown",
   "metadata": {},
   "source": [
    "## Random forest"
   ]
  },
  {
   "cell_type": "code",
   "execution_count": null,
   "metadata": {},
   "outputs": [],
   "source": [
    "imporntace_model.random_forest()"
   ]
  },
  {
   "cell_type": "markdown",
   "metadata": {},
   "source": [
    "## Logistic regression"
   ]
  },
  {
   "cell_type": "code",
   "execution_count": null,
   "metadata": {},
   "outputs": [],
   "source": [
    "imporntace_model.logistic_regression()"
   ]
  }
 ],
 "metadata": {
  "kernelspec": {
   "display_name": "Python 3",
   "language": "python",
   "name": "python3"
  },
  "language_info": {
   "codemirror_mode": {
    "name": "ipython",
    "version": 3
   },
   "file_extension": ".py",
   "mimetype": "text/x-python",
   "name": "python",
   "nbconvert_exporter": "python",
   "pygments_lexer": "ipython3",
   "version": "3.6.7"
  }
 },
 "nbformat": 4,
 "nbformat_minor": 2
}
