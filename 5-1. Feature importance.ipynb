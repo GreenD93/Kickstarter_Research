{
 "cells": [
  {
   "cell_type": "code",
   "execution_count": 1,
   "metadata": {},
   "outputs": [],
   "source": [
    "from Utilities import Feature_importance\n",
    "import pandas as pd\n",
    "import numpy as np"
   ]
  },
  {
   "cell_type": "code",
   "execution_count": 2,
   "metadata": {},
   "outputs": [],
   "source": [
    "df = pd.read_csv('./Data/analysis_data.csv',encoding='utf-16')\n",
    "df_duration = pd.read_csv('./Data/duration_survey_df.csv',encoding='utf-16')"
   ]
  },
  {
   "cell_type": "code",
   "execution_count": 3,
   "metadata": {},
   "outputs": [],
   "source": [
    "video_df = df_duration[['Project_Id','duration']]\n",
    "video_df = video_df.rename(columns = {'duration':'video_duration'})"
   ]
  },
  {
   "cell_type": "code",
   "execution_count": 4,
   "metadata": {},
   "outputs": [],
   "source": [
    "final_df = pd.merge(df,video_df,how='left')"
   ]
  },
  {
   "cell_type": "code",
   "execution_count": 5,
   "metadata": {},
   "outputs": [],
   "source": [
    "# 최종 1002개 비디오만 추출\n",
    "final_video_df = pd.read_csv('./Data/Final_video.csv',encoding='utf-16')\n",
    "final_list = final_video_df['Project_Id'].tolist()\n",
    "final_df = final_df[final_df.Project_Id.isin(final_list)]"
   ]
  },
  {
   "cell_type": "code",
   "execution_count": 6,
   "metadata": {},
   "outputs": [
    {
     "data": {
      "text/plain": [
       "(1002, 36)"
      ]
     },
     "execution_count": 6,
     "metadata": {},
     "output_type": "execute_result"
    }
   ],
   "source": [
    "final_df.shape"
   ]
  },
  {
   "cell_type": "code",
   "execution_count": 7,
   "metadata": {},
   "outputs": [
    {
     "data": {
      "text/plain": [
       "['Project_Id',\n",
       " 'Project_launched_at',\n",
       " 'Project_deadline',\n",
       " 'Project_goal',\n",
       " 'Project_category',\n",
       " 'Date',\n",
       " 'Days_to_go',\n",
       " 'Pledged',\n",
       " 'Options_number',\n",
       " 'Title_count',\n",
       " 'Blurb_count',\n",
       " 'Content_text_length',\n",
       " 'Content_img_count',\n",
       " 'Faq_count',\n",
       " 'Update_count',\n",
       " 'Comment_count',\n",
       " 'Backers',\n",
       " 'Video_name',\n",
       " 'Cancel_check',\n",
       " 'Project_title',\n",
       " 'Project_blurb',\n",
       " 'Backed_count',\n",
       " 'Created_count',\n",
       " 'num_crawl',\n",
       " 'duration',\n",
       " 'diff',\n",
       " 'Success',\n",
       " 'backer1',\n",
       " 'backer2',\n",
       " 'backer3',\n",
       " 'ratio1',\n",
       " 'ratio2',\n",
       " 'ratio3',\n",
       " 'Top_category',\n",
       " 'super_category',\n",
       " 'video_duration']"
      ]
     },
     "execution_count": 7,
     "metadata": {},
     "output_type": "execute_result"
    }
   ],
   "source": [
    "final_df.columns.tolist()"
   ]
  },
  {
   "cell_type": "code",
   "execution_count": 8,
   "metadata": {},
   "outputs": [],
   "source": [
    "Analysis_df = final_df[['duration','Project_goal','video_duration','Update_count','Project_blurb','Faq_count',\\\n",
    "    'Created_count','Backed_count','ratio1','ratio2','ratio3','backer1','backer2','backer3','Success']]"
   ]
  },
  {
   "cell_type": "code",
   "execution_count": 9,
   "metadata": {},
   "outputs": [
    {
     "name": "stderr",
     "output_type": "stream",
     "text": [
      "/Users/yonggeol/miniconda3/envs/py/lib/python3.6/site-packages/ipykernel_launcher.py:2: SettingWithCopyWarning: \n",
      "A value is trying to be set on a copy of a slice from a DataFrame.\n",
      "Try using .loc[row_indexer,col_indexer] = value instead\n",
      "\n",
      "See the caveats in the documentation: http://pandas.pydata.org/pandas-docs/stable/indexing.html#indexing-view-versus-copy\n",
      "  \n",
      "/Users/yonggeol/miniconda3/envs/py/lib/python3.6/site-packages/ipykernel_launcher.py:4: SettingWithCopyWarning: \n",
      "A value is trying to be set on a copy of a slice from a DataFrame.\n",
      "Try using .loc[row_indexer,col_indexer] = value instead\n",
      "\n",
      "See the caveats in the documentation: http://pandas.pydata.org/pandas-docs/stable/indexing.html#indexing-view-versus-copy\n",
      "  after removing the cwd from sys.path.\n",
      "/Users/yonggeol/miniconda3/envs/py/lib/python3.6/site-packages/ipykernel_launcher.py:5: SettingWithCopyWarning: \n",
      "A value is trying to be set on a copy of a slice from a DataFrame.\n",
      "Try using .loc[row_indexer,col_indexer] = value instead\n",
      "\n",
      "See the caveats in the documentation: http://pandas.pydata.org/pandas-docs/stable/indexing.html#indexing-view-versus-copy\n",
      "  \"\"\"\n"
     ]
    }
   ],
   "source": [
    "# Project_blurb\n",
    "Analysis_df['Project_blurb'] = Analysis_df['Project_blurb'].apply(lambda x : len(x))\n",
    "# Backed_count\n",
    "Analysis_df['Backed_count'] = Analysis_df['Backed_count'].apply(lambda x : 0 if x =='None' else x)\n",
    "Analysis_df['Backed_count'] = Analysis_df['Backed_count'].apply(lambda x : float(x))"
   ]
  },
  {
   "cell_type": "markdown",
   "metadata": {},
   "source": [
    "## Feature importance"
   ]
  },
  {
   "cell_type": "code",
   "execution_count": 10,
   "metadata": {},
   "outputs": [],
   "source": [
    "Analysis_df.shape\n",
    "imporntace_model = Feature_importance.feature_importance(Analysis_df,'Success',scaler='std')"
   ]
  },
  {
   "cell_type": "markdown",
   "metadata": {},
   "source": [
    "### Chi-squre"
   ]
  },
  {
   "cell_type": "code",
   "execution_count": 11,
   "metadata": {},
   "outputs": [
    {
     "name": "stdout",
     "output_type": "stream",
     "text": [
      "Feature ranking:\n",
      "Rank : 1 \t Feature : Update_count (14.772035)\n",
      "Rank : 2 \t Feature : backer3 (10.656726)\n",
      "Rank : 3 \t Feature : Faq_count (10.426748)\n",
      "Rank : 4 \t Feature : backer2 (10.122564)\n",
      "Rank : 5 \t Feature : backer1 (9.270565)\n",
      "Rank : 6 \t Feature : Created_count (8.749066)\n",
      "Rank : 7 \t Feature : Backed_count (7.282754)\n",
      "Rank : 8 \t Feature : Project_goal (5.316397)\n",
      "Rank : 9 \t Feature : ratio3 (0.864723)\n",
      "Rank : 10 \t Feature : ratio2 (0.864432)\n",
      "Rank : 11 \t Feature : ratio1 (0.859626)\n",
      "Rank : 12 \t Feature : duration (0.832251)\n",
      "Rank : 13 \t Feature : video_duration (0.503224)\n",
      "Rank : 14 \t Feature : Project_blurb (0.079913)\n"
     ]
    }
   ],
   "source": [
    "imporntace_model.chisquare()"
   ]
  },
  {
   "cell_type": "markdown",
   "metadata": {},
   "source": [
    "### Random forest"
   ]
  },
  {
   "cell_type": "code",
   "execution_count": 12,
   "metadata": {},
   "outputs": [
    {
     "name": "stderr",
     "output_type": "stream",
     "text": [
      "/Users/yonggeol/workspace/Kickstarter/Utilities/Feature_importance.py:59: DataConversionWarning: A column-vector y was passed when a 1d array was expected. Please change the shape of y to (n_samples,), for example using ravel().\n",
      "  clf.fit(x, self.y)\n"
     ]
    },
    {
     "name": "stdout",
     "output_type": "stream",
     "text": [
      "Feature ranking:\n",
      "Rank : 0 \t Feature : ratio3 (0.271361)\n",
      "Rank : 1 \t Feature : ratio1 (0.255185)\n",
      "Rank : 2 \t Feature : backer2 (0.201624)\n",
      "Rank : 3 \t Feature : ratio2 (0.128795)\n",
      "Rank : 4 \t Feature : Update_count (0.041554)\n",
      "Rank : 5 \t Feature : backer3 (0.038633)\n",
      "Rank : 6 \t Feature : backer1 (0.030016)\n",
      "Rank : 7 \t Feature : Project_goal (0.028049)\n",
      "Rank : 8 \t Feature : video_duration (0.003149)\n",
      "Rank : 9 \t Feature : Faq_count (0.001195)\n",
      "Rank : 10 \t Feature : Project_blurb (0.000438)\n",
      "Rank : 11 \t Feature : Backed_count (0.000000)\n",
      "Rank : 12 \t Feature : Created_count (0.000000)\n",
      "Rank : 13 \t Feature : duration (0.000000)\n"
     ]
    },
    {
     "data": {
      "image/png": "[encoded data removed]",
      "text/plain": [
       "<Figure size 432x288 with 1 Axes>"
      ]
     },
     "metadata": {},
     "output_type": "display_data"
    }
   ],
   "source": [
    "imporntace_model.random_forest()"
   ]
  },
  {
   "cell_type": "markdown",
   "metadata": {},
   "source": [
    "### Logistic regression"
   ]
  },
  {
   "cell_type": "code",
   "execution_count": 13,
   "metadata": {},
   "outputs": [
    {
     "name": "stderr",
     "output_type": "stream",
     "text": [
      "/Users/yonggeol/miniconda3/envs/py/lib/python3.6/site-packages/sklearn/utils/validation.py:578: DataConversionWarning: A column-vector y was passed when a 1d array was expected. Please change the shape of y to (n_samples, ), for example using ravel().\n",
      "  y = column_or_1d(y, warn=True)\n",
      "/Users/yonggeol/miniconda3/envs/py/lib/python3.6/site-packages/sklearn/linear_model/sag.py:326: ConvergenceWarning: The max_iter was reached which means the coef_ did not converge\n",
      "  \"the coef_ did not converge\", ConvergenceWarning)\n"
     ]
    },
    {
     "name": "stdout",
     "output_type": "stream",
     "text": [
      "Feature ranking:\n",
      "Rank : 1 \t Feature : Project_goal (100.000000)\n",
      "Rank : 2 \t Feature : backer3 (47.962702)\n",
      "Rank : 3 \t Feature : backer2 (39.144326)\n",
      "Rank : 4 \t Feature : backer1 (27.379858)\n",
      "Rank : 5 \t Feature : Update_count (20.882263)\n",
      "Rank : 6 \t Feature : duration (6.451677)\n",
      "Rank : 7 \t Feature : Faq_count (4.194312)\n",
      "Rank : 8 \t Feature : Created_count (3.957254)\n",
      "Rank : 9 \t Feature : Project_blurb (2.796463)\n",
      "Rank : 10 \t Feature : video_duration (2.423973)\n",
      "Rank : 11 \t Feature : ratio2 (2.132659)\n",
      "Rank : 12 \t Feature : ratio3 (2.111067)\n",
      "Rank : 13 \t Feature : ratio1 (1.585292)\n",
      "Rank : 14 \t Feature : Backed_count (0.567703)\n"
     ]
    },
    {
     "data": {
      "image/png": "[encoded data removed]",
      "text/plain": [
       "<Figure size 432x288 with 1 Axes>"
      ]
     },
     "metadata": {},
     "output_type": "display_data"
    }
   ],
   "source": [
    "imporntace_model.logistic_regression()"
   ]
  }
 ],
 "metadata": {
  "kernelspec": {
   "display_name": "Python 3",
   "language": "python",
   "name": "python3"
  },
  "language_info": {
   "codemirror_mode": {
    "name": "ipython",
    "version": 3
   },
   "file_extension": ".py",
   "mimetype": "text/x-python",
   "name": "python",
   "nbconvert_exporter": "python",
   "pygments_lexer": "ipython3",
   "version": "3.6.7"
  }
 },
 "nbformat": 4,
 "nbformat_minor": 2
}
