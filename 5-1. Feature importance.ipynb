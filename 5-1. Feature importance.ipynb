{
 "cells": [
  {
   "cell_type": "code",
   "execution_count": 1,
   "metadata": {},
   "outputs": [],
   "source": [
    "import Feature_importance\n",
    "import pandas as pd\n",
    "import numpy as np"
   ]
  },
  {
   "cell_type": "code",
   "execution_count": 2,
   "metadata": {},
   "outputs": [],
   "source": [
    "df = pd.read_csv('analysis_data.csv',encoding='utf-16')\n",
    "df_duration = pd.read_csv('duration_survey_df.csv',encoding='utf-16')"
   ]
  },
  {
   "cell_type": "code",
   "execution_count": 3,
   "metadata": {},
   "outputs": [],
   "source": [
    "video_df = df_duration[['Project_Id','duration']]\n",
    "video_df = video_df.rename(columns = {'duration':'video_duration'})"
   ]
  },
  {
   "cell_type": "code",
   "execution_count": 4,
   "metadata": {},
   "outputs": [],
   "source": [
    "final_df = pd.merge(df,video_df,how='left')"
   ]
  },
  {
   "cell_type": "code",
   "execution_count": 5,
   "metadata": {},
   "outputs": [
    {
     "data": {
      "text/plain": [
       "(1315, 36)"
      ]
     },
     "execution_count": 5,
     "metadata": {},
     "output_type": "execute_result"
    }
   ],
   "source": [
    "final_df.shape"
   ]
  },
  {
   "cell_type": "code",
   "execution_count": 6,
   "metadata": {},
   "outputs": [
    {
     "data": {
      "text/plain": [
       "['Project_Id',\n",
       " 'Project_launched_at',\n",
       " 'Project_deadline',\n",
       " 'Project_goal',\n",
       " 'Project_category',\n",
       " 'Date',\n",
       " 'Days_to_go',\n",
       " 'Pledged',\n",
       " 'Options_number',\n",
       " 'Title_count',\n",
       " 'Blurb_count',\n",
       " 'Content_text_length',\n",
       " 'Content_img_count',\n",
       " 'Faq_count',\n",
       " 'Update_count',\n",
       " 'Comment_count',\n",
       " 'Backers',\n",
       " 'Video_name',\n",
       " 'Cancel_check',\n",
       " 'Project_title',\n",
       " 'Project_blurb',\n",
       " 'Backed_count',\n",
       " 'Created_count',\n",
       " 'num_crawl',\n",
       " 'duration',\n",
       " 'diff',\n",
       " 'Success',\n",
       " 'backer1',\n",
       " 'backer2',\n",
       " 'backer3',\n",
       " 'ratio1',\n",
       " 'ratio2',\n",
       " 'ratio3',\n",
       " 'Top_category',\n",
       " 'super_category',\n",
       " 'video_duration']"
      ]
     },
     "execution_count": 6,
     "metadata": {},
     "output_type": "execute_result"
    }
   ],
   "source": [
    "final_df.columns.tolist()"
   ]
  },
  {
   "cell_type": "code",
   "execution_count": 7,
   "metadata": {},
   "outputs": [],
   "source": [
    "Analysis_df = final_df[['duration','Project_goal','video_duration','Update_count','Project_blurb','Faq_count',\\\n",
    "    'Created_count','Backed_count','ratio1','ratio2','ratio3','backer1','backer2','backer3','Success']]"
   ]
  },
  {
   "cell_type": "code",
   "execution_count": 8,
   "metadata": {},
   "outputs": [
    {
     "name": "stderr",
     "output_type": "stream",
     "text": [
      "/Users/yonggeol/miniconda3/envs/py/lib/python3.6/site-packages/ipykernel_launcher.py:2: SettingWithCopyWarning: \n",
      "A value is trying to be set on a copy of a slice from a DataFrame.\n",
      "Try using .loc[row_indexer,col_indexer] = value instead\n",
      "\n",
      "See the caveats in the documentation: http://pandas.pydata.org/pandas-docs/stable/indexing.html#indexing-view-versus-copy\n",
      "  \n",
      "/Users/yonggeol/miniconda3/envs/py/lib/python3.6/site-packages/ipykernel_launcher.py:4: SettingWithCopyWarning: \n",
      "A value is trying to be set on a copy of a slice from a DataFrame.\n",
      "Try using .loc[row_indexer,col_indexer] = value instead\n",
      "\n",
      "See the caveats in the documentation: http://pandas.pydata.org/pandas-docs/stable/indexing.html#indexing-view-versus-copy\n",
      "  after removing the cwd from sys.path.\n",
      "/Users/yonggeol/miniconda3/envs/py/lib/python3.6/site-packages/ipykernel_launcher.py:5: SettingWithCopyWarning: \n",
      "A value is trying to be set on a copy of a slice from a DataFrame.\n",
      "Try using .loc[row_indexer,col_indexer] = value instead\n",
      "\n",
      "See the caveats in the documentation: http://pandas.pydata.org/pandas-docs/stable/indexing.html#indexing-view-versus-copy\n",
      "  \"\"\"\n"
     ]
    }
   ],
   "source": [
    "# Project_blurb\n",
    "Analysis_df['Project_blurb'] = Analysis_df['Project_blurb'].apply(lambda x : len(x))\n",
    "# Backed_count\n",
    "Analysis_df['Backed_count'] = Analysis_df['Backed_count'].apply(lambda x : 0 if x =='None' else x)\n",
    "Analysis_df['Backed_count'] = Analysis_df['Backed_count'].apply(lambda x : float(x))"
   ]
  },
  {
   "cell_type": "markdown",
   "metadata": {},
   "source": [
    "## Feature importance"
   ]
  },
  {
   "cell_type": "code",
   "execution_count": 17,
   "metadata": {},
   "outputs": [],
   "source": [
    "Analysis_df.shape\n",
    "imporntace_model = Feature_importance.feature_importance(Analysis_df,'Success',scaler='std')"
   ]
  },
  {
   "cell_type": "markdown",
   "metadata": {},
   "source": [
    "### Chi-squre"
   ]
  },
  {
   "cell_type": "code",
   "execution_count": 14,
   "metadata": {},
   "outputs": [
    {
     "name": "stdout",
     "output_type": "stream",
     "text": [
      "Feature ranking:\n",
      "Rank : 1 \t Feature : Update_count (21.204169)\n",
      "Rank : 2 \t Feature : Faq_count (12.430616)\n",
      "Rank : 3 \t Feature : backer3 (11.967733)\n",
      "Rank : 4 \t Feature : Created_count (11.820968)\n",
      "Rank : 5 \t Feature : backer2 (11.458191)\n",
      "Rank : 6 \t Feature : backer1 (10.684485)\n",
      "Rank : 7 \t Feature : Backed_count (8.231883)\n",
      "Rank : 8 \t Feature : Project_goal (1.489742)\n",
      "Rank : 9 \t Feature : duration (1.102459)\n",
      "Rank : 10 \t Feature : ratio3 (0.953597)\n",
      "Rank : 11 \t Feature : ratio2 (0.953217)\n",
      "Rank : 12 \t Feature : ratio1 (0.947677)\n",
      "Rank : 13 \t Feature : Project_blurb (0.021570)\n",
      "Rank : 14 \t Feature : video_duration (0.011886)\n"
     ]
    }
   ],
   "source": [
    "imporntace_model.chisquare()"
   ]
  },
  {
   "cell_type": "markdown",
   "metadata": {},
   "source": [
    "### Random forest"
   ]
  },
  {
   "cell_type": "code",
   "execution_count": 15,
   "metadata": {},
   "outputs": [
    {
     "name": "stderr",
     "output_type": "stream",
     "text": [
      "/Users/yonggeol/workspace/Research/[2019]Kickstarter_Crwodsourcing/Kickstarter/Data explore/Feature_importance.py:59: DataConversionWarning: A column-vector y was passed when a 1d array was expected. Please change the shape of y to (n_samples,), for example using ravel().\n",
      "  clf.fit(x, self.y)\n"
     ]
    },
    {
     "name": "stdout",
     "output_type": "stream",
     "text": [
      "Feature ranking:\n",
      "Rank : 0 \t Feature : ratio3 (0.260429)\n",
      "Rank : 1 \t Feature : ratio1 (0.253541)\n",
      "Rank : 2 \t Feature : backer2 (0.231813)\n",
      "Rank : 3 \t Feature : ratio2 (0.123093)\n",
      "Rank : 4 \t Feature : Update_count (0.063214)\n",
      "Rank : 5 \t Feature : Project_goal (0.030504)\n",
      "Rank : 6 \t Feature : backer1 (0.023088)\n",
      "Rank : 7 \t Feature : backer3 (0.014318)\n",
      "Rank : 8 \t Feature : Backed_count (0.000000)\n",
      "Rank : 9 \t Feature : Created_count (0.000000)\n",
      "Rank : 10 \t Feature : Faq_count (0.000000)\n",
      "Rank : 11 \t Feature : Project_blurb (0.000000)\n",
      "Rank : 12 \t Feature : video_duration (0.000000)\n",
      "Rank : 13 \t Feature : duration (0.000000)\n"
     ]
    },
    {
     "data": {
      "image/png": "[encoded data removed]",
      "text/plain": [
       "<Figure size 432x288 with 1 Axes>"
      ]
     },
     "metadata": {},
     "output_type": "display_data"
    }
   ],
   "source": [
    "imporntace_model.random_forest()"
   ]
  },
  {
   "cell_type": "markdown",
   "metadata": {},
   "source": [
    "### Logistic regression"
   ]
  },
  {
   "cell_type": "code",
   "execution_count": 16,
   "metadata": {},
   "outputs": [
    {
     "name": "stderr",
     "output_type": "stream",
     "text": [
      "/Users/yonggeol/miniconda3/envs/py/lib/python3.6/site-packages/sklearn/utils/validation.py:578: DataConversionWarning: A column-vector y was passed when a 1d array was expected. Please change the shape of y to (n_samples, ), for example using ravel().\n",
      "  y = column_or_1d(y, warn=True)\n",
      "/Users/yonggeol/miniconda3/envs/py/lib/python3.6/site-packages/sklearn/linear_model/sag.py:326: ConvergenceWarning: The max_iter was reached which means the coef_ did not converge\n",
      "  \"the coef_ did not converge\", ConvergenceWarning)\n"
     ]
    },
    {
     "name": "stdout",
     "output_type": "stream",
     "text": [
      "Feature ranking:\n",
      "Rank : 1 \t Feature : Project_goal (100.000000)\n",
      "Rank : 2 \t Feature : backer3 (79.066790)\n",
      "Rank : 3 \t Feature : backer2 (64.101063)\n",
      "Rank : 4 \t Feature : backer1 (46.138679)\n",
      "Rank : 5 \t Feature : Update_count (41.889987)\n",
      "Rank : 6 \t Feature : Created_count (20.510055)\n",
      "Rank : 7 \t Feature : duration (15.800531)\n",
      "Rank : 8 \t Feature : ratio2 (4.872748)\n",
      "Rank : 9 \t Feature : ratio3 (4.816336)\n",
      "Rank : 10 \t Feature : ratio1 (3.767343)\n",
      "Rank : 11 \t Feature : Project_blurb (3.216915)\n",
      "Rank : 12 \t Feature : Faq_count (2.856145)\n",
      "Rank : 13 \t Feature : video_duration (0.190349)\n",
      "Rank : 14 \t Feature : Backed_count (0.058650)\n"
     ]
    },
    {
     "data": {
      "image/png": "[encoded data removed]",
      "text/plain": [
       "<Figure size 432x288 with 1 Axes>"
      ]
     },
     "metadata": {},
     "output_type": "display_data"
    }
   ],
   "source": [
    "imporntace_model.logistic_regression()"
   ]
  }
 ],
 "metadata": {
  "kernelspec": {
   "display_name": "Python 3",
   "language": "python",
   "name": "python3"
  },
  "language_info": {
   "codemirror_mode": {
    "name": "ipython",
    "version": 3
   },
   "file_extension": ".py",
   "mimetype": "text/x-python",
   "name": "python",
   "nbconvert_exporter": "python",
   "pygments_lexer": "ipython3",
   "version": "3.6.7"
  }
 },
 "nbformat": 4,
 "nbformat_minor": 2
}
