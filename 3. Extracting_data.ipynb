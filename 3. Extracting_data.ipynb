{
 "cells": [
  {
   "cell_type": "code",
   "execution_count": 1,
   "metadata": {},
   "outputs": [],
   "source": [
    "import pandas as pd\n",
    "import os\n",
    "import sqlite3\n",
    "from datetime import datetime\n",
    "from time import time\n",
    "import json\n",
    "import seaborn as sns\n",
    "import matplotlib as mpl\n",
    "import matplotlib.pyplot as plt"
   ]
  },
  {
   "cell_type": "code",
   "execution_count": 2,
   "metadata": {},
   "outputs": [],
   "source": [
    "def cal_duration(launched,deadline):\n",
    "    diff = deadline - launched\n",
    "    duration = diff/86400\n",
    "    return round(duration)\n",
    "\n",
    "def find_pledged(Pledged):\n",
    "    value_list = list(filter(str.isdigit, Pledged))\n",
    "    join_list = \"\".join(value_list)\n",
    "    return float(join_list)\n",
    "\n",
    "def search_key(search_item,Categories):\n",
    "    for Category, items in Categories.items():\n",
    "        if search_item in items: return Category"
   ]
  },
  {
   "cell_type": "code",
   "execution_count": 3,
   "metadata": {},
   "outputs": [],
   "source": [
    "db_FILE = 'Kickstarter.db'\n",
    "con = sqlite3.connect( db_FILE )\n",
    "cur = con.cursor()"
   ]
  },
  {
   "cell_type": "code",
   "execution_count": 4,
   "metadata": {},
   "outputs": [],
   "source": [
    "sql = '''\n",
    "select p.Project_Id, p.Project_launched_at, p.Project_deadline, p.Project_goal,p.Project_category,\\\n",
    "u.Date ,u.Days_to_go, u.Pledged, u.Options_number,u.Title_count,u.Blurb_count,u.Content_text_length,\\\n",
    "u.Content_img_count,u.Faq_count,u.Update_count,u.Comment_count,u.Backers,v.Video_name, p.Cancel_check,p.Project_title,p.Project_blurb,\\\n",
    "c.Backed_count, c.Created_count \n",
    "\n",
    "    FROM Video as v\n",
    "\n",
    "    Left JOIN Project as p\n",
    "        ON v.Project_Id = p.Project_Id\n",
    "        \n",
    "    Left JOIN Upd as u\n",
    "        ON p.Project_Id = u.Project_Id\n",
    "\n",
    "    Left JOIN Creator as c\n",
    "        ON u.Creator_Id = c.Creator_Id\n",
    "\n",
    "        \n",
    "'''\n",
    "cur.execute(sql)\n",
    "rows = cur.fetchall()"
   ]
  },
  {
   "cell_type": "code",
   "execution_count": 5,
   "metadata": {},
   "outputs": [],
   "source": [
    "col_name = [i[0] for i in cur.description]"
   ]
  },
  {
   "cell_type": "code",
   "execution_count": 6,
   "metadata": {},
   "outputs": [],
   "source": [
    "#current_time = time()\n",
    "#7/13 unix time\n",
    "current_time = 1563022800"
   ]
  },
  {
   "cell_type": "code",
   "execution_count": 7,
   "metadata": {},
   "outputs": [],
   "source": [
    "df = pd.DataFrame(rows)\n",
    "df.columns = col_name"
   ]
  },
  {
   "cell_type": "code",
   "execution_count": 8,
   "metadata": {},
   "outputs": [
    {
     "name": "stdout",
     "output_type": "stream",
     "text": [
      "Raw data : (113628, 23)\n",
      "1차 filtering : (70125, 23)\n",
      "2차 filtering : (37123, 23)\n",
      "3차 filtering : (37119, 23)\n",
      "4차 filtering : (1333, 26)\n",
      "5차 filtering : (1315, 26)\n"
     ]
    },
    {
     "name": "stderr",
     "output_type": "stream",
     "text": [
      "/usr/lib/python3/dist-packages/ipykernel_launcher.py:32: SettingWithCopyWarning: \n",
      "A value is trying to be set on a copy of a slice from a DataFrame.\n",
      "Try using .loc[row_indexer,col_indexer] = value instead\n",
      "\n",
      "See the caveats in the documentation: http://pandas.pydata.org/pandas-docs/stable/indexing.html#indexing-view-versus-copy\n",
      "/usr/lib/python3/dist-packages/ipykernel_launcher.py:33: SettingWithCopyWarning: \n",
      "A value is trying to be set on a copy of a slice from a DataFrame.\n",
      "Try using .loc[row_indexer,col_indexer] = value instead\n",
      "\n",
      "See the caveats in the documentation: http://pandas.pydata.org/pandas-docs/stable/indexing.html#indexing-view-versus-copy\n",
      "/usr/lib/python3/dist-packages/ipykernel_launcher.py:36: SettingWithCopyWarning: \n",
      "A value is trying to be set on a copy of a slice from a DataFrame.\n",
      "Try using .loc[row_indexer,col_indexer] = value instead\n",
      "\n",
      "See the caveats in the documentation: http://pandas.pydata.org/pandas-docs/stable/indexing.html#indexing-view-versus-copy\n"
     ]
    }
   ],
   "source": [
    "print('Raw data : {0}'.format(df.shape))\n",
    "\n",
    "# 1차 filtering (deadline) 현재 시간 기준으로\n",
    "df = df.loc[lambda df : df.Project_deadline < current_time]\n",
    "print('1차 filtering : {0}'.format(df.shape))\n",
    "\n",
    "# 2차 filtering (luanched_date)\n",
    "luanched_date = 1558483200 #0523\n",
    "df = df.loc[lambda df : df.Project_launched_at > luanched_date]\n",
    "print('2차 filtering : {0}'.format(df.shape))\n",
    "\n",
    "# 3차 filtering (nan값 제거)\n",
    "df = df[df['Pledged'].notnull()]\n",
    "print('3차 filtering : {0}'.format(df.shape) )\n",
    "\n",
    "# unique project 추출 (마지막 update 값으로)\n",
    "unique_df = df.drop_duplicates(subset=['Project_Id'],keep='last')\n",
    "\n",
    "# 4차 filtering (crawling이 잘된 Project diff가 5 미만)\n",
    "Project_launched_at = unique_df['Project_launched_at'].values\n",
    "Project_deadline = unique_df['Project_deadline'].values\n",
    "duration = [cal_duration(launched,deadline) for launched, deadline in zip(Project_launched_at,Project_deadline)]\n",
    "\n",
    "# crawl num\n",
    "project_id_list = unique_df['Project_Id'].unique().tolist()\n",
    "num_list = []\n",
    "for project_id in project_id_list:\n",
    "    find_df = df[df['Project_Id']==project_id]\n",
    "    num_crawl = find_df.shape[0]\n",
    "    num_list.append(num_crawl)\n",
    "    \n",
    "unique_df['num_crawl'] = num_list\n",
    "unique_df['duration'] = duration\n",
    "\n",
    "# 전체 5일 미만 Crawling잘된 project filtering\n",
    "unique_df['diff'] = unique_df['duration'] - unique_df['num_crawl']\n",
    "unique_df = unique_df[unique_df['diff'] < 5]\n",
    "\n",
    "print('4차 filtering : {0}'.format(unique_df.shape))\n",
    "\n",
    "# 5차 filtering (최소 7일이상 funding이 진행된 project)\n",
    "unique_df = unique_df[unique_df['num_crawl'] > 6]\n",
    "\n",
    "print('5차 filtering : {0}'.format(unique_df.shape))"
   ]
  },
  {
   "cell_type": "markdown",
   "metadata": {},
   "source": [
    "### success-fail 나누기"
   ]
  },
  {
   "cell_type": "code",
   "execution_count": 9,
   "metadata": {},
   "outputs": [],
   "source": [
    "project_id_list = unique_df['Project_Id'].unique().tolist()\n",
    "success_list = []\n",
    "\n",
    "for project_id in project_id_list:\n",
    "    find_df = df[df['Project_Id']==project_id]\n",
    "    last_element = find_df.iloc[-1]\n",
    "    Project_goal = last_element['Project_goal']\n",
    "    Pledged = find_pledged(last_element['Pledged'])\n",
    "    success = 0\n",
    "    \n",
    "    if Pledged > Project_goal:\n",
    "        success = 1\n",
    "        \n",
    "    success_list.append(success)\n",
    "\n",
    "unique_df['Success'] = success_list"
   ]
  },
  {
   "cell_type": "markdown",
   "metadata": {},
   "source": [
    "### Backers & Ratio 구하기"
   ]
  },
  {
   "cell_type": "code",
   "execution_count": 10,
   "metadata": {},
   "outputs": [],
   "source": [
    "df['Pledged'] = df['Pledged'].apply(lambda x : find_pledged(x))\n",
    "df['Backers'] = df['Backers'].apply(lambda x : find_pledged(x))\n",
    "unique_df['Pledged'] = unique_df['Pledged'].apply(lambda x : find_pledged(x))\n",
    "\n",
    "\n",
    "project_id_list = unique_df['Project_Id'].unique().tolist()\n",
    "pledged_ratio = [[],[],[]]\n",
    "backers_days = [[],[],[]]\n",
    "\n",
    "for project_id in project_id_list:\n",
    "    find_df = df[df['Project_Id'] == project_id].iloc[0:3]\n",
    "    \n",
    "    for i in range(0,3):\n",
    "        element = find_df.iloc[i]\n",
    "        ## backers count\n",
    "        backers = element['Backers']\n",
    "        backers_days[i].append(backers)\n",
    "        ## pledged\n",
    "        project_goal = element['Project_goal']\n",
    "        pledged = element['Pledged']\n",
    "\n",
    "        ratio = (pledged / project_goal) * 100\n",
    "        pledged_ratio[i].append(ratio)"
   ]
  },
  {
   "cell_type": "code",
   "execution_count": 11,
   "metadata": {},
   "outputs": [],
   "source": [
    "unique_df['backer1'] = backers_days[0]\n",
    "unique_df['backer2'] = backers_days[1]\n",
    "unique_df['backer3'] = backers_days[2]"
   ]
  },
  {
   "cell_type": "code",
   "execution_count": 12,
   "metadata": {},
   "outputs": [],
   "source": [
    "unique_df['ratio1'] = pledged_ratio[0]\n",
    "unique_df['ratio2'] = pledged_ratio[1]\n",
    "unique_df['ratio3'] = pledged_ratio[2]"
   ]
  },
  {
   "cell_type": "markdown",
   "metadata": {},
   "source": [
    "### Category 분류"
   ]
  },
  {
   "cell_type": "markdown",
   "metadata": {},
   "source": [
    "### Top category 분류"
   ]
  },
  {
   "cell_type": "code",
   "execution_count": 13,
   "metadata": {},
   "outputs": [],
   "source": [
    "with open('dict_cateogry.json') as data_file:    \n",
    "    TopDict = json.load(data_file)"
   ]
  },
  {
   "cell_type": "code",
   "execution_count": 14,
   "metadata": {},
   "outputs": [],
   "source": [
    "json_data=open('dict_cateogry.json').read()\n",
    "Categories = json.loads(json_data)\n",
    "unique_df['Top_category'] = unique_df['Project_category'].apply(lambda x : search_key(x,Categories))\n",
    "unique_df['Top_category'] = unique_df['Project_category'].apply(lambda x : search_key(x,Categories))"
   ]
  },
  {
   "cell_type": "markdown",
   "metadata": {},
   "source": [
    "### Super Category 분류 "
   ]
  },
  {
   "cell_type": "code",
   "execution_count": 15,
   "metadata": {},
   "outputs": [],
   "source": [
    "super_category = {\n",
    "    'Arts' : ['Art','Dance','Photography','Theater'],\n",
    "    'Comics & Illustartion' : ['Comics','Illustration'],\n",
    "    'Design & Tech' : ['Design','Technology'],\n",
    "    'Film' : ['Film & Video'],\n",
    "    'Food & Craft' : ['Crafts','Fashion','Food'],\n",
    "    'Games' : ['Games'],\n",
    "    'Music' : ['Music'],\n",
    "    'Publishing' : ['Journalism','Publishing']\n",
    "}"
   ]
  },
  {
   "cell_type": "code",
   "execution_count": 16,
   "metadata": {},
   "outputs": [],
   "source": [
    "unique_df['super_category'] = unique_df['Top_category'].apply(lambda x : search_key(x,super_category))\n",
    "unique_df['super_category'] = unique_df['Top_category'].apply(lambda x : search_key(x,super_category))"
   ]
  },
  {
   "cell_type": "markdown",
   "metadata": {},
   "source": [
    "### Dataframe 저장"
   ]
  },
  {
   "cell_type": "code",
   "execution_count": 17,
   "metadata": {},
   "outputs": [],
   "source": [
    "unique_df.to_csv('analysis_data.csv',index=False,encoding='utf-16')\n",
    "df.to_csv('analysis_update_data.csv',index=False,encoding='utf-16')"
   ]
  },
  {
   "cell_type": "markdown",
   "metadata": {},
   "source": [
    "### Survey용 Dataframe\n",
    "- Project_Id\n",
    "- Project_title\n",
    "- Project_blurb\n",
    "- super_category\n",
    "- Success\n",
    "- (Video_URL)"
   ]
  },
  {
   "cell_type": "code",
   "execution_count": 18,
   "metadata": {},
   "outputs": [],
   "source": [
    "survey_df = unique_df[['Project_Id','Project_title','Project_blurb','super_category','Success']]"
   ]
  },
  {
   "cell_type": "markdown",
   "metadata": {},
   "source": [
    "### Survey용 Dataframe 저장"
   ]
  },
  {
   "cell_type": "code",
   "execution_count": 19,
   "metadata": {},
   "outputs": [],
   "source": [
    "survey_df.to_csv('survey_df.csv', index=False, encoding='utf-16')"
   ]
  }
 ],
 "metadata": {
  "kernelspec": {
   "display_name": "Python 3",
   "language": "python",
   "name": "python3"
  },
  "language_info": {
   "codemirror_mode": {
    "name": "ipython",
    "version": 3
   },
   "file_extension": ".py",
   "mimetype": "text/x-python",
   "name": "python",
   "nbconvert_exporter": "python",
   "pygments_lexer": "ipython3",
   "version": "3.5.2"
  }
 },
 "nbformat": 4,
 "nbformat_minor": 2
}
