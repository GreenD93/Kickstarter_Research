{
 "cells": [
  {
   "cell_type": "code",
   "execution_count": 1,
   "metadata": {},
   "outputs": [],
   "source": [
    "from plotnine import *\n",
    "import matplotlib.pyplot as plt\n",
    "import pandas as pd\n",
    "import seaborn as sns\n",
    "from scipy import stats\n",
    "from pandas.api.types import CategoricalDtype\n",
    "from datetime import datetime\n",
    "import numpy as np\n",
    "plt.rcParams['figure.figsize'] = [20, 8]"
   ]
  },
  {
   "cell_type": "code",
   "execution_count": 2,
   "metadata": {},
   "outputs": [],
   "source": [
    "filtered_df = pd.read_csv('./0803Data/[Survey]0803_Final_filtered_df.csv',encoding='utf-16')"
   ]
  },
  {
   "cell_type": "code",
   "execution_count": 3,
   "metadata": {},
   "outputs": [],
   "source": [
    "final_proj = filtered_df['project_id'].unique().tolist()"
   ]
  },
  {
   "cell_type": "code",
   "execution_count": 4,
   "metadata": {},
   "outputs": [],
   "source": [
    "df = pd.read_csv('./0803Data/analysis_data.csv',encoding='utf-16')"
   ]
  },
  {
   "cell_type": "code",
   "execution_count": 5,
   "metadata": {},
   "outputs": [],
   "source": [
    "df = df[df['project_id'].isin(final_proj)]\n",
    "df = df.reset_index(drop=True)"
   ]
  },
  {
   "cell_type": "code",
   "execution_count": 6,
   "metadata": {},
   "outputs": [],
   "source": [
    "df['success'] = df['success'].apply(lambda x : 'success' if x == 1 else 'fail')"
   ]
  },
  {
   "cell_type": "code",
   "execution_count": 7,
   "metadata": {},
   "outputs": [
    {
     "data": {
      "text/plain": [
       "count    1000.000000\n",
       "mean       30.718000\n",
       "std         8.896383\n",
       "min         7.000000\n",
       "25%        29.000000\n",
       "50%        30.000000\n",
       "75%        31.000000\n",
       "max        60.000000\n",
       "Name: duration, dtype: float64"
      ]
     },
     "execution_count": 7,
     "metadata": {},
     "output_type": "execute_result"
    }
   ],
   "source": [
    "df['duration'].describe()"
   ]
  },
  {
   "cell_type": "code",
   "execution_count": 8,
   "metadata": {},
   "outputs": [
    {
     "data": {
      "text/html": [
       "<div>\n",
       "<style scoped>\n",
       "    .dataframe tbody tr th:only-of-type {\n",
       "        vertical-align: middle;\n",
       "    }\n",
       "\n",
       "    .dataframe tbody tr th {\n",
       "        vertical-align: top;\n",
       "    }\n",
       "\n",
       "    .dataframe thead th {\n",
       "        text-align: right;\n",
       "    }\n",
       "</style>\n",
       "<table border=\"1\" class=\"dataframe\">\n",
       "  <thead>\n",
       "    <tr style=\"text-align: right;\">\n",
       "      <th></th>\n",
       "      <th>count</th>\n",
       "      <th>mean</th>\n",
       "      <th>std</th>\n",
       "      <th>min</th>\n",
       "      <th>25%</th>\n",
       "      <th>50%</th>\n",
       "      <th>75%</th>\n",
       "      <th>max</th>\n",
       "    </tr>\n",
       "    <tr>\n",
       "      <th>success</th>\n",
       "      <th></th>\n",
       "      <th></th>\n",
       "      <th></th>\n",
       "      <th></th>\n",
       "      <th></th>\n",
       "      <th></th>\n",
       "      <th></th>\n",
       "      <th></th>\n",
       "    </tr>\n",
       "  </thead>\n",
       "  <tbody>\n",
       "    <tr>\n",
       "      <th>fail</th>\n",
       "      <td>500.0</td>\n",
       "      <td>32.710</td>\n",
       "      <td>9.861867</td>\n",
       "      <td>8.0</td>\n",
       "      <td>30.0</td>\n",
       "      <td>30.0</td>\n",
       "      <td>35.0</td>\n",
       "      <td>60.0</td>\n",
       "    </tr>\n",
       "    <tr>\n",
       "      <th>success</th>\n",
       "      <td>500.0</td>\n",
       "      <td>28.726</td>\n",
       "      <td>7.296671</td>\n",
       "      <td>7.0</td>\n",
       "      <td>26.0</td>\n",
       "      <td>30.0</td>\n",
       "      <td>30.0</td>\n",
       "      <td>60.0</td>\n",
       "    </tr>\n",
       "  </tbody>\n",
       "</table>\n",
       "</div>"
      ],
      "text/plain": [
       "         count    mean       std  min   25%   50%   75%   max\n",
       "success                                                      \n",
       "fail     500.0  32.710  9.861867  8.0  30.0  30.0  35.0  60.0\n",
       "success  500.0  28.726  7.296671  7.0  26.0  30.0  30.0  60.0"
      ]
     },
     "execution_count": 8,
     "metadata": {},
     "output_type": "execute_result"
    }
   ],
   "source": [
    "df.groupby(['success'])['duration'].describe()"
   ]
  },
  {
   "cell_type": "code",
   "execution_count": 9,
   "metadata": {
    "scrolled": false
   },
   "outputs": [
    {
     "name": "stderr",
     "output_type": "stream",
     "text": [
      "/Users/yonggeol/miniconda3/envs/py/lib/python3.6/site-packages/plotnine/ggplot.py:706: UserWarning: Saving 6.4 x 4.8 in image.\n",
      "  from_inches(height, units), units))\n",
      "/Users/yonggeol/miniconda3/envs/py/lib/python3.6/site-packages/plotnine/ggplot.py:707: UserWarning: Filename: Video duration by success.pdf\n",
      "  warn('Filename: {}'.format(filename))\n"
     ]
    },
    {
     "data": {
      "text/plain": [
       "<Figure size 432x288 with 0 Axes>"
      ]
     },
     "metadata": {},
     "output_type": "display_data"
    },
    {
     "data": {
      "image/png": "[encoded data removed]",
      "text/plain": [
       "<Figure size 640x480 with 1 Axes>"
      ]
     },
     "metadata": {},
     "output_type": "display_data"
    },
    {
     "data": {
      "text/plain": [
       "<ggplot: (291488639)>"
      ]
     },
     "execution_count": 9,
     "metadata": {},
     "output_type": "execute_result"
    }
   ],
   "source": [
    "fig = plt.figure()\n",
    "# graph 객체 생성\n",
    "# outlier 제거\n",
    "video_duration = ggplot(df, aes(x='success', y='duration')) \\\n",
    "    + geom_boxplot(aes(fill='success')) \\\n",
    "    + ggtitle('duration box plot')\n",
    "video_duration.save('Video duration by success.pdf')\n",
    "video_duration"
   ]
  },
  {
   "cell_type": "code",
   "execution_count": 10,
   "metadata": {
    "scrolled": false
   },
   "outputs": [
    {
     "data": {
      "text/html": [
       "<div>\n",
       "<style scoped>\n",
       "    .dataframe tbody tr th:only-of-type {\n",
       "        vertical-align: middle;\n",
       "    }\n",
       "\n",
       "    .dataframe tbody tr th {\n",
       "        vertical-align: top;\n",
       "    }\n",
       "\n",
       "    .dataframe thead th {\n",
       "        text-align: right;\n",
       "    }\n",
       "</style>\n",
       "<table border=\"1\" class=\"dataframe\">\n",
       "  <thead>\n",
       "    <tr style=\"text-align: right;\">\n",
       "      <th></th>\n",
       "      <th></th>\n",
       "      <th>count</th>\n",
       "      <th>mean</th>\n",
       "      <th>std</th>\n",
       "      <th>min</th>\n",
       "      <th>25%</th>\n",
       "      <th>50%</th>\n",
       "      <th>75%</th>\n",
       "      <th>max</th>\n",
       "    </tr>\n",
       "    <tr>\n",
       "      <th>success</th>\n",
       "      <th>super_category</th>\n",
       "      <th></th>\n",
       "      <th></th>\n",
       "      <th></th>\n",
       "      <th></th>\n",
       "      <th></th>\n",
       "      <th></th>\n",
       "      <th></th>\n",
       "      <th></th>\n",
       "    </tr>\n",
       "  </thead>\n",
       "  <tbody>\n",
       "    <tr>\n",
       "      <th rowspan=\"8\" valign=\"top\">fail</th>\n",
       "      <th>Arts</th>\n",
       "      <td>51.0</td>\n",
       "      <td>32.509804</td>\n",
       "      <td>8.188706</td>\n",
       "      <td>15.0</td>\n",
       "      <td>30.00</td>\n",
       "      <td>30.0</td>\n",
       "      <td>34.50</td>\n",
       "      <td>60.0</td>\n",
       "    </tr>\n",
       "    <tr>\n",
       "      <th>Comics &amp; Illustartion</th>\n",
       "      <td>28.0</td>\n",
       "      <td>32.571429</td>\n",
       "      <td>5.500361</td>\n",
       "      <td>19.0</td>\n",
       "      <td>30.00</td>\n",
       "      <td>31.0</td>\n",
       "      <td>35.00</td>\n",
       "      <td>45.0</td>\n",
       "    </tr>\n",
       "    <tr>\n",
       "      <th>Design &amp; Tech</th>\n",
       "      <td>121.0</td>\n",
       "      <td>32.834711</td>\n",
       "      <td>10.921193</td>\n",
       "      <td>10.0</td>\n",
       "      <td>30.00</td>\n",
       "      <td>30.0</td>\n",
       "      <td>35.00</td>\n",
       "      <td>60.0</td>\n",
       "    </tr>\n",
       "    <tr>\n",
       "      <th>Film</th>\n",
       "      <td>63.0</td>\n",
       "      <td>32.206349</td>\n",
       "      <td>9.765242</td>\n",
       "      <td>11.0</td>\n",
       "      <td>30.00</td>\n",
       "      <td>30.0</td>\n",
       "      <td>33.00</td>\n",
       "      <td>60.0</td>\n",
       "    </tr>\n",
       "    <tr>\n",
       "      <th>Food &amp; Craft</th>\n",
       "      <td>70.0</td>\n",
       "      <td>33.357143</td>\n",
       "      <td>10.274544</td>\n",
       "      <td>14.0</td>\n",
       "      <td>30.00</td>\n",
       "      <td>30.0</td>\n",
       "      <td>35.00</td>\n",
       "      <td>60.0</td>\n",
       "    </tr>\n",
       "    <tr>\n",
       "      <th>Games</th>\n",
       "      <td>90.0</td>\n",
       "      <td>32.433333</td>\n",
       "      <td>8.460151</td>\n",
       "      <td>11.0</td>\n",
       "      <td>30.00</td>\n",
       "      <td>30.0</td>\n",
       "      <td>31.00</td>\n",
       "      <td>60.0</td>\n",
       "    </tr>\n",
       "    <tr>\n",
       "      <th>Music</th>\n",
       "      <td>28.0</td>\n",
       "      <td>33.642857</td>\n",
       "      <td>14.384184</td>\n",
       "      <td>8.0</td>\n",
       "      <td>29.50</td>\n",
       "      <td>30.0</td>\n",
       "      <td>33.00</td>\n",
       "      <td>60.0</td>\n",
       "    </tr>\n",
       "    <tr>\n",
       "      <th>Publishing</th>\n",
       "      <td>49.0</td>\n",
       "      <td>32.387755</td>\n",
       "      <td>10.010029</td>\n",
       "      <td>10.0</td>\n",
       "      <td>30.00</td>\n",
       "      <td>30.0</td>\n",
       "      <td>35.00</td>\n",
       "      <td>60.0</td>\n",
       "    </tr>\n",
       "    <tr>\n",
       "      <th rowspan=\"8\" valign=\"top\">success</th>\n",
       "      <th>Arts</th>\n",
       "      <td>50.0</td>\n",
       "      <td>27.960000</td>\n",
       "      <td>6.134413</td>\n",
       "      <td>10.0</td>\n",
       "      <td>27.00</td>\n",
       "      <td>30.0</td>\n",
       "      <td>30.00</td>\n",
       "      <td>47.0</td>\n",
       "    </tr>\n",
       "    <tr>\n",
       "      <th>Comics &amp; Illustartion</th>\n",
       "      <td>63.0</td>\n",
       "      <td>27.555556</td>\n",
       "      <td>6.920698</td>\n",
       "      <td>7.0</td>\n",
       "      <td>26.00</td>\n",
       "      <td>30.0</td>\n",
       "      <td>30.00</td>\n",
       "      <td>43.0</td>\n",
       "    </tr>\n",
       "    <tr>\n",
       "      <th>Design &amp; Tech</th>\n",
       "      <td>100.0</td>\n",
       "      <td>31.460000</td>\n",
       "      <td>6.325226</td>\n",
       "      <td>14.0</td>\n",
       "      <td>30.00</td>\n",
       "      <td>30.0</td>\n",
       "      <td>34.00</td>\n",
       "      <td>50.0</td>\n",
       "    </tr>\n",
       "    <tr>\n",
       "      <th>Film</th>\n",
       "      <td>50.0</td>\n",
       "      <td>29.400000</td>\n",
       "      <td>5.573260</td>\n",
       "      <td>20.0</td>\n",
       "      <td>25.25</td>\n",
       "      <td>30.0</td>\n",
       "      <td>30.75</td>\n",
       "      <td>45.0</td>\n",
       "    </tr>\n",
       "    <tr>\n",
       "      <th>Food &amp; Craft</th>\n",
       "      <td>37.0</td>\n",
       "      <td>31.432432</td>\n",
       "      <td>8.574965</td>\n",
       "      <td>14.0</td>\n",
       "      <td>30.00</td>\n",
       "      <td>30.0</td>\n",
       "      <td>31.00</td>\n",
       "      <td>60.0</td>\n",
       "    </tr>\n",
       "    <tr>\n",
       "      <th>Games</th>\n",
       "      <td>99.0</td>\n",
       "      <td>25.252525</td>\n",
       "      <td>6.952233</td>\n",
       "      <td>8.0</td>\n",
       "      <td>21.00</td>\n",
       "      <td>29.0</td>\n",
       "      <td>30.00</td>\n",
       "      <td>42.0</td>\n",
       "    </tr>\n",
       "    <tr>\n",
       "      <th>Music</th>\n",
       "      <td>56.0</td>\n",
       "      <td>29.625000</td>\n",
       "      <td>9.122525</td>\n",
       "      <td>14.0</td>\n",
       "      <td>25.75</td>\n",
       "      <td>30.0</td>\n",
       "      <td>31.00</td>\n",
       "      <td>60.0</td>\n",
       "    </tr>\n",
       "    <tr>\n",
       "      <th>Publishing</th>\n",
       "      <td>45.0</td>\n",
       "      <td>28.688889</td>\n",
       "      <td>6.594840</td>\n",
       "      <td>11.0</td>\n",
       "      <td>29.00</td>\n",
       "      <td>30.0</td>\n",
       "      <td>30.00</td>\n",
       "      <td>45.0</td>\n",
       "    </tr>\n",
       "  </tbody>\n",
       "</table>\n",
       "</div>"
      ],
      "text/plain": [
       "                               count       mean        std   min    25%   50%  \\\n",
       "success super_category                                                          \n",
       "fail    Arts                    51.0  32.509804   8.188706  15.0  30.00  30.0   \n",
       "        Comics & Illustartion   28.0  32.571429   5.500361  19.0  30.00  31.0   \n",
       "        Design & Tech          121.0  32.834711  10.921193  10.0  30.00  30.0   \n",
       "        Film                    63.0  32.206349   9.765242  11.0  30.00  30.0   \n",
       "        Food & Craft            70.0  33.357143  10.274544  14.0  30.00  30.0   \n",
       "        Games                   90.0  32.433333   8.460151  11.0  30.00  30.0   \n",
       "        Music                   28.0  33.642857  14.384184   8.0  29.50  30.0   \n",
       "        Publishing              49.0  32.387755  10.010029  10.0  30.00  30.0   \n",
       "success Arts                    50.0  27.960000   6.134413  10.0  27.00  30.0   \n",
       "        Comics & Illustartion   63.0  27.555556   6.920698   7.0  26.00  30.0   \n",
       "        Design & Tech          100.0  31.460000   6.325226  14.0  30.00  30.0   \n",
       "        Film                    50.0  29.400000   5.573260  20.0  25.25  30.0   \n",
       "        Food & Craft            37.0  31.432432   8.574965  14.0  30.00  30.0   \n",
       "        Games                   99.0  25.252525   6.952233   8.0  21.00  29.0   \n",
       "        Music                   56.0  29.625000   9.122525  14.0  25.75  30.0   \n",
       "        Publishing              45.0  28.688889   6.594840  11.0  29.00  30.0   \n",
       "\n",
       "                                 75%   max  \n",
       "success super_category                      \n",
       "fail    Arts                   34.50  60.0  \n",
       "        Comics & Illustartion  35.00  45.0  \n",
       "        Design & Tech          35.00  60.0  \n",
       "        Film                   33.00  60.0  \n",
       "        Food & Craft           35.00  60.0  \n",
       "        Games                  31.00  60.0  \n",
       "        Music                  33.00  60.0  \n",
       "        Publishing             35.00  60.0  \n",
       "success Arts                   30.00  47.0  \n",
       "        Comics & Illustartion  30.00  43.0  \n",
       "        Design & Tech          34.00  50.0  \n",
       "        Film                   30.75  45.0  \n",
       "        Food & Craft           31.00  60.0  \n",
       "        Games                  30.00  42.0  \n",
       "        Music                  31.00  60.0  \n",
       "        Publishing             30.00  45.0  "
      ]
     },
     "execution_count": 10,
     "metadata": {},
     "output_type": "execute_result"
    }
   ],
   "source": [
    "df.groupby(['success','super_category'])['duration'].describe()"
   ]
  },
  {
   "cell_type": "code",
   "execution_count": 11,
   "metadata": {
    "scrolled": false
   },
   "outputs": [
    {
     "name": "stderr",
     "output_type": "stream",
     "text": [
      "/Users/yonggeol/miniconda3/envs/py/lib/python3.6/site-packages/plotnine/ggplot.py:706: UserWarning: Saving 6.4 x 4.8 in image.\n",
      "  from_inches(height, units), units))\n",
      "/Users/yonggeol/miniconda3/envs/py/lib/python3.6/site-packages/plotnine/ggplot.py:707: UserWarning: Filename: Category video duration by success.pdf\n",
      "  warn('Filename: {}'.format(filename))\n"
     ]
    },
    {
     "data": {
      "text/plain": [
       "<Figure size 432x288 with 0 Axes>"
      ]
     },
     "metadata": {},
     "output_type": "display_data"
    },
    {
     "data": {
      "image/png": "[encoded data removed]",
      "text/plain": [
       "<Figure size 640x480 with 2 Axes>"
      ]
     },
     "metadata": {},
     "output_type": "display_data"
    },
    {
     "data": {
      "text/plain": [
       "<ggplot: (-9223372036563437010)>"
      ]
     },
     "execution_count": 11,
     "metadata": {},
     "output_type": "execute_result"
    }
   ],
   "source": [
    "fig = plt.figure()\n",
    "# graph 객체 생성\n",
    "cat_duration = ggplot(df, aes(x='super_category', y='duration')) \\\n",
    "    + geom_boxplot(aes(fill='super_category')) \\\n",
    "    + ggtitle('duration box plot') \\\n",
    "    + facet_wrap('~success')\n",
    "cat_duration.save('Category video duration by success.pdf')\n",
    "cat_duration"
   ]
  }
 ],
 "metadata": {
  "kernelspec": {
   "display_name": "Python 3",
   "language": "python",
   "name": "python3"
  },
  "language_info": {
   "codemirror_mode": {
    "name": "ipython",
    "version": 3
   },
   "file_extension": ".py",
   "mimetype": "text/x-python",
   "name": "python",
   "nbconvert_exporter": "python",
   "pygments_lexer": "ipython3",
   "version": "3.6.7"
  }
 },
 "nbformat": 4,
 "nbformat_minor": 2
}
