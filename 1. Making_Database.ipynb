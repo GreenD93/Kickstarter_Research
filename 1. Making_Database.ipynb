{
 "cells": [
  {
   "cell_type": "code",
   "execution_count": 1,
   "metadata": {},
   "outputs": [],
   "source": [
    "import os\n",
    "import sqlite3\n",
    "import pandas as pd"
   ]
  },
  {
   "cell_type": "markdown",
   "metadata": {},
   "source": [
    "# 1. DB 만들기"
   ]
  },
  {
   "cell_type": "code",
   "execution_count": 2,
   "metadata": {},
   "outputs": [],
   "source": [
    "db_name = 'Kickstarter.db'\n",
    "\n",
    "# db 생성\n",
    "con = sqlite3.connect( db_name )\n",
    "cur = con.cursor()"
   ]
  },
  {
   "cell_type": "markdown",
   "metadata": {},
   "source": [
    "# 2. Table 생성\n",
    "- 2.1 Creator\n",
    "- 2.2 Update\n",
    "- 2.3 Project\n",
    "- 2.4 Img\n",
    "- 2.5 Thumbnail\n",
    "- 2.6 Video"
   ]
  },
  {
   "cell_type": "markdown",
   "metadata": {},
   "source": [
    "## 2.1 Creator"
   ]
  },
  {
   "cell_type": "code",
   "execution_count": 3,
   "metadata": {},
   "outputs": [
    {
     "data": {
      "text/plain": [
       "<sqlite3.Cursor at 0x7f2dc9ccec70>"
      ]
     },
     "execution_count": 3,
     "metadata": {},
     "output_type": "execute_result"
    }
   ],
   "source": [
    "# ON DELETE CASCADE : if the parent record is deleted, any child records are also deleted\n",
    "# ON UPDATE CASCADE : if the parent primary key is change, the child value will also change to refelct that\n",
    "# ON UPDATE CASCADE ON DELETE CASCADE : if you UPDATE OR DELETE the parent, the change is cascaded to the child\n",
    "\n",
    "sql =  ''' Create Table if not exists Creator(\n",
    "  Creator_Id  varchar(20)  NOT NULL,\n",
    "  Creator_Name varchar(20)  NULL,\n",
    "  Signed_up_date varchar(50)  NULL,\n",
    "  Backed_count TEXT  NULL,\n",
    "  Created_count INT(10)  NULL,\n",
    "  Comment_count varchar(10)  NULL,\n",
    "  Profile_url varchar(255)  NULL,\n",
    "  Creator_url varchar(255)  NULL,\n",
    "  PRIMARY KEY (Creator_Id)\n",
    "        ) '''\n",
    "cur.execute(sql)"
   ]
  },
  {
   "cell_type": "markdown",
   "metadata": {},
   "source": [
    "## 2.2 Update_project"
   ]
  },
  {
   "cell_type": "code",
   "execution_count": 4,
   "metadata": {},
   "outputs": [
    {
     "data": {
      "text/plain": [
       "<sqlite3.Cursor at 0x7f2dc9ccec70>"
      ]
     },
     "execution_count": 4,
     "metadata": {},
     "output_type": "execute_result"
    }
   ],
   "source": [
    "sql =  ''' Create Table if not exists Upd(\n",
    "  Project_Id varchar(20)  NOT NULL,\n",
    "  Creator_Id varchar(20)  NOT NULL,\n",
    "  Date varchar(50)  NULL,\n",
    "  Days_to_go varchar  NULL,\n",
    "  Pledged varchar(20)  NULL,\n",
    "  Backers varchar(10)  NULL,\n",
    "  Options_number INT(10)  NULL,\n",
    "  Update_staff_pic INT(10)  NULL,\n",
    "  Title_count INT(20)  NULL,\n",
    "  Blurb_count INT(20)  NULL,\n",
    "  Content_text_length INT(20)  NULL,\n",
    "  Content_img_count INT(20)  NULL,\n",
    "  Faq_count INT(10)  NULL,\n",
    "  Update_count INT(10)  NULL,\n",
    "  Comment_count INT(10)  NULL,\n",
    "  FOREIGN KEY (Creator_Id)\n",
    "      REFERENCES Creator (Creator_Id) ON DELETE CASCADE  ON UPDATE CASCADE\n",
    "  FOREIGN KEY (Project_Id)\n",
    "      REFERENCES Project (Project_Id) ON DELETE CASCADE  ON UPDATE CASCADE    \n",
    "        ) ''' \n",
    "cur.execute(sql)"
   ]
  },
  {
   "cell_type": "markdown",
   "metadata": {},
   "source": [
    "## 2.3 Project"
   ]
  },
  {
   "cell_type": "code",
   "execution_count": 5,
   "metadata": {},
   "outputs": [
    {
     "data": {
      "text/plain": [
       "<sqlite3.Cursor at 0x7f2dc9ccec70>"
      ]
     },
     "execution_count": 5,
     "metadata": {},
     "output_type": "execute_result"
    }
   ],
   "source": [
    "# ON DELETE CASCADE : if the parent record is deleted, any child records are also deleted\n",
    "# ON UPDATE CASCADE : if the parent primary key is change, the child value will also change to refelct that\n",
    "# ON UPDATE CASCADE ON DELETE CASCADE : if you UPDATE OR DELETE the parent, the change is cascaded to the child\n",
    "\n",
    "sql =  ''' Create Table if not exists Project(\n",
    "  Project_Id  varchar(20)  NOT NULL,\n",
    "  Date FLOAT(20)  NULL,\n",
    "  Project_title TEXT(50)  NULL,\n",
    "  Project_blurb TEXT  NULL,\n",
    "  Project_goal FLOAT(10)  NULL,\n",
    "  Project_deadline INT(10)  NULL,\n",
    "  Project_launched_at INT(20)  NULL,\n",
    "  Project_country varchar(20)  NULL,\n",
    "  Project_currency varchar(10)  NULL,\n",
    "  Project_currency_symbol varchar(10)  NULL,\n",
    "  Project_category varchar(20)  NULL,\n",
    "  Project_local varchar(20)  NULL,\n",
    "  Cancel_check INT(20)  NULL,\n",
    "  PRIMARY KEY (Project_Id)\n",
    "        ) '''\n",
    "cur.execute(sql)"
   ]
  },
  {
   "cell_type": "markdown",
   "metadata": {},
   "source": [
    "## 2.4 Video"
   ]
  },
  {
   "cell_type": "code",
   "execution_count": 6,
   "metadata": {},
   "outputs": [
    {
     "data": {
      "text/plain": [
       "<sqlite3.Cursor at 0x7f2dc9ccec70>"
      ]
     },
     "execution_count": 6,
     "metadata": {},
     "output_type": "execute_result"
    }
   ],
   "source": [
    "# ON DELETE CASCADE : if the parent record is deleted, any child records are also deleted\n",
    "# ON UPDATE CASCADE : if the parent primary key is change, the child value will also change to refelct that\n",
    "# ON UPDATE CASCADE ON DELETE CASCADE : if you UPDATE OR DELETE the parent, the change is cascaded to the child\n",
    "\n",
    "sql =  ''' Create Table if not exists Video(\n",
    "  Project_Id  varchar(20)  NOT NULL,\n",
    "  Video_name varchar(255)  NULL,\n",
    "  FOREIGN KEY (Project_Id)\n",
    "      REFERENCES Project (Project_Id) ON DELETE CASCADE  ON UPDATE CASCADE    \n",
    "        ) '''\n",
    "cur.execute(sql)"
   ]
  },
  {
   "cell_type": "markdown",
   "metadata": {},
   "source": [
    "## 2.5 Image"
   ]
  },
  {
   "cell_type": "code",
   "execution_count": null,
   "metadata": {},
   "outputs": [],
   "source": [
    "# ON DELETE CASCADE : if the parent record is deleted, any child records are also deleted\n",
    "# ON UPDATE CASCADE : if the parent primary key is change, the child value will also change to refelct that\n",
    "# ON UPDATE CASCADE ON DELETE CASCADE : if you UPDATE OR DELETE the parent, the change is cascaded to the child\n",
    "\n",
    "sql =  ''' Create Table if not exists Img(\n",
    "  Creator_Id  varchar(20)  NOT NULL,\n",
    "  Creator_Name varchar(20)  NULL,\n",
    "  Signed_up_date varchar(50)  NULL,\n",
    "  Backed_count TEXT  NULL,\n",
    "  Created_count INT(10)  NULL,\n",
    "  Comment_count INT(10)  NULL,\n",
    "  Profile_url varchar(255)  NULL,\n",
    "  Creator_url INT(10)  NULL,\n",
    "  PRIMARY KEY (Creator_Id)\n",
    "        ) '''\n",
    "cur.execute(sql)"
   ]
  },
  {
   "cell_type": "markdown",
   "metadata": {},
   "source": [
    "## 2.6 Thumbnail"
   ]
  },
  {
   "cell_type": "code",
   "execution_count": null,
   "metadata": {},
   "outputs": [],
   "source": [
    "# ON DELETE CASCADE : if the parent record is deleted, any child records are also deleted\n",
    "# ON UPDATE CASCADE : if the parent primary key is change, the child value will also change to refelct that\n",
    "# ON UPDATE CASCADE ON DELETE CASCADE : if you UPDATE OR DELETE the parent, the change is cascaded to the child\n",
    "\n",
    "sql =  ''' Create Table if not exists Thumbnail(\n",
    "  Creator_Id  varchar(20)  NOT NULL,\n",
    "  Creator_Name varchar(20)  NULL,\n",
    "  Signed_up_date varchar(50)  NULL,\n",
    "  Backed_count TEXT  NULL,\n",
    "  Created_count INT(10)  NULL,\n",
    "  Comment_count INT(10)  NULL,\n",
    "  Profile_url varchar(255)  NULL,\n",
    "  Creator_url INT(10)  NULL,\n",
    "  PRIMARY KEY (Creator_Id)\n",
    "        ) '''\n",
    "cur.execute(sql)"
   ]
  }
 ],
 "metadata": {
  "kernelspec": {
   "display_name": "Python 3",
   "language": "python",
   "name": "python3"
  },
  "language_info": {
   "codemirror_mode": {
    "name": "ipython",
    "version": 3
   },
   "file_extension": ".py",
   "mimetype": "text/x-python",
   "name": "python",
   "nbconvert_exporter": "python",
   "pygments_lexer": "ipython3",
   "version": "3.6.7"
  }
 },
 "nbformat": 4,
 "nbformat_minor": 2
}
