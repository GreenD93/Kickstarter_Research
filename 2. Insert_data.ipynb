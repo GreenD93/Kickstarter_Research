{
 "cells": [
  {
   "cell_type": "code",
   "execution_count": 2,
   "metadata": {},
   "outputs": [],
   "source": [
    "import pandas as pd\n",
    "import os\n",
    "import sqlite3"
   ]
  },
  {
   "cell_type": "code",
   "execution_count": null,
   "metadata": {},
   "outputs": [],
   "source": [
    "db_FILE = 'Kickstarter.db'\n",
    "con = sqlite3.connect( db_FILE )\n",
    "cur = con.cursor()"
   ]
  },
  {
   "cell_type": "markdown",
   "metadata": {},
   "source": [
    "## Creator"
   ]
  },
  {
   "cell_type": "code",
   "execution_count": null,
   "metadata": {},
   "outputs": [],
   "source": [
    "# Creator\n",
    "creator_csv = './data/creator_table.csv'\n",
    "creator_df = pd.read_csv(creator_csv,encoding='utf-16')\n",
    "creator_df = creator_df.drop('profile_img',axis=1)\n",
    "unique_creator_df = creator_df.drop_duplicates(subset=['creator_id'],keep='last')\n",
    "unique_creator_df.to_sql('Creator',con,if_exists='append',index=False)"
   ]
  },
  {
   "cell_type": "code",
   "execution_count": null,
   "metadata": {},
   "outputs": [],
   "source": [
    "# cursor = con.execute('select * from Upd')\n",
    "# names = list(map(lambda x: x[0], cursor.description))\n",
    "# names = [description[0] for description in cursor.description]\n",
    "# names"
   ]
  },
  {
   "cell_type": "markdown",
   "metadata": {},
   "source": [
    "## Update"
   ]
  },
  {
   "cell_type": "code",
   "execution_count": null,
   "metadata": {},
   "outputs": [],
   "source": [
    "# Upd\n",
    "update_csv = 'new_update_df.csv'\n",
    "update_df = pd.read_csv(update_csv,encoding='utf-16')\n",
    "\n",
    "update_df.to_sql('Upd',con,if_exists='append',index=False)"
   ]
  },
  {
   "cell_type": "markdown",
   "metadata": {},
   "source": [
    "## Project"
   ]
  },
  {
   "cell_type": "code",
   "execution_count": null,
   "metadata": {},
   "outputs": [],
   "source": [
    "# Project\n",
    "project_csv = './data/project_table.csv'\n",
    "project_df = pd.read_csv(project_csv,encoding='utf-16')\n",
    "drop_columns = ['creator_id','creator_profile_img','creator_name','creator_url','project_main_img','project_url']\n",
    "column_names = project_df.columns.tolist()\n",
    "#new_colimn_names = list(filter(lambda x : x not in removed_item,column_names))\n",
    "new_project_df = project_df.drop(drop_columns, axis=1) \n",
    "\n",
    "new_project_df.to_sql('Project',con,if_exists='append',index=False)"
   ]
  },
  {
   "cell_type": "markdown",
   "metadata": {},
   "source": [
    "## Video"
   ]
  },
  {
   "cell_type": "code",
   "execution_count": null,
   "metadata": {},
   "outputs": [],
   "source": [
    "# Video\n",
    "video_csv = './data/refined_video_table.csv'\n",
    "video_df = pd.read_csv(video_csv,encoding='utf-16')\n",
    "\n",
    "video_df.to_sql('Video',con,if_exists='append',index=False)"
   ]
  }
 ],
 "metadata": {
  "kernelspec": {
   "display_name": "Python 3",
   "language": "python",
   "name": "python3"
  },
  "language_info": {
   "codemirror_mode": {
    "name": "ipython",
    "version": 3
   },
   "file_extension": ".py",
   "mimetype": "text/x-python",
   "name": "python",
   "nbconvert_exporter": "python",
   "pygments_lexer": "ipython3",
   "version": "3.6.7"
  }
 },
 "nbformat": 4,
 "nbformat_minor": 2
}
