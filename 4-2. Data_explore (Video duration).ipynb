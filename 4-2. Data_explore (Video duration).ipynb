{
 "cells": [
  {
   "cell_type": "code",
   "execution_count": 1,
   "metadata": {},
   "outputs": [],
   "source": [
    "from plotnine import *\n",
    "import matplotlib.pyplot as plt\n",
    "import pandas as pd\n",
    "import seaborn as sns\n",
    "from scipy import stats\n",
    "from pandas.api.types import CategoricalDtype\n",
    "from datetime import datetime\n",
    "import numpy as np\n",
    "plt.rcParams['figure.figsize'] = [20, 8]"
   ]
  },
  {
   "cell_type": "code",
   "execution_count": 2,
   "metadata": {},
   "outputs": [],
   "source": [
    "df = pd.read_csv('./Data/duration_survey_df.csv',encoding='utf-16')\n",
    "df['Success'] = df['Success'].apply(lambda x : 'Success' if x == 1 else 'Fail')"
   ]
  },
  {
   "cell_type": "code",
   "execution_count": 3,
   "metadata": {},
   "outputs": [
    {
     "data": {
      "text/plain": [
       "count    1315.000000\n",
       "mean      143.286371\n",
       "std        99.206681\n",
       "min         0.040000\n",
       "25%        78.218229\n",
       "50%       122.208333\n",
       "75%       181.590533\n",
       "max       959.959000\n",
       "Name: duration, dtype: float64"
      ]
     },
     "execution_count": 3,
     "metadata": {},
     "output_type": "execute_result"
    }
   ],
   "source": [
    "df['duration'].describe()"
   ]
  },
  {
   "cell_type": "code",
   "execution_count": 4,
   "metadata": {},
   "outputs": [
    {
     "data": {
      "text/html": [
       "<div>\n",
       "<style scoped>\n",
       "    .dataframe tbody tr th:only-of-type {\n",
       "        vertical-align: middle;\n",
       "    }\n",
       "\n",
       "    .dataframe tbody tr th {\n",
       "        vertical-align: top;\n",
       "    }\n",
       "\n",
       "    .dataframe thead th {\n",
       "        text-align: right;\n",
       "    }\n",
       "</style>\n",
       "<table border=\"1\" class=\"dataframe\">\n",
       "  <thead>\n",
       "    <tr style=\"text-align: right;\">\n",
       "      <th></th>\n",
       "      <th>count</th>\n",
       "      <th>mean</th>\n",
       "      <th>std</th>\n",
       "      <th>min</th>\n",
       "      <th>25%</th>\n",
       "      <th>50%</th>\n",
       "      <th>75%</th>\n",
       "      <th>max</th>\n",
       "    </tr>\n",
       "    <tr>\n",
       "      <th>Success</th>\n",
       "      <th></th>\n",
       "      <th></th>\n",
       "      <th></th>\n",
       "      <th></th>\n",
       "      <th></th>\n",
       "      <th></th>\n",
       "      <th></th>\n",
       "      <th></th>\n",
       "    </tr>\n",
       "  </thead>\n",
       "  <tbody>\n",
       "    <tr>\n",
       "      <th>Fail</th>\n",
       "      <td>634.0</td>\n",
       "      <td>142.13095</td>\n",
       "      <td>104.624622</td>\n",
       "      <td>4.495504</td>\n",
       "      <td>70.846242</td>\n",
       "      <td>122.154167</td>\n",
       "      <td>181.096345</td>\n",
       "      <td>959.959000</td>\n",
       "    </tr>\n",
       "    <tr>\n",
       "      <th>Success</th>\n",
       "      <td>681.0</td>\n",
       "      <td>144.36205</td>\n",
       "      <td>93.946897</td>\n",
       "      <td>0.040000</td>\n",
       "      <td>81.041667</td>\n",
       "      <td>122.255467</td>\n",
       "      <td>181.933333</td>\n",
       "      <td>878.666667</td>\n",
       "    </tr>\n",
       "  </tbody>\n",
       "</table>\n",
       "</div>"
      ],
      "text/plain": [
       "         count       mean         std       min        25%         50%  \\\n",
       "Success                                                                  \n",
       "Fail     634.0  142.13095  104.624622  4.495504  70.846242  122.154167   \n",
       "Success  681.0  144.36205   93.946897  0.040000  81.041667  122.255467   \n",
       "\n",
       "                75%         max  \n",
       "Success                          \n",
       "Fail     181.096345  959.959000  \n",
       "Success  181.933333  878.666667  "
      ]
     },
     "execution_count": 4,
     "metadata": {},
     "output_type": "execute_result"
    }
   ],
   "source": [
    "df.groupby(['Success'])['duration'].describe()"
   ]
  },
  {
   "cell_type": "code",
   "execution_count": 5,
   "metadata": {
    "scrolled": false
   },
   "outputs": [
    {
     "name": "stderr",
     "output_type": "stream",
     "text": [
      "/Users/yonggeol/miniconda3/envs/py/lib/python3.6/site-packages/plotnine/ggplot.py:706: UserWarning: Saving 6.4 x 4.8 in image.\n",
      "  from_inches(height, units), units))\n",
      "/Users/yonggeol/miniconda3/envs/py/lib/python3.6/site-packages/plotnine/ggplot.py:707: UserWarning: Filename: Video duration by success.pdf\n",
      "  warn('Filename: {}'.format(filename))\n"
     ]
    },
    {
     "data": {
      "text/plain": [
       "<Figure size 432x288 with 0 Axes>"
      ]
     },
     "metadata": {},
     "output_type": "display_data"
    },
    {
     "data": {
      "image/png": "[encoded data removed]",
      "text/plain": [
       "<Figure size 640x480 with 1 Axes>"
      ]
     },
     "metadata": {},
     "output_type": "display_data"
    },
    {
     "data": {
      "text/plain": [
       "<ggplot: (7528648291)>"
      ]
     },
     "execution_count": 5,
     "metadata": {},
     "output_type": "execute_result"
    }
   ],
   "source": [
    "fig = plt.figure()\n",
    "# graph 객체 생성\n",
    "# outlier 제거\n",
    "video_duration = ggplot(df, aes(x='Success', y='duration')) \\\n",
    "    + geom_boxplot(aes(fill='Success')) \\\n",
    "    + ggtitle('duration box plot')\n",
    "video_duration.save('Video duration by success.pdf')\n",
    "video_duration"
   ]
  },
  {
   "cell_type": "code",
   "execution_count": 6,
   "metadata": {
    "scrolled": false
   },
   "outputs": [
    {
     "data": {
      "text/html": [
       "<div>\n",
       "<style scoped>\n",
       "    .dataframe tbody tr th:only-of-type {\n",
       "        vertical-align: middle;\n",
       "    }\n",
       "\n",
       "    .dataframe tbody tr th {\n",
       "        vertical-align: top;\n",
       "    }\n",
       "\n",
       "    .dataframe thead th {\n",
       "        text-align: right;\n",
       "    }\n",
       "</style>\n",
       "<table border=\"1\" class=\"dataframe\">\n",
       "  <thead>\n",
       "    <tr style=\"text-align: right;\">\n",
       "      <th></th>\n",
       "      <th></th>\n",
       "      <th>count</th>\n",
       "      <th>mean</th>\n",
       "      <th>std</th>\n",
       "      <th>min</th>\n",
       "      <th>25%</th>\n",
       "      <th>50%</th>\n",
       "      <th>75%</th>\n",
       "      <th>max</th>\n",
       "    </tr>\n",
       "    <tr>\n",
       "      <th>Success</th>\n",
       "      <th>super_category</th>\n",
       "      <th></th>\n",
       "      <th></th>\n",
       "      <th></th>\n",
       "      <th></th>\n",
       "      <th></th>\n",
       "      <th></th>\n",
       "      <th></th>\n",
       "      <th></th>\n",
       "    </tr>\n",
       "  </thead>\n",
       "  <tbody>\n",
       "    <tr>\n",
       "      <th rowspan=\"8\" valign=\"top\">Fail</th>\n",
       "      <th>Arts</th>\n",
       "      <td>42.0</td>\n",
       "      <td>163.845954</td>\n",
       "      <td>141.932087</td>\n",
       "      <td>11.833968</td>\n",
       "      <td>95.064527</td>\n",
       "      <td>128.264633</td>\n",
       "      <td>184.690756</td>\n",
       "      <td>899.160000</td>\n",
       "    </tr>\n",
       "    <tr>\n",
       "      <th>Comics &amp; Illustartion</th>\n",
       "      <td>34.0</td>\n",
       "      <td>114.802874</td>\n",
       "      <td>69.066924</td>\n",
       "      <td>29.333333</td>\n",
       "      <td>66.833283</td>\n",
       "      <td>87.020267</td>\n",
       "      <td>154.500333</td>\n",
       "      <td>279.012067</td>\n",
       "    </tr>\n",
       "    <tr>\n",
       "      <th>Design &amp; Tech</th>\n",
       "      <td>140.0</td>\n",
       "      <td>119.657368</td>\n",
       "      <td>86.209559</td>\n",
       "      <td>4.495504</td>\n",
       "      <td>53.071342</td>\n",
       "      <td>92.968708</td>\n",
       "      <td>170.220000</td>\n",
       "      <td>422.366667</td>\n",
       "    </tr>\n",
       "    <tr>\n",
       "      <th>Film</th>\n",
       "      <td>100.0</td>\n",
       "      <td>179.938593</td>\n",
       "      <td>135.784286</td>\n",
       "      <td>5.960000</td>\n",
       "      <td>100.677083</td>\n",
       "      <td>160.105400</td>\n",
       "      <td>234.880479</td>\n",
       "      <td>959.959000</td>\n",
       "    </tr>\n",
       "    <tr>\n",
       "      <th>Food &amp; Craft</th>\n",
       "      <td>95.0</td>\n",
       "      <td>132.264154</td>\n",
       "      <td>76.479608</td>\n",
       "      <td>13.000000</td>\n",
       "      <td>87.873850</td>\n",
       "      <td>124.266667</td>\n",
       "      <td>171.191854</td>\n",
       "      <td>334.200000</td>\n",
       "    </tr>\n",
       "    <tr>\n",
       "      <th>Games</th>\n",
       "      <td>107.0</td>\n",
       "      <td>127.582217</td>\n",
       "      <td>80.034035</td>\n",
       "      <td>19.419400</td>\n",
       "      <td>73.373317</td>\n",
       "      <td>108.174733</td>\n",
       "      <td>162.283333</td>\n",
       "      <td>593.720000</td>\n",
       "    </tr>\n",
       "    <tr>\n",
       "      <th>Music</th>\n",
       "      <td>35.0</td>\n",
       "      <td>136.863355</td>\n",
       "      <td>121.714474</td>\n",
       "      <td>23.516667</td>\n",
       "      <td>67.630000</td>\n",
       "      <td>111.311200</td>\n",
       "      <td>153.569667</td>\n",
       "      <td>669.627292</td>\n",
       "    </tr>\n",
       "    <tr>\n",
       "      <th>Publishing</th>\n",
       "      <td>81.0</td>\n",
       "      <td>167.576474</td>\n",
       "      <td>112.397591</td>\n",
       "      <td>15.648967</td>\n",
       "      <td>91.364623</td>\n",
       "      <td>144.878067</td>\n",
       "      <td>224.366667</td>\n",
       "      <td>718.684633</td>\n",
       "    </tr>\n",
       "    <tr>\n",
       "      <th rowspan=\"8\" valign=\"top\">Success</th>\n",
       "      <th>Arts</th>\n",
       "      <td>59.0</td>\n",
       "      <td>151.912586</td>\n",
       "      <td>104.155974</td>\n",
       "      <td>0.040000</td>\n",
       "      <td>88.862687</td>\n",
       "      <td>122.288833</td>\n",
       "      <td>189.579167</td>\n",
       "      <td>474.360000</td>\n",
       "    </tr>\n",
       "    <tr>\n",
       "      <th>Comics &amp; Illustartion</th>\n",
       "      <td>89.0</td>\n",
       "      <td>129.633316</td>\n",
       "      <td>72.499356</td>\n",
       "      <td>3.918257</td>\n",
       "      <td>81.000000</td>\n",
       "      <td>115.415300</td>\n",
       "      <td>170.503667</td>\n",
       "      <td>354.187167</td>\n",
       "    </tr>\n",
       "    <tr>\n",
       "      <th>Design &amp; Tech</th>\n",
       "      <td>136.0</td>\n",
       "      <td>127.942523</td>\n",
       "      <td>78.660327</td>\n",
       "      <td>0.040000</td>\n",
       "      <td>79.744875</td>\n",
       "      <td>116.288450</td>\n",
       "      <td>157.081925</td>\n",
       "      <td>587.416667</td>\n",
       "    </tr>\n",
       "    <tr>\n",
       "      <th>Film</th>\n",
       "      <td>68.0</td>\n",
       "      <td>161.688104</td>\n",
       "      <td>85.228289</td>\n",
       "      <td>20.000000</td>\n",
       "      <td>105.824392</td>\n",
       "      <td>145.787308</td>\n",
       "      <td>205.263392</td>\n",
       "      <td>444.291667</td>\n",
       "    </tr>\n",
       "    <tr>\n",
       "      <th>Food &amp; Craft</th>\n",
       "      <td>29.0</td>\n",
       "      <td>122.594658</td>\n",
       "      <td>56.471678</td>\n",
       "      <td>30.764067</td>\n",
       "      <td>72.947875</td>\n",
       "      <td>116.160000</td>\n",
       "      <td>161.953458</td>\n",
       "      <td>240.240000</td>\n",
       "    </tr>\n",
       "    <tr>\n",
       "      <th>Games</th>\n",
       "      <td>150.0</td>\n",
       "      <td>133.417192</td>\n",
       "      <td>103.581172</td>\n",
       "      <td>25.720000</td>\n",
       "      <td>75.581600</td>\n",
       "      <td>106.922324</td>\n",
       "      <td>167.475550</td>\n",
       "      <td>878.666667</td>\n",
       "    </tr>\n",
       "    <tr>\n",
       "      <th>Music</th>\n",
       "      <td>70.0</td>\n",
       "      <td>197.369410</td>\n",
       "      <td>118.905448</td>\n",
       "      <td>7.166667</td>\n",
       "      <td>120.640180</td>\n",
       "      <td>180.064933</td>\n",
       "      <td>246.158333</td>\n",
       "      <td>670.466667</td>\n",
       "    </tr>\n",
       "    <tr>\n",
       "      <th>Publishing</th>\n",
       "      <td>80.0</td>\n",
       "      <td>150.396142</td>\n",
       "      <td>88.118149</td>\n",
       "      <td>23.223200</td>\n",
       "      <td>95.480000</td>\n",
       "      <td>126.326200</td>\n",
       "      <td>195.950000</td>\n",
       "      <td>501.200000</td>\n",
       "    </tr>\n",
       "  </tbody>\n",
       "</table>\n",
       "</div>"
      ],
      "text/plain": [
       "                               count        mean         std        min  \\\n",
       "Success super_category                                                    \n",
       "Fail    Arts                    42.0  163.845954  141.932087  11.833968   \n",
       "        Comics & Illustartion   34.0  114.802874   69.066924  29.333333   \n",
       "        Design & Tech          140.0  119.657368   86.209559   4.495504   \n",
       "        Film                   100.0  179.938593  135.784286   5.960000   \n",
       "        Food & Craft            95.0  132.264154   76.479608  13.000000   \n",
       "        Games                  107.0  127.582217   80.034035  19.419400   \n",
       "        Music                   35.0  136.863355  121.714474  23.516667   \n",
       "        Publishing              81.0  167.576474  112.397591  15.648967   \n",
       "Success Arts                    59.0  151.912586  104.155974   0.040000   \n",
       "        Comics & Illustartion   89.0  129.633316   72.499356   3.918257   \n",
       "        Design & Tech          136.0  127.942523   78.660327   0.040000   \n",
       "        Film                    68.0  161.688104   85.228289  20.000000   \n",
       "        Food & Craft            29.0  122.594658   56.471678  30.764067   \n",
       "        Games                  150.0  133.417192  103.581172  25.720000   \n",
       "        Music                   70.0  197.369410  118.905448   7.166667   \n",
       "        Publishing              80.0  150.396142   88.118149  23.223200   \n",
       "\n",
       "                                      25%         50%         75%         max  \n",
       "Success super_category                                                         \n",
       "Fail    Arts                    95.064527  128.264633  184.690756  899.160000  \n",
       "        Comics & Illustartion   66.833283   87.020267  154.500333  279.012067  \n",
       "        Design & Tech           53.071342   92.968708  170.220000  422.366667  \n",
       "        Film                   100.677083  160.105400  234.880479  959.959000  \n",
       "        Food & Craft            87.873850  124.266667  171.191854  334.200000  \n",
       "        Games                   73.373317  108.174733  162.283333  593.720000  \n",
       "        Music                   67.630000  111.311200  153.569667  669.627292  \n",
       "        Publishing              91.364623  144.878067  224.366667  718.684633  \n",
       "Success Arts                    88.862687  122.288833  189.579167  474.360000  \n",
       "        Comics & Illustartion   81.000000  115.415300  170.503667  354.187167  \n",
       "        Design & Tech           79.744875  116.288450  157.081925  587.416667  \n",
       "        Film                   105.824392  145.787308  205.263392  444.291667  \n",
       "        Food & Craft            72.947875  116.160000  161.953458  240.240000  \n",
       "        Games                   75.581600  106.922324  167.475550  878.666667  \n",
       "        Music                  120.640180  180.064933  246.158333  670.466667  \n",
       "        Publishing              95.480000  126.326200  195.950000  501.200000  "
      ]
     },
     "execution_count": 6,
     "metadata": {},
     "output_type": "execute_result"
    }
   ],
   "source": [
    "df.groupby(['Success','super_category'])['duration'].describe()"
   ]
  },
  {
   "cell_type": "code",
   "execution_count": 7,
   "metadata": {
    "scrolled": false
   },
   "outputs": [
    {
     "name": "stderr",
     "output_type": "stream",
     "text": [
      "/Users/yonggeol/miniconda3/envs/py/lib/python3.6/site-packages/plotnine/ggplot.py:706: UserWarning: Saving 6.4 x 4.8 in image.\n",
      "  from_inches(height, units), units))\n",
      "/Users/yonggeol/miniconda3/envs/py/lib/python3.6/site-packages/plotnine/ggplot.py:707: UserWarning: Filename: Category video duration by success.pdf\n",
      "  warn('Filename: {}'.format(filename))\n"
     ]
    },
    {
     "data": {
      "text/plain": [
       "<Figure size 432x288 with 0 Axes>"
      ]
     },
     "metadata": {},
     "output_type": "display_data"
    },
    {
     "data": {
      "image/png": "[encoded data removed]",
      "text/plain": [
       "<Figure size 640x480 with 2 Axes>"
      ]
     },
     "metadata": {},
     "output_type": "display_data"
    },
    {
     "data": {
      "text/plain": [
       "<ggplot: (-9223372029325114410)>"
      ]
     },
     "execution_count": 7,
     "metadata": {},
     "output_type": "execute_result"
    }
   ],
   "source": [
    "fig = plt.figure()\n",
    "# graph 객체 생성\n",
    "cat_duration = ggplot(df, aes(x='super_category', y='duration')) \\\n",
    "    + geom_boxplot(aes(fill='super_category')) \\\n",
    "    + ggtitle('duration box plot') \\\n",
    "    + facet_wrap('~Success')\n",
    "cat_duration.save('Category video duration by success.pdf')\n",
    "cat_duration"
   ]
  },
  {
   "cell_type": "markdown",
   "metadata": {},
   "source": [
    "## 최종 비디오\n",
    "- 60초 이상 280초 미만"
   ]
  },
  {
   "cell_type": "code",
   "execution_count": 8,
   "metadata": {},
   "outputs": [
    {
     "name": "stdout",
     "output_type": "stream",
     "text": [
      "(1002, 6)\n"
     ]
    }
   ],
   "source": [
    "print(df[(df['duration'] > 60) & (df['duration'] < 280)].shape)\n",
    "Final_video = df[(df['duration'] > 60) & (df['duration'] < 280)]"
   ]
  },
  {
   "cell_type": "code",
   "execution_count": 9,
   "metadata": {},
   "outputs": [
    {
     "data": {
      "text/plain": [
       "Success\n",
       "Fail       459\n",
       "Success    543\n",
       "Name: Success, dtype: int64"
      ]
     },
     "execution_count": 9,
     "metadata": {},
     "output_type": "execute_result"
    }
   ],
   "source": [
    "Final_video.groupby(['Success'])['Success'].count()"
   ]
  },
  {
   "cell_type": "code",
   "execution_count": 10,
   "metadata": {},
   "outputs": [
    {
     "data": {
      "image/png": "[encoded data removed]",
      "text/plain": [
       "<Figure size 432x216 with 1 Axes>"
      ]
     },
     "metadata": {},
     "output_type": "display_data"
    },
    {
     "name": "stdout",
     "output_type": "stream",
     "text": [
      "           group  value\n",
      "fail        fail    459\n",
      "Success  Success    543\n",
      "Sum : 1002\n"
     ]
    }
   ],
   "source": [
    "group = ['fail','Success']\n",
    "value = Final_video.groupby(['Success'])['Success'].count().values\n",
    "pie_df = pd.DataFrame({'group':group,'value':value}, index=['fail','Success'])\n",
    "total_value = pie_df['value'].sum()\n",
    "fig = pie_df.plot(kind='pie',y='value',subplots=True, figsize=(6, 3),colors = ['tomato','yellowgreen'],\\\n",
    "                title= '1,002 projects with video', autopct='%.2f%%', startangle=90,shadow=False,\\\n",
    "                fontsize=10)[0]\n",
    "fig_pie = fig.get_figure()\n",
    "plt.axis('equal')\n",
    "plt.show()\n",
    "\n",
    "fig_pie.savefig('Final_video.pdf')\n",
    "print(pie_df)\n",
    "print('Sum : {0}'.format(pie_df['value'].sum()))"
   ]
  },
  {
   "cell_type": "code",
   "execution_count": 11,
   "metadata": {
    "scrolled": false
   },
   "outputs": [
    {
     "data": {
      "text/html": [
       "<div>\n",
       "<style scoped>\n",
       "    .dataframe tbody tr th:only-of-type {\n",
       "        vertical-align: middle;\n",
       "    }\n",
       "\n",
       "    .dataframe tbody tr th {\n",
       "        vertical-align: top;\n",
       "    }\n",
       "\n",
       "    .dataframe thead th {\n",
       "        text-align: right;\n",
       "    }\n",
       "</style>\n",
       "<table border=\"1\" class=\"dataframe\">\n",
       "  <thead>\n",
       "    <tr style=\"text-align: right;\">\n",
       "      <th></th>\n",
       "      <th></th>\n",
       "      <th>count</th>\n",
       "      <th>mean</th>\n",
       "      <th>std</th>\n",
       "      <th>min</th>\n",
       "      <th>25%</th>\n",
       "      <th>50%</th>\n",
       "      <th>75%</th>\n",
       "      <th>max</th>\n",
       "    </tr>\n",
       "    <tr>\n",
       "      <th>Success</th>\n",
       "      <th>super_category</th>\n",
       "      <th></th>\n",
       "      <th></th>\n",
       "      <th></th>\n",
       "      <th></th>\n",
       "      <th></th>\n",
       "      <th></th>\n",
       "      <th></th>\n",
       "      <th></th>\n",
       "    </tr>\n",
       "  </thead>\n",
       "  <tbody>\n",
       "    <tr>\n",
       "      <th rowspan=\"8\" valign=\"top\">Fail</th>\n",
       "      <th>Arts</th>\n",
       "      <td>33.0</td>\n",
       "      <td>135.484499</td>\n",
       "      <td>45.439715</td>\n",
       "      <td>63.797067</td>\n",
       "      <td>103.436667</td>\n",
       "      <td>127.133333</td>\n",
       "      <td>172.422250</td>\n",
       "      <td>230.666667</td>\n",
       "    </tr>\n",
       "    <tr>\n",
       "      <th>Comics &amp; Illustartion</th>\n",
       "      <td>27.0</td>\n",
       "      <td>133.142353</td>\n",
       "      <td>65.910530</td>\n",
       "      <td>60.875000</td>\n",
       "      <td>73.798725</td>\n",
       "      <td>123.500000</td>\n",
       "      <td>169.523950</td>\n",
       "      <td>279.012067</td>\n",
       "    </tr>\n",
       "    <tr>\n",
       "      <th>Design &amp; Tech</th>\n",
       "      <td>89.0</td>\n",
       "      <td>134.774602</td>\n",
       "      <td>55.938822</td>\n",
       "      <td>61.083333</td>\n",
       "      <td>86.766667</td>\n",
       "      <td>119.135683</td>\n",
       "      <td>175.440000</td>\n",
       "      <td>257.900000</td>\n",
       "    </tr>\n",
       "    <tr>\n",
       "      <th>Film</th>\n",
       "      <td>70.0</td>\n",
       "      <td>163.067055</td>\n",
       "      <td>56.105781</td>\n",
       "      <td>63.104708</td>\n",
       "      <td>115.250000</td>\n",
       "      <td>161.897067</td>\n",
       "      <td>209.791250</td>\n",
       "      <td>270.520250</td>\n",
       "    </tr>\n",
       "    <tr>\n",
       "      <th>Food &amp; Craft</th>\n",
       "      <td>69.0</td>\n",
       "      <td>148.300956</td>\n",
       "      <td>51.186530</td>\n",
       "      <td>77.619208</td>\n",
       "      <td>108.408300</td>\n",
       "      <td>138.104633</td>\n",
       "      <td>174.132292</td>\n",
       "      <td>277.644033</td>\n",
       "    </tr>\n",
       "    <tr>\n",
       "      <th>Games</th>\n",
       "      <td>85.0</td>\n",
       "      <td>130.388688</td>\n",
       "      <td>51.339531</td>\n",
       "      <td>60.018292</td>\n",
       "      <td>90.666667</td>\n",
       "      <td>120.520400</td>\n",
       "      <td>162.666667</td>\n",
       "      <td>276.541667</td>\n",
       "    </tr>\n",
       "    <tr>\n",
       "      <th>Music</th>\n",
       "      <td>25.0</td>\n",
       "      <td>122.186594</td>\n",
       "      <td>40.100225</td>\n",
       "      <td>60.890005</td>\n",
       "      <td>87.128708</td>\n",
       "      <td>133.233100</td>\n",
       "      <td>152.819333</td>\n",
       "      <td>206.900000</td>\n",
       "    </tr>\n",
       "    <tr>\n",
       "      <th>Publishing</th>\n",
       "      <td>61.0</td>\n",
       "      <td>165.112729</td>\n",
       "      <td>58.440331</td>\n",
       "      <td>67.434033</td>\n",
       "      <td>112.378933</td>\n",
       "      <td>173.766667</td>\n",
       "      <td>222.622400</td>\n",
       "      <td>273.533333</td>\n",
       "    </tr>\n",
       "    <tr>\n",
       "      <th rowspan=\"8\" valign=\"top\">Success</th>\n",
       "      <th>Arts</th>\n",
       "      <td>43.0</td>\n",
       "      <td>137.061799</td>\n",
       "      <td>48.364895</td>\n",
       "      <td>61.640000</td>\n",
       "      <td>103.203100</td>\n",
       "      <td>123.583333</td>\n",
       "      <td>160.585425</td>\n",
       "      <td>255.797208</td>\n",
       "    </tr>\n",
       "    <tr>\n",
       "      <th>Comics &amp; Illustartion</th>\n",
       "      <td>71.0</td>\n",
       "      <td>131.931080</td>\n",
       "      <td>48.734301</td>\n",
       "      <td>61.000000</td>\n",
       "      <td>91.450133</td>\n",
       "      <td>121.354567</td>\n",
       "      <td>166.268500</td>\n",
       "      <td>268.142875</td>\n",
       "    </tr>\n",
       "    <tr>\n",
       "      <th>Design &amp; Tech</th>\n",
       "      <td>110.0</td>\n",
       "      <td>129.835613</td>\n",
       "      <td>46.251555</td>\n",
       "      <td>61.561500</td>\n",
       "      <td>93.681087</td>\n",
       "      <td>124.090633</td>\n",
       "      <td>157.465642</td>\n",
       "      <td>267.058458</td>\n",
       "    </tr>\n",
       "    <tr>\n",
       "      <th>Film</th>\n",
       "      <td>55.0</td>\n",
       "      <td>152.520597</td>\n",
       "      <td>52.559456</td>\n",
       "      <td>65.920000</td>\n",
       "      <td>112.796017</td>\n",
       "      <td>145.728917</td>\n",
       "      <td>192.391167</td>\n",
       "      <td>260.041667</td>\n",
       "    </tr>\n",
       "    <tr>\n",
       "      <th>Food &amp; Craft</th>\n",
       "      <td>26.0</td>\n",
       "      <td>131.742860</td>\n",
       "      <td>52.150995</td>\n",
       "      <td>61.600000</td>\n",
       "      <td>99.887990</td>\n",
       "      <td>119.777992</td>\n",
       "      <td>169.613365</td>\n",
       "      <td>240.240000</td>\n",
       "    </tr>\n",
       "    <tr>\n",
       "      <th>Games</th>\n",
       "      <td>122.0</td>\n",
       "      <td>126.015667</td>\n",
       "      <td>54.029205</td>\n",
       "      <td>60.950000</td>\n",
       "      <td>80.713967</td>\n",
       "      <td>113.036500</td>\n",
       "      <td>164.539100</td>\n",
       "      <td>277.277000</td>\n",
       "    </tr>\n",
       "    <tr>\n",
       "      <th>Music</th>\n",
       "      <td>51.0</td>\n",
       "      <td>172.328338</td>\n",
       "      <td>59.928766</td>\n",
       "      <td>60.314348</td>\n",
       "      <td>123.301298</td>\n",
       "      <td>174.333333</td>\n",
       "      <td>225.312588</td>\n",
       "      <td>274.720000</td>\n",
       "    </tr>\n",
       "    <tr>\n",
       "      <th>Publishing</th>\n",
       "      <td>65.0</td>\n",
       "      <td>141.875764</td>\n",
       "      <td>55.593611</td>\n",
       "      <td>60.018292</td>\n",
       "      <td>101.250000</td>\n",
       "      <td>127.193733</td>\n",
       "      <td>179.312467</td>\n",
       "      <td>270.266667</td>\n",
       "    </tr>\n",
       "  </tbody>\n",
       "</table>\n",
       "</div>"
      ],
      "text/plain": [
       "                               count        mean        std        min  \\\n",
       "Success super_category                                                   \n",
       "Fail    Arts                    33.0  135.484499  45.439715  63.797067   \n",
       "        Comics & Illustartion   27.0  133.142353  65.910530  60.875000   \n",
       "        Design & Tech           89.0  134.774602  55.938822  61.083333   \n",
       "        Film                    70.0  163.067055  56.105781  63.104708   \n",
       "        Food & Craft            69.0  148.300956  51.186530  77.619208   \n",
       "        Games                   85.0  130.388688  51.339531  60.018292   \n",
       "        Music                   25.0  122.186594  40.100225  60.890005   \n",
       "        Publishing              61.0  165.112729  58.440331  67.434033   \n",
       "Success Arts                    43.0  137.061799  48.364895  61.640000   \n",
       "        Comics & Illustartion   71.0  131.931080  48.734301  61.000000   \n",
       "        Design & Tech          110.0  129.835613  46.251555  61.561500   \n",
       "        Film                    55.0  152.520597  52.559456  65.920000   \n",
       "        Food & Craft            26.0  131.742860  52.150995  61.600000   \n",
       "        Games                  122.0  126.015667  54.029205  60.950000   \n",
       "        Music                   51.0  172.328338  59.928766  60.314348   \n",
       "        Publishing              65.0  141.875764  55.593611  60.018292   \n",
       "\n",
       "                                      25%         50%         75%         max  \n",
       "Success super_category                                                         \n",
       "Fail    Arts                   103.436667  127.133333  172.422250  230.666667  \n",
       "        Comics & Illustartion   73.798725  123.500000  169.523950  279.012067  \n",
       "        Design & Tech           86.766667  119.135683  175.440000  257.900000  \n",
       "        Film                   115.250000  161.897067  209.791250  270.520250  \n",
       "        Food & Craft           108.408300  138.104633  174.132292  277.644033  \n",
       "        Games                   90.666667  120.520400  162.666667  276.541667  \n",
       "        Music                   87.128708  133.233100  152.819333  206.900000  \n",
       "        Publishing             112.378933  173.766667  222.622400  273.533333  \n",
       "Success Arts                   103.203100  123.583333  160.585425  255.797208  \n",
       "        Comics & Illustartion   91.450133  121.354567  166.268500  268.142875  \n",
       "        Design & Tech           93.681087  124.090633  157.465642  267.058458  \n",
       "        Film                   112.796017  145.728917  192.391167  260.041667  \n",
       "        Food & Craft            99.887990  119.777992  169.613365  240.240000  \n",
       "        Games                   80.713967  113.036500  164.539100  277.277000  \n",
       "        Music                  123.301298  174.333333  225.312588  274.720000  \n",
       "        Publishing             101.250000  127.193733  179.312467  270.266667  "
      ]
     },
     "execution_count": 11,
     "metadata": {},
     "output_type": "execute_result"
    }
   ],
   "source": [
    "Final_video.groupby(['Success','super_category'])['duration'].describe()"
   ]
  },
  {
   "cell_type": "code",
   "execution_count": 12,
   "metadata": {},
   "outputs": [
    {
     "name": "stderr",
     "output_type": "stream",
     "text": [
      "/Users/yonggeol/miniconda3/envs/py/lib/python3.6/site-packages/plotnine/ggplot.py:706: UserWarning: Saving 6.4 x 4.8 in image.\n",
      "  from_inches(height, units), units))\n",
      "/Users/yonggeol/miniconda3/envs/py/lib/python3.6/site-packages/plotnine/ggplot.py:707: UserWarning: Filename: Final Video duration by success.pdf\n",
      "  warn('Filename: {}'.format(filename))\n"
     ]
    },
    {
     "data": {
      "text/plain": [
       "<Figure size 432x288 with 0 Axes>"
      ]
     },
     "metadata": {},
     "output_type": "display_data"
    },
    {
     "data": {
      "image/png": "[encoded data removed]",
      "text/plain": [
       "<Figure size 640x480 with 1 Axes>"
      ]
     },
     "metadata": {},
     "output_type": "display_data"
    },
    {
     "data": {
      "text/plain": [
       "<ggplot: (7530234737)>"
      ]
     },
     "execution_count": 12,
     "metadata": {},
     "output_type": "execute_result"
    }
   ],
   "source": [
    "fig = plt.figure()\n",
    "# graph 객체 생성\n",
    "# outlier 제거\n",
    "video_duration = ggplot(Final_video, aes(x='Success', y='duration')) \\\n",
    "    + geom_boxplot(aes(fill='Success')) \\\n",
    "    + ggtitle('duration box plot')\n",
    "video_duration.save('Final Video duration by success.pdf')\n",
    "video_duration"
   ]
  },
  {
   "cell_type": "code",
   "execution_count": 13,
   "metadata": {
    "scrolled": false
   },
   "outputs": [
    {
     "name": "stderr",
     "output_type": "stream",
     "text": [
      "/Users/yonggeol/miniconda3/envs/py/lib/python3.6/site-packages/plotnine/ggplot.py:706: UserWarning: Saving 6.4 x 4.8 in image.\n",
      "  from_inches(height, units), units))\n",
      "/Users/yonggeol/miniconda3/envs/py/lib/python3.6/site-packages/plotnine/ggplot.py:707: UserWarning: Filename: Final Category video duration by success.pdf\n",
      "  warn('Filename: {}'.format(filename))\n"
     ]
    },
    {
     "data": {
      "text/plain": [
       "<Figure size 432x288 with 0 Axes>"
      ]
     },
     "metadata": {},
     "output_type": "display_data"
    },
    {
     "data": {
      "image/png": "[encoded data removed]",
      "text/plain": [
       "<Figure size 640x480 with 2 Axes>"
      ]
     },
     "metadata": {},
     "output_type": "display_data"
    },
    {
     "data": {
      "text/plain": [
       "<ggplot: (-9223372029324537421)>"
      ]
     },
     "execution_count": 13,
     "metadata": {},
     "output_type": "execute_result"
    }
   ],
   "source": [
    "fig = plt.figure()\n",
    "# graph 객체 생성\n",
    "cat_duration = ggplot(Final_video, aes(x='super_category', y='duration')) \\\n",
    "    + geom_boxplot(aes(fill='super_category')) \\\n",
    "    + ggtitle('duration box plot') \\\n",
    "    + facet_wrap('~Success')\n",
    "cat_duration.save('Final Category video duration by success.pdf')\n",
    "cat_duration"
   ]
  },
  {
   "cell_type": "markdown",
   "metadata": {},
   "source": [
    "## 최종 Data 저장"
   ]
  },
  {
   "cell_type": "code",
   "execution_count": 14,
   "metadata": {},
   "outputs": [],
   "source": [
    "Final_video.to_csv('Final_Data.csv',index=False,encoding='utf-16')"
   ]
  }
 ],
 "metadata": {
  "kernelspec": {
   "display_name": "Python 3",
   "language": "python",
   "name": "python3"
  },
  "language_info": {
   "codemirror_mode": {
    "name": "ipython",
    "version": 3
   },
   "file_extension": ".py",
   "mimetype": "text/x-python",
   "name": "python",
   "nbconvert_exporter": "python",
   "pygments_lexer": "ipython3",
   "version": "3.6.7"
  }
 },
 "nbformat": 4,
 "nbformat_minor": 2
}
